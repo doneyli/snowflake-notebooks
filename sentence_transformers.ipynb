{
 "cells": [
  {
   "cell_type": "markdown",
   "metadata": {},
   "source": [
    "## Sentence Transformer Models with Snowpark\n",
    "\n",
    "This is a common enough use case of using different embedding models in Snowflake, so here is a notebook to get started.\n",
    "\n",
    "I used sentence transfomers version 2.2.2 and this didn't work with 2.7.0 when I ran it in May 2024.\n",
    "\n",
    "This is based on example from Michael Gorkow - [Sentence Transformers using the Model Registry](https://medium.com/@michaelgorkow/custom-embedding-models-from-hugging-face-in-snowflake-fd9cc79e25c8).\n",
    "\n",
    "If you need to make a custom embedding model, because of the versioning issues, you can use the [following example of Arctic embedding](https://github.com/michaelgorkow/snowflake_huggingface/blob/main/arctic_embeddings_snowflake.ipynb).\n"
   ]
  },
  {
   "cell_type": "code",
   "execution_count": 15,
   "metadata": {},
   "outputs": [],
   "source": [
    "from snowflake.snowpark.session import Session\n",
    "# Create a Snowpark session with a default connection.\n",
    "session = Session.builder.create()"
   ]
  },
  {
   "cell_type": "code",
   "execution_count": 16,
   "metadata": {},
   "outputs": [
    {
     "name": "stdout",
     "output_type": "stream",
     "text": [
      "User                        : RSHAH\n",
      "Role                        : \"RAJIV\"\n",
      "Database                    : \"RAJIV\"\n",
      "Schema                      : \"PUBLIC\"\n",
      "Warehouse                   : \"RAJIV\"\n",
      "Snowflake version           : 8.20.0\n",
      "Snowpark for Python version : 1.15.0a1\n"
     ]
    }
   ],
   "source": [
    "snowflake_environment = session.sql('select current_user(), current_version()').collect()\n",
    "from snowflake.snowpark.version import VERSION\n",
    "snowpark_version = VERSION\n",
    "\n",
    "# Current Environment Details\n",
    "print('User                        : {}'.format(snowflake_environment[0][0]))\n",
    "print('Role                        : {}'.format(session.get_current_role()))\n",
    "print('Database                    : {}'.format(session.get_current_database()))\n",
    "print('Schema                      : {}'.format(session.get_current_schema()))\n",
    "print('Warehouse                   : {}'.format(session.get_current_warehouse()))\n",
    "print('Snowflake version           : {}'.format(snowflake_environment[0][1]))\n",
    "print('Snowpark for Python version : {}.{}.{}'.format(snowpark_version[0],snowpark_version[1],snowpark_version[2]))"
   ]
  },
  {
   "cell_type": "code",
   "execution_count": 17,
   "metadata": {},
   "outputs": [],
   "source": [
    "from sentence_transformers import SentenceTransformer \n",
    "from snowflake.ml.model.model_signature import FeatureSpec, DataType, ModelSignature\n",
    "# Get the model registry object\n",
    "from snowflake.ml.registry import Registry\n",
    "\n",
    "reg = Registry(\n",
    "    session=session, \n",
    "    database_name=session.get_current_database(), \n",
    "    schema_name=session.get_current_schema()\n",
    "    )\n",
    "\n",
    "model = SentenceTransformer(\"sentence-transformers/all-MiniLM-L6-v2\" )"
   ]
  },
  {
   "cell_type": "code",
   "execution_count": 18,
   "metadata": {},
   "outputs": [],
   "source": [
    "# In this example the output column will be called EMBEDDING \n",
    "model_sig = ModelSignature(\n",
    "                  inputs=[\n",
    "                          FeatureSpec(dtype=DataType.STRING, name='TEXT') ###Change this to match your text field \n",
    "                      ],\n",
    "                      outputs=[\n",
    "                          FeatureSpec(dtype=DataType.DOUBLE, name='EMBEDDING', shape=(384,))\n",
    "                      ]\n",
    "                  )"
   ]
  },
  {
   "cell_type": "code",
   "execution_count": 20,
   "metadata": {},
   "outputs": [
    {
     "name": "stderr",
     "output_type": "stream",
     "text": [
      "/Users/rajishah/anaconda3/envs/working38/lib/python3.8/contextlib.py:113: UserWarning: `relax_version` is not set and therefore defaulted to True. Dependency version constraints relaxed from ==x.y.z to >=x.y, <(x+1). To use specific dependency versions for compatibility, reproducibility, etc., set `options={'relax_version': False}` when logging the model.\n",
      "  return next(self.gen)\n"
     ]
    }
   ],
   "source": [
    "# Register the model to Snowflake\n",
    "snow_model_custom = reg.log_model(\n",
    "    model, \n",
    "    version_name='V_8',\n",
    "    model_name='all_MiniLM_L6_v2', \n",
    "    signatures={'encode':model_sig}\n",
    "    )"
   ]
  },
  {
   "cell_type": "markdown",
   "metadata": {},
   "source": [
    "Text we will get embeddings for:"
   ]
  },
  {
   "cell_type": "code",
   "execution_count": null,
   "metadata": {},
   "outputs": [
    {
     "name": "stdout",
     "output_type": "stream",
     "text": [
      "----------------------------------------------------------------\n",
      "|\"TEXT\"                                              |\"LABEL\"  |\n",
      "----------------------------------------------------------------\n",
      "|Monarch Cove was one of the best Friday night's...  |1        |\n",
      "|Not only did they get the characters all wrong,...  |0        |\n",
      "|By no means my favourite Austen novel, and Palt...  |1        |\n",
      "|I first saw this film when I was flipping throu...  |1        |\n",
      "|I watched this film last night with anticipatio...  |0        |\n",
      "|As I have matured, my fascination with the Acad...  |1        |\n",
      "|Ned Kelly (Ledger), the infamous Australian out...  |0        |\n",
      "|With the death of GEORGE NADER, on 4 February 2...  |1        |\n",
      "|A lot of talk has been made about \"psychologica...  |1        |\n",
      "|When his in-laws are viciously murdered by a ga...  |0        |\n",
      "----------------------------------------------------------------\n",
      "\n"
     ]
    }
   ],
   "source": [
    "df = session.table('IMDB_SAMPLE')\n",
    "df.show()"
   ]
  },
  {
   "cell_type": "markdown",
   "metadata": {},
   "source": [
    "Now with embeddings"
   ]
  },
  {
   "cell_type": "code",
   "execution_count": 28,
   "metadata": {},
   "outputs": [
    {
     "name": "stdout",
     "output_type": "stream",
     "text": [
      "---------------------------------------------------------------------------------------------------------------------\n",
      "|\"TEXT\"                                              |\"LABEL\"  |\"EMBEDDING\"                                         |\n",
      "---------------------------------------------------------------------------------------------------------------------\n",
      "|Monarch Cove was one of the best Friday night's...  |1        |[-0.1078076884150505, -0.07621019333600998, 0.0...  |\n",
      "|Not only did they get the characters all wrong,...  |0        |[-0.0718730241060257, -0.0075439647771418095, 0...  |\n",
      "|By no means my favourite Austen novel, and Palt...  |1        |[-0.06701567769050598, -0.10788971185684204, -0...  |\n",
      "|I first saw this film when I was flipping throu...  |1        |[-0.08029511570930481, 0.023791490122675896, -0...  |\n",
      "|I watched this film last night with anticipatio...  |0        |[-0.02025693468749523, -0.029329409822821617, 0...  |\n",
      "|As I have matured, my fascination with the Acad...  |1        |[-0.08968719094991684, 0.04404687508940697, -0....  |\n",
      "|Ned Kelly (Ledger), the infamous Australian out...  |0        |[-0.061162132769823074, 0.042169224470853806, -...  |\n",
      "|With the death of GEORGE NADER, on 4 February 2...  |1        |[-0.055645689368247986, 0.016770705580711365, -...  |\n",
      "|A lot of talk has been made about \"psychologica...  |1        |[-0.05954590439796448, -0.10246358811855316, -0...  |\n",
      "|When his in-laws are viciously murdered by a ga...  |0        |[-0.09506426006555557, -0.019496213644742966, -...  |\n",
      "---------------------------------------------------------------------------------------------------------------------\n",
      "\n"
     ]
    }
   ],
   "source": [
    "from snowflake.snowpark.functions import col\n",
    "from snowflake.snowpark import types as T\n",
    "from snowflake.snowpark import functions as F\n",
    "\n",
    "\n",
    "# Create Embeddings from Huggingface Model\n",
    "embedding_df = snow_model_custom.run(df)\n",
    "# We have to convert the output of the Huggingface model to Snowflake's Vector Datatype\n",
    "embedding_df = embedding_df.with_column('EMBEDDING', F.col('EMBEDDING').cast(T.VectorType(float,384)))\n",
    "embedding_df.show()"
   ]
  },
  {
   "cell_type": "markdown",
   "metadata": {},
   "source": [
    "Take advantage of the Cortex functions in Snowflake, like for distance"
   ]
  },
  {
   "cell_type": "code",
   "execution_count": 29,
   "metadata": {},
   "outputs": [
    {
     "name": "stdout",
     "output_type": "stream",
     "text": [
      "---------------------------------------------------------------------------------------------------------------------------------------\n",
      "|\"TEXT\"                                                                                                |\"LABEL\"  |\"VECTOR_DISTANCE\"   |\n",
      "---------------------------------------------------------------------------------------------------------------------------------------\n",
      "|By no means my favourite Austen novel, and Paltrow is by no means my favourite actress, but I fou...  |1        |1.156562608266896   |\n",
      "|Ned Kelly (Ledger), the infamous Australian outlaw and legend. Sort of like Robin Hood, with a mi...  |0        |1.200213786790789   |\n",
      "|Monarch Cove was one of the best Friday night's drama shown in a long time.I am asking the writer...  |1        |1.2160948661672624  |\n",
      "|I first saw this film when I was flipping through the movie channels on my parents DirecTV. It wa...  |1        |1.2551056541560486  |\n",
      "|As I have matured, my fascination with the Academy Awards has evolved from intense interest to ca...  |1        |1.2633278804517105  |\n",
      "|A lot of talk has been made about \"psychological Westerns\", but this is one of the very few that ...  |1        |1.2748968269640788  |\n",
      "|When his in-laws are viciously murdered by a gang of thugs, a young deputy is ordered to escort h...  |0        |1.2856922365371815  |\n",
      "|I watched this film last night with anticipation, but really wasn't very impressed.<br /><br />Wi...  |0        |1.2887312954896717  |\n",
      "|With the death of GEORGE NADER, on 4 February 2002, I thought of this most interesting program, w...  |1        |1.3046527332539115  |\n",
      "|Not only did they get the characters all wrong, not only do the voices suck, not only do the writ...  |0        |1.3084624722805684  |\n",
      "---------------------------------------------------------------------------------------------------------------------------------------\n",
      "\n"
     ]
    }
   ],
   "source": [
    "# Finally we can calculate the distance between all the embeddings \n",
    "# and our search vector\n",
    "\n",
    "search_text = \"The movie HER is a great movie about AI and love\"\n",
    "closest_texts = embedding_df.with_column(\n",
    "    'VECTOR_DISTANCE', \n",
    "    F.vector_l2_distance(\n",
    "        F.col('EMBEDDING'), \n",
    "        F.call_builtin('all_MiniLM_L6_v2!ENCODE', \n",
    "            F.lit(search_text))['EMBEDDING'].cast(T.VectorType(float,384))\n",
    "    )\n",
    ").cache_result()\n",
    "\n",
    "# As we can see, all of the closest texts are AI related like our search vector\n",
    "closest_texts.order_by('VECTOR_DISTANCE').drop('EMBEDDING').show(max_width=100)"
   ]
  },
  {
   "cell_type": "markdown",
   "metadata": {},
   "source": [
    "Test data if you need some"
   ]
  },
  {
   "cell_type": "code",
   "execution_count": null,
   "metadata": {},
   "outputs": [],
   "source": [
    "# Create some test data to work with\n",
    "ai_texts_german = [\n",
    "    \"KI revolutioniert die Geschäftsanalytik, indem sie tiefere Einblicke in Daten bietet.\",\n",
    "    \"Unternehmen nutzen KI, um die Analyse und Interpretation komplexer Datensätze zu transformieren.\",\n",
    "    \"Mit KI können Unternehmen nun große Datenmengen verstehen, um die Entscheidungsfindung zu verbessern.\",\n",
    "    \"Künstliche Intelligenz ist ein Schlüsselwerkzeug für Unternehmen, die ihre Datenanalyse verbessern möchten.\",\n",
    "    \"Der Einsatz von KI in Unternehmen hilft dabei, bedeutungsvolle Informationen aus großen Datensätzen zu extrahieren.\"\n",
    "]\n",
    "\n",
    "different_texts_german = [\n",
    "    \"Der große Weiße Hai ist einer der mächtigsten Raubtiere des Ozeans.\",\n",
    "    \"Van Goghs Sternennacht stellt die Aussicht aus seinem Zimmer in der Anstalt bei Nacht dar.\",\n",
    "    \"Quantencomputing könnte potenziell viele der derzeit verwendeten kryptografischen Systeme brechen.\",\n",
    "    \"Die brasilianische Küche ist bekannt für ihre Vielfalt und Reichhaltigkeit, beeinflusst von Europa, Afrika und den amerindischen Kulturen.\",\n",
    "    \"Das schnellste Landtier, der Gepard, erreicht Geschwindigkeiten von bis zu 120 km/h.\"\n",
    "]\n",
    " \n",
    "search_text = \"Maschinelles Lernen ist eine unverzichtbare Ressource für Unternehmen, die ihre Dateneinblicke verbessern möchten.\"\n",
    "\n",
    "df = session.create_dataframe(ai_texts_german+different_texts_german, schema=['TEXT'])"
   ]
  }
 ],
 "metadata": {
  "kernelspec": {
   "display_name": "working38",
   "language": "python",
   "name": "python3"
  },
  "language_info": {
   "codemirror_mode": {
    "name": "ipython",
    "version": 3
   },
   "file_extension": ".py",
   "mimetype": "text/x-python",
   "name": "python",
   "nbconvert_exporter": "python",
   "pygments_lexer": "ipython3",
   "version": "3.8.18"
  }
 },
 "nbformat": 4,
 "nbformat_minor": 2
}
