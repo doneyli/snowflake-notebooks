{
 "cells": [
  {
   "cell_type": "markdown",
   "metadata": {},
   "source": [
    "## Let's show how to use Cortex in Python\n",
    "\n",
    "How to get started with Cortex in Python both individual queries and working with tables in Snowflake.\n",
    "\n",
    "Related Docs:\n",
    "https://docs.snowflake.com/en/sql-reference/functions/complete-snowflake-cortex"
   ]
  },
  {
   "cell_type": "code",
   "execution_count": 6,
   "metadata": {},
   "outputs": [],
   "source": [
    "# Snowpark for Python\n",
    "from snowflake.snowpark.session import Session\n",
    "from snowflake.snowpark.types import Variant\n",
    "from snowflake.snowpark.version import VERSION\n",
    "\n",
    "# Snowpark ML\n",
    "# Misc\n",
    "import pandas as pd\n",
    "import json\n",
    "import logging \n",
    "logger = logging.getLogger(\"snowflake.snowpark.session\")\n",
    "logger.setLevel(logging.ERROR)\n",
    "\n",
    "from snowflake import connector\n",
    "from snowflake.ml.utils import connection_params"
   ]
  },
  {
   "cell_type": "code",
   "execution_count": 7,
   "metadata": {},
   "outputs": [],
   "source": [
    "with open('../creds.json') as f:\n",
    "    data = json.load(f)\n",
    "    USERNAME = data['user']\n",
    "    PASSWORD = data['password']\n",
    "    SF_ACCOUNT = data['account']\n",
    "    SF_WH = data['warehouse']\n",
    "\n",
    "CONNECTION_PARAMETERS = {\n",
    "   \"account\": SF_ACCOUNT,\n",
    "   \"user\": USERNAME,\n",
    "   \"password\": PASSWORD,\n",
    "}\n",
    "\n",
    "session = Session.builder.configs(CONNECTION_PARAMETERS).create()"
   ]
  },
  {
   "cell_type": "code",
   "execution_count": 29,
   "metadata": {},
   "outputs": [
    {
     "name": "stdout",
     "output_type": "stream",
     "text": [
      "'User                        : RSHAH'\n",
      "'Role                        : \"RAJIV\"'\n",
      "'Database                    : \"RAJIV\"'\n",
      "'Schema                      : \"PUBLIC\"'\n",
      "'Warehouse                   : \"RAJIV\"'\n",
      "'Snowflake version           : 8.9.1'\n",
      "'Snowpark for Python version : 1.11.1'\n",
      "'Snowflake ML version : 1.2.2'\n"
     ]
    }
   ],
   "source": [
    "snowflake_environment = session.sql('select current_user(), current_version()').collect()\n",
    "snowpark_version = VERSION\n",
    "\n",
    "from snowflake.ml import version\n",
    "mlversion = version.VERSION\n",
    "\n",
    "\n",
    "# Current Environment Details\n",
    "print('User                        : {}'.format(snowflake_environment[0][0]))\n",
    "print('Role                        : {}'.format(session.get_current_role()))\n",
    "print('Database                    : {}'.format(session.get_current_database()))\n",
    "print('Schema                      : {}'.format(session.get_current_schema()))\n",
    "print('Warehouse                   : {}'.format(session.get_current_warehouse()))\n",
    "print('Snowflake version           : {}'.format(snowflake_environment[0][1]))\n",
    "print('Snowpark for Python version : {}.{}.{}'.format(snowpark_version[0],snowpark_version[1],snowpark_version[2]))\n",
    "print('Snowflake ML version : {}.{}.{}'.format(mlversion[0],mlversion[2],mlversion[4]))"
   ]
  },
  {
   "cell_type": "markdown",
   "metadata": {},
   "source": [
    "## Run all the cortex functions"
   ]
  },
  {
   "cell_type": "code",
   "execution_count": 5,
   "metadata": {},
   "outputs": [
    {
     "name": "stderr",
     "output_type": "stream",
     "text": [
      "Complete() is experimental since 1.0.12. Do not use it in production. \n",
      "ExtractAnswer() is experimental since 1.0.12. Do not use it in production. \n"
     ]
    },
    {
     "name": "stdout",
     "output_type": "stream",
     "text": [
      " Snowflakes get their unique patterns through a process called crystallization, which occurs when water vapor in the air freezes into ice crystals. As the water vapor freezes, it forms a nucleus, which is a small cluster of water molecules that acts as a center around which the crystal will grow. The nucleus is typically made up of a few hundred water molecules, and it can be formed in various ways, such as through the condensation of water vapor onto a dust particle or the collision of two water molecules.\n",
      "\n",
      "Once the nucleus has formed, it begins to grow as water vapor in the air condenses onto it, forming a crystal lattice structure. The lattice structure is made up of a repeating pattern of water molecules that are arranged in a specific way, with each molecule bonded to its neighbors through hydrogen bonds. The unique pattern of the snowflake is determined by the way the water molecules arrange themselves in the lattice structure, and this is influenced by a number of factors, including the temperature, humidity, and wind conditions in the air.\n",
      "\n",
      "One of the key factors that influences the formation of snowflake patterns is the temperature at which the crystal lattice forms. At warmer temperatures, the water molecules have more energy and are able to move more freely, which allows them to form more complex and intricate patterns. At colder temperatures, the water molecules have less energy and are more rigid, resulting in simpler patterns.\n",
      "\n",
      "Another factor that affects the formation of snowflake patterns is the presence of impurities in the air. Impurities, such as dust particles or pollen, can act as nucleators, which means that they provide a surface for the water vapor to condense onto and form a nucleus. The presence of impurities can also affect the growth of the crystal lattice, leading to the formation of more complex patterns.\n",
      "\n",
      "Finally, the wind conditions in the air can also influence the formation of snowflake patterns. Wind can cause the snowflakes to collide with other particles in the air, which can alter their shape and size. Additionally, wind can cause the snowflakes to fall through different layers of air with different temperatures and humidity levels, which can also affect their formation.\n",
      "\n",
      "Overall, the unique patterns of snowflakes are the result of a complex interplay between temperature, humidity, impurities, and wind conditions in the air. While we can't predict exactly what pattern a snowflake will have, we can understand the factors that influence its formation and appreciate the beauty and uniqueness of each individual snowflake.\n"
     ]
    },
    {
     "name": "stderr",
     "output_type": "stream",
     "text": [
      "Sentiment() is experimental since 1.0.12. Do not use it in production. \n"
     ]
    },
    {
     "name": "stdout",
     "output_type": "stream",
     "text": [
      "[\n",
      "  {\n",
      "    \"answer\": \"2012\",\n",
      "    \"score\": 0.9998274\n",
      "  }\n",
      "]\n"
     ]
    },
    {
     "name": "stderr",
     "output_type": "stream",
     "text": [
      "Summarize() is experimental since 1.0.12. Do not use it in production. \n"
     ]
    },
    {
     "name": "stdout",
     "output_type": "stream",
     "text": [
      "0.8329001\n"
     ]
    },
    {
     "name": "stderr",
     "output_type": "stream",
     "text": [
      "Translate() is experimental since 1.0.12. Do not use it in production. \n"
     ]
    },
    {
     "name": "stdout",
     "output_type": "stream",
     "text": [
      "The Snowflake company was founded by Thierry Cruanes, Marcin Zukowski, Bob Muglia, and Benoit Dageville in 2012 and is based in Bozeman, Montana.\n",
      "La société Snowflake a été fondée en 2012 par Thierry Cruanes, Marcin Zukowski, Bob Muglia et Benoit Dageville et a son siège social à Bozeman, au Montana.\n"
     ]
    }
   ],
   "source": [
    "from snowflake.cortex import Complete, ExtractAnswer, Sentiment, Summarize, Translate\n",
    "\n",
    "text = \"\"\"\n",
    "    The Snowflake company was co-founded by Thierry Cruanes, Marcin Zukowski,\n",
    "    Bob Muglia, and Benoit Dageville in 2012 and is headquartered in Bozeman,\n",
    "    Montana.\n",
    "\"\"\"\n",
    "\n",
    "print(Complete(\"llama2-70b-chat\", \"how do snowflakes get their unique patterns?\"))\n",
    "print(ExtractAnswer(text, \"When was snowflake founded?\"))\n",
    "print(Sentiment(\"I really enjoyed this restaurant. Fantastic service!\"))\n",
    "print(Summarize(text))\n",
    "print(Translate(text, \"en\", \"fr\"))"
   ]
  },
  {
   "cell_type": "code",
   "execution_count": 6,
   "metadata": {},
   "outputs": [
    {
     "name": "stdout",
     "output_type": "stream",
     "text": [
      " Snowflakes get their unique patterns through a process called crystallization, which occurs when water vapor in the air freezes into ice crystals. As the water vapor freezes, it forms a nucleus, which is a small cluster of water molecules that acts as a center around which the crystal will grow. The nucleus is typically made up of a few hundred water molecules, and it can be formed in various ways, such as through the condensation of water vapor onto a dust particle or the collision of two water molecules.\n",
      "\n",
      "Once the nucleus has formed, it begins to grow as water vapor in the air condenses onto it, forming a crystal lattice structure. The lattice structure is made up of a repeating pattern of water molecules that are arranged in a specific way, with each molecule bonded to its neighbors through hydrogen bonds. The unique pattern of the snowflake is determined by the way the water molecules arrange themselves in the lattice structure, and this is influenced by a number of factors, including the temperature, humidity, and wind conditions in the air.\n",
      "\n",
      "One of the key factors that influences the formation of snowflake patterns is the temperature at which the crystal lattice forms. At warmer temperatures, the water molecules have more energy and are able to move more freely, which allows them to form more complex and intricate patterns. At colder temperatures, the water molecules have less energy and are more rigid, resulting in simpler patterns.\n",
      "\n",
      "Another factor that affects the formation of snowflake patterns is the presence of impurities in the air. Impurities, such as dust particles or pollen, can act as nucleators, which means that they provide a surface for the water vapor to condense onto and form a nucleus. The presence of impurities can also affect the growth of the crystal lattice, leading to the formation of more complex patterns.\n",
      "\n",
      "Finally, the wind conditions in the air can also influence the formation of snowflake patterns. Wind can cause the snowflakes to collide with other particles in the air, which can alter their shape and size. Additionally, wind can cause the snowflakes to fall through different layers of air with different temperatures and humidity levels, which can also affect their formation.\n",
      "\n",
      "Overall, the unique patterns of snowflakes are the result of a complex interplay between temperature, humidity, impurities, and wind conditions in the air. While we can't predict exactly what pattern a snowflake will have, we can understand the factors that influence its formation and appreciate the beauty and uniqueness of each individual snowflake.\n"
     ]
    }
   ],
   "source": [
    "print(Complete(\"llama2-70b-chat\", \"how do snowflakes get their unique patterns?\"))"
   ]
  },
  {
   "cell_type": "markdown",
   "metadata": {},
   "source": [
    "## Use it on a column in a datset "
   ]
  },
  {
   "cell_type": "code",
   "execution_count": 8,
   "metadata": {},
   "outputs": [
    {
     "name": "stderr",
     "output_type": "stream",
     "text": [
      "Summarize() is experimental since 1.0.12. Do not use it in production. \n"
     ]
    },
    {
     "data": {
      "text/plain": [
       "[Row(LABEL=1, TEXT='The text expresses high praise for the movie, featuring great entertainment, wonderful performances by Belushi, Beach, Dalton, and Railsback, and a 10/10 rating.'),\n",
       " Row(LABEL=1, TEXT='The viewer enjoyed \"Timothy Dalton\\'s James Bond\" movie despite it not being his third outing as expected. Belushi added humor with his performance, while Dalton hammed it up. The other British actor was surprising, but overall, it was a comedic film.'),\n",
       " Row(LABEL=1, TEXT='The person bought a movie they expected to dislike but found enjoyable. James Belushi and Timothy Dalton gave standout performances. The film\\'s ending, featuring Bill \"The Mouth\" Manucci\\'s theft of 12 Million Dollars from the Mafia and subsequent hiding in a witness protection program, was well-executed with good camera work, dialogues, and acting.'),\n",
       " Row(LABEL=1, TEXT='The movie \"Made Men\" surprised the viewer with its unexpected comedic elements instead of the anticipated action thriller genre. James Belushi shone in his role, and the cast delivered humorous one-liners and situations. The story was confusing at times due to new characters and deceit, but overall, the viewer enjoyed it. Louis Morneau\\'s direction kept the viewer engaged. The movie is recommended.'),\n",
       " Row(LABEL=1, TEXT='\"Made Men\" is a great action movie with many twists and turns. James Belushi delivers a strong performance as an ex-hood who stole 12 million and faces challenges from gangsters, hillbillies, his wife, and the local sheriff (Timothy Dalton). The film receives an 8 out of 10 rating.'),\n",
       " Row(LABEL=1, TEXT=\"This movie features explosions, shootouts, and James Belushi's humor as he navigates through a crooked situation involving stolen money. Despite a predictable plot and misleading title, the fast-paced action provides enjoyment.\"),\n",
       " Row(LABEL=1, TEXT='This movie had surprising good one-liners, laughs, and a nonstop action-packed storyline with numerous gun action and explosions. The plot was solid and kept the interest throughout.'),\n",
       " Row(LABEL=1, TEXT='The text is a review of the movie \"Beirut\" (1986), expressing that the reviewer found it hilarious despite knowing the outcome. The training scenes and the scene with Jack and Reno attempting to watch Monday Night Football while having dinner with their wives were particularly amusing. The reviewers, Williams and Russell, enjoyed the film and felt it was underrated as a comedy.'),\n",
       " Row(LABEL=1, TEXT='Jack Dundee, played by Robin Williams, intends to make a comeback by replaying a high school football game in \"The Best of Times,\" despite resistance from his former teammate Reno Hightower (Kurt Russell). The movie features Williams and Russell as a comedy team, with some amusing character names.'),\n",
       " Row(LABEL=1, TEXT='The movie \"The Best of Times\" is about a middle-aged banker, Jack Dundee, played by Robin Williams, who is haunted by a past football mistake and tries to re-live the game with the help of former quarterback Reno Hightower, played by Kurt Russell. Both men are dealing with personal issues and struggling marriages, making their attempt to change the past record challenging.')]"
      ]
     },
     "execution_count": 8,
     "metadata": {},
     "output_type": "execute_result"
    }
   ],
   "source": [
    "from snowflake.cortex import Summarize, Complete, ExtractAnswer, Sentiment, Summarize, Translate\n",
    "from snowflake.snowpark.functions import col\n",
    "\n",
    "article_df = session.table(\"IMDB_SAMPLE\")\n",
    "article_df = article_df.withColumn(\n",
    "    \"text\",\n",
    "    Summarize(col(\"text\"))\n",
    ")\n",
    "article_df.collect()"
   ]
  },
  {
   "cell_type": "code",
   "execution_count": 10,
   "metadata": {},
   "outputs": [
    {
     "data": {
      "text/html": [
       "<div>\n",
       "<style scoped>\n",
       "    .dataframe tbody tr th:only-of-type {\n",
       "        vertical-align: middle;\n",
       "    }\n",
       "\n",
       "    .dataframe tbody tr th {\n",
       "        vertical-align: top;\n",
       "    }\n",
       "\n",
       "    .dataframe thead th {\n",
       "        text-align: right;\n",
       "    }\n",
       "</style>\n",
       "<table border=\"1\" class=\"dataframe\">\n",
       "  <thead>\n",
       "    <tr style=\"text-align: right;\">\n",
       "      <th></th>\n",
       "      <th>LABEL</th>\n",
       "      <th>TEXT</th>\n",
       "    </tr>\n",
       "  </thead>\n",
       "  <tbody>\n",
       "    <tr>\n",
       "      <th>0</th>\n",
       "      <td>1</td>\n",
       "      <td>The text expresses high praise for the movie, ...</td>\n",
       "    </tr>\n",
       "    <tr>\n",
       "      <th>1</th>\n",
       "      <td>1</td>\n",
       "      <td>The viewer enjoyed \"Timothy Dalton's James Bon...</td>\n",
       "    </tr>\n",
       "    <tr>\n",
       "      <th>2</th>\n",
       "      <td>1</td>\n",
       "      <td>The person bought a movie they expected to dis...</td>\n",
       "    </tr>\n",
       "    <tr>\n",
       "      <th>3</th>\n",
       "      <td>1</td>\n",
       "      <td>The movie \"Made Men\" surprised the viewer with...</td>\n",
       "    </tr>\n",
       "    <tr>\n",
       "      <th>4</th>\n",
       "      <td>1</td>\n",
       "      <td>\"Made Men\" is a great action movie with many t...</td>\n",
       "    </tr>\n",
       "    <tr>\n",
       "      <th>5</th>\n",
       "      <td>1</td>\n",
       "      <td>This movie features explosions, shootouts, and...</td>\n",
       "    </tr>\n",
       "    <tr>\n",
       "      <th>6</th>\n",
       "      <td>1</td>\n",
       "      <td>This movie had surprising good one-liners, lau...</td>\n",
       "    </tr>\n",
       "    <tr>\n",
       "      <th>7</th>\n",
       "      <td>1</td>\n",
       "      <td>The text is a review of the movie \"Beirut\" (19...</td>\n",
       "    </tr>\n",
       "    <tr>\n",
       "      <th>8</th>\n",
       "      <td>1</td>\n",
       "      <td>Jack Dundee, played by Robin Williams, intends...</td>\n",
       "    </tr>\n",
       "    <tr>\n",
       "      <th>9</th>\n",
       "      <td>1</td>\n",
       "      <td>The movie \"The Best of Times\" is about a middl...</td>\n",
       "    </tr>\n",
       "  </tbody>\n",
       "</table>\n",
       "</div>"
      ],
      "text/plain": [
       "   LABEL                                               TEXT\n",
       "0      1  The text expresses high praise for the movie, ...\n",
       "1      1  The viewer enjoyed \"Timothy Dalton's James Bon...\n",
       "2      1  The person bought a movie they expected to dis...\n",
       "3      1  The movie \"Made Men\" surprised the viewer with...\n",
       "4      1  \"Made Men\" is a great action movie with many t...\n",
       "5      1  This movie features explosions, shootouts, and...\n",
       "6      1  This movie had surprising good one-liners, lau...\n",
       "7      1  The text is a review of the movie \"Beirut\" (19...\n",
       "8      1  Jack Dundee, played by Robin Williams, intends...\n",
       "9      1  The movie \"The Best of Times\" is about a middl..."
      ]
     },
     "execution_count": 10,
     "metadata": {},
     "output_type": "execute_result"
    }
   ],
   "source": [
    "df=article_df.toPandas()\n",
    "df"
   ]
  },
  {
   "cell_type": "markdown",
   "metadata": {},
   "source": [
    "## Converting Cortext SQL to Python"
   ]
  },
  {
   "cell_type": "markdown",
   "metadata": {},
   "source": [
    "Simple example"
   ]
  },
  {
   "cell_type": "code",
   "execution_count": null,
   "metadata": {},
   "outputs": [
    {
     "data": {
      "text/plain": [
       "[Row(SNOWFLAKE.CORTEX.COMPLETE('MIXTRAL-8X7B', 'WHAT ARE LARGE LANGUAGE MODELS?')=' Large language models are artificial intelligence models that have been trained on a vast amount of text data to generate human-like text. They are called \"large\" because they typically have a large number of parameters (billions) and require a significant amount of computational resources to train. These models can be used for a variety of natural language processing tasks, such as text generation, translation, summarization, question answering, and more. They work by predicting the likelihood of a word given the previous words in a sentence, allowing them to generate coherent and contextually appropriate text. Some examples of large language models include OpenAI\\'s GPT-3, Google\\'s BERT, and Facebook\\'s RoBERTa.')]"
      ]
     },
     "execution_count": 22,
     "metadata": {},
     "output_type": "execute_result"
    }
   ],
   "source": [
    "df = session.sql(\"\"\"SELECT SNOWFLAKE.CORTEX.COMPLETE('mixtral-8x7b', 'What are large language models?')\"\"\")\n",
    "df.collect()"
   ]
  },
  {
   "cell_type": "markdown",
   "metadata": {},
   "source": [
    "Messing with the hyperparameters"
   ]
  },
  {
   "cell_type": "code",
   "execution_count": null,
   "metadata": {},
   "outputs": [],
   "source": [
    "df = session.sql(\"\"\"SELECT SNOWFLAKE.CORTEX.COMPLETE(\n",
    "    'llama2-70b-chat',\n",
    "    [\n",
    "        {'role': 'user',\n",
    "         'content': 'how does a snowflake get its unique pattern?'}\n",
    "    ],\n",
    "    {\n",
    "        'temperature': 0.7,\n",
    "        'max_tokens': 30\n",
    "    }\n",
    ");\"\"\")\n",
    "data_string = df.collect()"
   ]
  },
  {
   "cell_type": "code",
   "execution_count": null,
   "metadata": {},
   "outputs": [
    {
     "name": "stdout",
     "output_type": "stream",
     "text": [
      " The unique pattern on a snowflake is formed by a combination of factors, including the temperature and humidity in the air, the shape\n"
     ]
    }
   ],
   "source": [
    "# Accessing the JSON string\n",
    "json_string = data_string[0][0]\n",
    "\n",
    "# Parse the JSON string\n",
    "try:\n",
    "    json_data = json.loads(json_string)\n",
    "    # Extract the message\n",
    "    message = json_data[\"choices\"][0][\"messages\"] if \"choices\" in json_data and json_data[\"choices\"] else \"Message not found.\"\n",
    "except json.JSONDecodeError:\n",
    "    message = \"Invalid JSON format.\"\n",
    "\n",
    "# Print the extracted message\n",
    "print(message)"
   ]
  },
  {
   "cell_type": "markdown",
   "metadata": {},
   "source": [
    "## Let's run it across a column in a table "
   ]
  },
  {
   "cell_type": "code",
   "execution_count": 30,
   "metadata": {},
   "outputs": [],
   "source": [
    "df = session.sql(\"\"\"SELECT SNOWFLAKE.CORTEX.COMPLETE(\n",
    "    'mistral-7b',\n",
    "        CONCAT('Critique this review in bullet points: <review>', text, '</review>')\n",
    ") FROM IMDB_SAMPLE LIMIT 10;\"\"\")\n",
    "data_string = df.collect()"
   ]
  },
  {
   "cell_type": "code",
   "execution_count": 31,
   "metadata": {},
   "outputs": [
    {
     "name": "stdout",
     "output_type": "stream",
     "text": [
      "(' * The reviewer expresses initial skepticism about the movie but was '\n",
      " 'pleasantly surprised.\\n'\n",
      " '\\n'\n",
      " '* James Belushi\\'s performance as Bill \"The Mouth\" Manucci is commended.\\n'\n",
      " '\\n'\n",
      " \"* Timothy Dalton's performance as the Sheriff is also praised.\\n\"\n",
      " '\\n'\n",
      " \"* The 'end' scene in Bill's house is highlighted as excellent, with good \"\n",
      " 'camera work, nice dialogues, and good acting.\\n'\n",
      " '\\n'\n",
      " '* The plot involves Bill Manucci, who has stolen 12 Million Dollars from the '\n",
      " 'Mafia, living in South-Carolina under witness protection with his wife.\\n'\n",
      " '\\n'\n",
      " '* The Mafia tracks him down and wants the money back, leaving Bill to trust '\n",
      " 'only himself.\\n'\n",
      " '\\n'\n",
      " '* No specific criticisms or negative comments are mentioned in the review.\\n'\n",
      " '\\n'\n",
      " \"* The reviewer's language is informal and conversational, making it easy to \"\n",
      " 'read and understand.\\n'\n",
      " '\\n'\n",
      " '* The review does not provide enough context to determine the title or genre '\n",
      " 'of the movie.\\n'\n",
      " '\\n'\n",
      " '* The reviewer does not mention the quality of the DVD or any technical '\n",
      " 'issues they experienced.\\n'\n",
      " '\\n'\n",
      " '* The review is brief and focuses mainly on the performances and the final '\n",
      " 'scene.')\n"
     ]
    }
   ],
   "source": [
    "import pandas as pd\n",
    "import ast\n",
    "\n",
    "# Initialize a list to hold parsed data\n",
    "parsed_data = []\n",
    "\n",
    "# Iterate over each Row object\n",
    "for row in data_string:\n",
    "    parsed_data.append(row[0])\n",
    "\n",
    "# Convert the list of dictionaries to a DataFrame\n",
    "df = pd.DataFrame(parsed_data)\n",
    "# Now df is a pandas DataFrame with your data\n",
    "df.columns = ['text']\n",
    "print (df['text'][2])"
   ]
  }
 ],
 "metadata": {
  "kernelspec": {
   "display_name": "hf_public",
   "language": "python",
   "name": "python3"
  },
  "language_info": {
   "codemirror_mode": {
    "name": "ipython",
    "version": 3
   },
   "file_extension": ".py",
   "mimetype": "text/x-python",
   "name": "python",
   "nbconvert_exporter": "python",
   "pygments_lexer": "ipython3",
   "version": "3.8.18"
  }
 },
 "nbformat": 4,
 "nbformat_minor": 2
}
