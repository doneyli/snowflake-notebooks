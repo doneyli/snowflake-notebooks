{
 "cells": [
  {
   "cell_type": "markdown",
   "metadata": {},
   "source": [
    "## Simple Streamlit App for Cortex LLM\n",
    "\n",
    "Simple app showing off how to automatically save prompts / responses for evaluation of Cortex LLM.\n",
    "\n",
    "I created a table `cortex_eval_table` with columns for PROMPT, RESPONSE, MODEL, and DATE"
   ]
  },
  {
   "cell_type": "code",
   "execution_count": null,
   "metadata": {},
   "outputs": [],
   "source": [
    "# Import python packages\n",
    "import streamlit as st\n",
    "from datetime import datetime\n",
    "from streamlit import cache_resource, cache_data\n",
    "from snowflake.snowpark.session import Session\n",
    "from snowflake.snowpark.context import get_active_session\n",
    "import re\n",
    "import json\n",
    "\n",
    "session = get_active_session()\n",
    "\n",
    "@cache_data(show_spinner='CALLING LLM')\n",
    "def complete(model, prompt):\n",
    "    global session\n",
    "    prompt = re.sub(\"'\", \"''\", prompt)\n",
    "    sql_code = f\"SELECT SNOWFLAKE.CORTEX.COMPLETE('{model}', '{prompt}') as answer\"\n",
    "    df = session.sql(sql_code).to_pandas()\n",
    "    return df['ANSWER'][0], sql_code\n",
    "\n",
    "st.header(\"Evaluation App with Cortex\")\n",
    "st.subheader(\"Prompt the LLM, all prompts and responses are save\")\n",
    "completion_input = st.text_area(\"Prompt\",height=400)\n",
    "completion_model = st.selectbox(\"Choose Model\", options = ['llama2-70b-chat','mistral-7b'])\n",
    "\n",
    "if st.button(\"Complete\"):\n",
    "    if completion_input is not None and completion_model is not None:\n",
    "        result, sql_code = complete(completion_model,completion_input)\n",
    "        st.success(result)\n",
    "        df = session.create_dataframe([[completion_input, result, completion_model, datetime.now().date()]], schema=[\"PROMPT\", \"RESPONSE\", \"MODEL\", \"DATE\"])\n",
    "        df.write.save_as_table(\"cortex_eval_table\", mode=\"append\")\n",
    "        with st.expander(\"See SQL\"):\n",
    "            st.code(sql_code,language='SQL') "
   ]
  }
 ],
 "metadata": {
  "language_info": {
   "name": "python"
  }
 },
 "nbformat": 4,
 "nbformat_minor": 2
}
