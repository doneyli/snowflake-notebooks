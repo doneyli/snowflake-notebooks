{
 "cells": [
  {
   "cell_type": "markdown",
   "metadata": {},
   "source": [
    "## Generating Synthetic Questions and Answers for RAG Evaluation\n",
    "\n",
    "This notebook demonstrates how to use Cortex to generate synthetic questions and answers for evaluating a RAG application\n",
    "\n",
    "This is a following the example in the [Hugging Face RAG evaluation notebook](https://huggingface.co/learn/cookbook/rag_evaluation), but using Cortex to generate the synthetic questions and answers and performing the operations in Snowpark (and not on the local machine)."
   ]
  },
  {
   "cell_type": "code",
   "execution_count": 1,
   "metadata": {
    "metadata": {}
   },
   "outputs": [],
   "source": [
    "# Snowpark for Python\n",
    "from snowflake.snowpark.session import Session\n",
    "from snowflake.snowpark.types import Variant\n",
    "from snowflake.snowpark.version import VERSION\n",
    "\n",
    "# Snowpark ML\n",
    "# Misc\n",
    "import pandas as pd\n",
    "import json\n",
    "import logging \n",
    "logger = logging.getLogger(\"snowflake.snowpark.session\")\n",
    "logger.setLevel(logging.ERROR)\n",
    "\n",
    "from snowflake import connector\n",
    "from snowflake.ml.utils import connection_params"
   ]
  },
  {
   "cell_type": "code",
   "execution_count": 2,
   "metadata": {
    "metadata": {}
   },
   "outputs": [],
   "source": [
    "with open('../../creds.json') as f:\n",
    "    data = json.load(f)\n",
    "    USERNAME = data['user']\n",
    "    PASSWORD = data['password']\n",
    "    SF_ACCOUNT = data['account']\n",
    "    SF_WH = data['warehouse']\n",
    "\n",
    "CONNECTION_PARAMETERS = {\n",
    "   \"account\": SF_ACCOUNT,\n",
    "   \"user\": USERNAME,\n",
    "   \"password\": PASSWORD,\n",
    "}\n",
    "\n",
    "session = Session.builder.configs(CONNECTION_PARAMETERS).create()"
   ]
  },
  {
   "cell_type": "code",
   "execution_count": 3,
   "metadata": {
    "metadata": {}
   },
   "outputs": [
    {
     "name": "stdout",
     "output_type": "stream",
     "text": [
      "User                        : RSHAH\n",
      "Role                        : \"RAJIV\"\n",
      "Database                    : \"RAJIV\"\n",
      "Schema                      : \"DOCAI\"\n",
      "Warehouse                   : \"RAJIV\"\n",
      "Snowflake version           : 8.18.0\n",
      "Snowpark for Python version : 1.11.1\n",
      "Snowflake ML version        : 1.5.0\n"
     ]
    }
   ],
   "source": [
    "snowflake_environment = session.sql('select current_user(), current_version()').collect()\n",
    "snowpark_version = VERSION\n",
    "\n",
    "from snowflake.ml import version\n",
    "mlversion = version.VERSION\n",
    "\n",
    "\n",
    "# Current Environment Details\n",
    "print('User                        : {}'.format(snowflake_environment[0][0]))\n",
    "print('Role                        : {}'.format(session.get_current_role()))\n",
    "print('Database                    : {}'.format(session.get_current_database()))\n",
    "print('Schema                      : {}'.format(session.get_current_schema()))\n",
    "print('Warehouse                   : {}'.format(session.get_current_warehouse()))\n",
    "print('Snowflake version           : {}'.format(snowflake_environment[0][1]))\n",
    "print('Snowpark for Python version : {}.{}.{}'.format(snowpark_version[0],snowpark_version[1],snowpark_version[2]))\n",
    "print('Snowflake ML version        : {}.{}.{}'.format(mlversion[0],mlversion[2],mlversion[4]))"
   ]
  },
  {
   "cell_type": "markdown",
   "metadata": {},
   "source": [
    "## Get Data\n",
    "I start with the SEC RAG example where the data has already been chunked. "
   ]
  },
  {
   "cell_type": "code",
   "execution_count": 4,
   "metadata": {
    "metadata": {}
   },
   "outputs": [
    {
     "name": "stdout",
     "output_type": "stream",
     "text": [
      "------------------------------------------------------------------------------------------------------------------------------------------------------------------------------------------------------------------------------------------------------------------------------------------------------------------------------------------------\n",
      "|\"SEC_DOCUMENT_ID\"          |\"DOCUMENT_TYPE\"   |\"COMPANY_NAME\"                |\"SIC_CODE_CATEGORY\"      |\"SIC_CODE_DESCRIPTION\"                 |\"COUNTRY\"  |\"PERIOD_END_DATE\"  |\"CONTENT_CHUNK\"                                     |\"START_INDEX\"  |\"EMBEDDING\"                                         |\"DOCUMENT_INDEX_ROWNUM\"  |\"ROWNUM\"  |\n",
      "------------------------------------------------------------------------------------------------------------------------------------------------------------------------------------------------------------------------------------------------------------------------------------------------------------------------------------------------\n",
      "|0001874178-23-000009_10-K  |10-K Filing Text  |RIVIAN AUTOMOTIVE, INC. / DE  |Office of Manufacturing  |MOTOR VEHICLES & PASSENGER CAR BODIES  |US         |2022-12-31         |rivn-20221231 UNITED STATES SECURITIES AND EXCH...  |4              |[0.0134749636054039, -0.01612430065870285, -0.0...  |1                        |3635739   |\n",
      "|0001874178-23-000009_10-K  |10-K Filing Text  |RIVIAN AUTOMOTIVE, INC. / DE  |Office of Manufacturing  |MOTOR VEHICLES & PASSENGER CAR BODIES  |US         |2022-12-31         |.001 par value per share RIVN The Nasdaq Stock ...  |963            |[-0.013030052185058594, -0.014440304599702358, ...  |2                        |3635740   |\n",
      "|0001874178-23-000009_10-K  |10-K Filing Text  |RIVIAN AUTOMOTIVE, INC. / DE  |Office of Manufacturing  |MOTOR VEHICLES & PASSENGER CAR BODIES  |US         |2022-12-31         |.    Yes  ☒    No ☐  Indicate by check mark whe...  |1712           |[-0.006698981858789921, -0.03849697485566139, -...  |3                        |3635741   |\n",
      "|0001874178-23-000009_10-K  |10-K Filing Text  |RIVIAN AUTOMOTIVE, INC. / DE  |Office of Manufacturing  |MOTOR VEHICLES & PASSENGER CAR BODIES  |US         |2022-12-31         |. See the definitions of “large accelerated fil...  |2256           |[-0.04192263260483742, -0.0486314631998539, -0....  |4                        |3635742   |\n",
      "|0001874178-23-000009_10-K  |10-K Filing Text  |RIVIAN AUTOMOTIVE, INC. / DE  |Office of Manufacturing  |MOTOR VEHICLES & PASSENGER CAR BODIES  |US         |2022-12-31         |.S.C. 7262(b)) by the registered public account...  |3076           |[-0.015177706256508827, -0.03369320556521416, -...  |5                        |3635743   |\n",
      "|0001874178-23-000009_10-K  |10-K Filing Text  |RIVIAN AUTOMOTIVE, INC. / DE  |Office of Manufacturing  |MOTOR VEHICLES & PASSENGER CAR BODIES  |US         |2022-12-31         |. In the case of 5% or greater stockholders, we...  |3911           |[0.004648115485906601, -0.05180753022432327, -0...  |6                        |3635744   |\n",
      "|0001874178-23-000009_10-K  |10-K Filing Text  |RIVIAN AUTOMOTIVE, INC. / DE  |Office of Manufacturing  |MOTOR VEHICLES & PASSENGER CAR BODIES  |US         |2022-12-31         |.  As of February 14, 2023,  919,265,013  share...  |4511           |[0.010190531611442566, -0.026317495852708817, -...  |7                        |3635745   |\n",
      "|0001874178-23-000009_10-K  |10-K Filing Text  |RIVIAN AUTOMOTIVE, INC. / DE  |Office of Manufacturing  |MOTOR VEHICLES & PASSENGER CAR BODIES  |US         |2022-12-31         |. Mine Safety Disclosures  49 Part II 50 Item 5...  |5300           |[0.0006388800102286041, -0.024540066719055176, ...  |8                        |3635746   |\n",
      "|0001874178-23-000009_10-K  |10-K Filing Text  |RIVIAN AUTOMOTIVE, INC. / DE  |Office of Manufacturing  |MOTOR VEHICLES & PASSENGER CAR BODIES  |US         |2022-12-31         |. Security Ownership of Certain Beneficial Owne...  |6074           |[-0.0035113098565489054, -0.015815898776054382,...  |9                        |3635747   |\n",
      "|0001874178-23-000009_10-K  |10-K Filing Text  |RIVIAN AUTOMOTIVE, INC. / DE  |Office of Manufacturing  |MOTOR VEHICLES & PASSENGER CAR BODIES  |US         |2022-12-31         |. All statements other than statements of histo...  |6851           |[0.011535296216607094, -0.040209297090768814, -...  |10                       |3635748   |\n",
      "------------------------------------------------------------------------------------------------------------------------------------------------------------------------------------------------------------------------------------------------------------------------------------------------------------------------------------------------\n",
      "\n"
     ]
    }
   ],
   "source": [
    "from snowflake.snowpark.functions import col\n",
    "import snowflake.snowpark.functions as f\n",
    "from snowflake.snowpark.functions import col, split, lit, regexp_extract\n",
    "from snowflake.cortex import Complete\n",
    "\n",
    "\n",
    "article_df = session.table(\"RAJIV.PUBLIC.CONTENT_CHUNKS_10K\")\n",
    "filtered_df = article_df.filter(col(\"company_name\").like(\"RIVIAN%\"))\n",
    "\n",
    "# Now you can perform further operations on filtered_df, like displaying the data\n",
    "filtered_df.show()\n"
   ]
  },
  {
   "cell_type": "code",
   "execution_count": 5,
   "metadata": {
    "metadata": {}
   },
   "outputs": [
    {
     "data": {
      "text/plain": [
       "497"
      ]
     },
     "execution_count": 5,
     "metadata": {},
     "output_type": "execute_result"
    }
   ],
   "source": [
    "filtered_df.count()"
   ]
  },
  {
   "cell_type": "markdown",
   "metadata": {},
   "source": [
    "You will only want to select a subset of the chunks to build your generated examples. "
   ]
  },
  {
   "cell_type": "code",
   "execution_count": 6,
   "metadata": {
    "metadata": {}
   },
   "outputs": [
    {
     "data": {
      "text/plain": [
       "30"
      ]
     },
     "execution_count": 6,
     "metadata": {},
     "output_type": "execute_result"
    }
   ],
   "source": [
    "shuffled_df = filtered_df.sample(n=30)\n",
    "shuffled_df.count()"
   ]
  },
  {
   "cell_type": "markdown",
   "metadata": {},
   "source": [
    "Let's build the Q&A pairs for the RAG evaluation."
   ]
  },
  {
   "cell_type": "code",
   "execution_count": 7,
   "metadata": {
    "metadata": {}
   },
   "outputs": [],
   "source": [
    "QA_generation_prompt = \"\"\"\n",
    "Your task is to write a factoid question and an answer given a context.\n",
    "Your factoid question should be answerable with a specific, concise piece of factual information from the context.\n",
    "Your factoid question should be formulated in the same style as questions users could ask in a search engine.\n",
    "This means that your factoid question MUST NOT mention something like \"according to the passage\" or \"context\".\n",
    "\n",
    "Provide your answer as follows:\n",
    "\n",
    "Output:::\n",
    "Factoid question: (your factoid question)\n",
    "Answer: (your answer to the factoid question)\n",
    "\n",
    "Now here is the context.\n",
    "\n",
    "Context: \"\"\""
   ]
  },
  {
   "cell_type": "code",
   "execution_count": 8,
   "metadata": {
    "metadata": {}
   },
   "outputs": [
    {
     "name": "stderr",
     "output_type": "stream",
     "text": [
      "Complete() is experimental since 1.0.12. Do not use it in production. \n"
     ]
    }
   ],
   "source": [
    "outdf = shuffled_df.withColumn(\n",
    "    \"GenQA\",\n",
    "    Complete(\n",
    "        model='mixtral-8x7b',prompt = f.concat(\n",
    "            f.lit(QA_generation_prompt),\n",
    "            f.col(\"CONTENT_CHUNK\"),\n",
    "            f.lit(\"\\n Output:::\")\n",
    "            ))\n",
    ")\n",
    "outputs = outdf.to_pandas()"
   ]
  },
  {
   "cell_type": "code",
   "execution_count": 9,
   "metadata": {
    "metadata": {}
   },
   "outputs": [
    {
     "data": {
      "text/plain": [
       "' Factoid question: How is the market for new alternative energy vehicles described?\\nAnswer: The market for new alternative energy vehicles is rapidly evolving, with changing technologies, competitive pricing and factors, evolving government regulation and industry standards, and changing consumer demands and behaviors.'"
      ]
     },
     "execution_count": 9,
     "metadata": {},
     "output_type": "execute_result"
    }
   ],
   "source": [
    "outputs.GENQA[1]"
   ]
  },
  {
   "cell_type": "code",
   "execution_count": 10,
   "metadata": {
    "metadata": {}
   },
   "outputs": [
    {
     "name": "stdout",
     "output_type": "stream",
     "text": [
      "--------------------------------------------------------------------------------------------------------------------------------------------------------------------------------------------------------------------------------------------------------------------------------------------------------------------------------------------------------------------------------------------------------------------------------------------------------------------------------------------------------------------------------------------------------------------\n",
      "|\"SEC_DOCUMENT_ID\"          |\"DOCUMENT_TYPE\"   |\"COMPANY_NAME\"                |\"SIC_CODE_CATEGORY\"      |\"SIC_CODE_DESCRIPTION\"                 |\"COUNTRY\"  |\"PERIOD_END_DATE\"  |\"CONTENT_CHUNK\"                                     |\"START_INDEX\"  |\"EMBEDDING\"                                         |\"DOCUMENT_INDEX_ROWNUM\"  |\"ROWNUM\"  |\"GENQA\"                                             |\"SPLIT_COL\"                                         |\"GENQ\"                                              |\"GENA\"                                              |\n",
      "--------------------------------------------------------------------------------------------------------------------------------------------------------------------------------------------------------------------------------------------------------------------------------------------------------------------------------------------------------------------------------------------------------------------------------------------------------------------------------------------------------------------------------------------------------------------\n",
      "|0001874178-23-000009_10-K  |10-K Filing Text  |RIVIAN AUTOMOTIVE, INC. / DE  |Office of Manufacturing  |MOTOR VEHICLES & PASSENGER CAR BODIES  |US         |2022-12-31         |.  We receive, store, handle, transmit, use and...  |171221         |[0.022090060636401176, -0.010819107294082642, -...  |210                      |3635948   | Factoid question: What happens if a company mi...  |[                                                   |\" Factoid question: What happens if a company m...  |\"Answer: A violation of consumers' privacy righ...  |\n",
      "|                           |                  |                              |                         |                                       |           |                   |                                                    |               |                                                    |                         |          |Answer: A violation of consumers' privacy right...  |  \" Factoid question: What happens if a company...  |                                                    |                                                    |\n",
      "|                           |                  |                              |                         |                                       |           |                   |                                                    |               |                                                    |                         |          |                                                    |  \"Answer: A violation of consumers' privacy ri...  |                                                    |                                                    |\n",
      "|                           |                  |                              |                         |                                       |           |                   |                                                    |               |                                                    |                         |          |                                                    |]                                                   |                                                    |                                                    |\n",
      "|0001874178-23-000009_10-K  |10-K Filing Text  |RIVIAN AUTOMOTIVE, INC. / DE  |Office of Manufacturing  |MOTOR VEHICLES & PASSENGER CAR BODIES  |US         |2022-12-31         |. Item 1B. Unresolved Staff Comments None. Item...  |254116         |[0.020176228135824203, -0.019681787118315697, -...  |306                      |3636044   | Factoid question: Where is Rivian's engineerin...  |[                                                   |\" Factoid question: Where is Rivian's engineeri...  |\"Answer: The engineering, manufacturing, and as...  |\n",
      "|                           |                  |                              |                         |                                       |           |                   |                                                    |               |                                                    |                         |          |Answer: The engineering, manufacturing, and ass...  |  \" Factoid question: Where is Rivian's enginee...  |                                                    |                                                    |\n",
      "|                           |                  |                              |                         |                                       |           |                   |                                                    |               |                                                    |                         |          |                                                    |  \"Answer: The engineering, manufacturing, and ...  |                                                    |                                                    |\n",
      "|                           |                  |                              |                         |                                       |           |                   |                                                    |               |                                                    |                         |          |                                                    |]                                                   |                                                    |                                                    |\n",
      "|0001874178-23-000009_10-K  |10-K Filing Text  |RIVIAN AUTOMOTIVE, INC. / DE  |Office of Manufacturing  |MOTOR VEHICLES & PASSENGER CAR BODIES  |US         |2022-12-31         |. We use open source software in connection wit...  |188948         |[-0.016006533056497574, -0.0026354589499533176,...  |233                      |3635971   | Factoid question: What potential legal issues ...  |[                                                   |\" Factoid question: What potential legal issues...  |\"Answer: Companies using open source software m...  |\n",
      "|                           |                  |                              |                         |                                       |           |                   |                                                    |               |                                                    |                         |          |Answer: Companies using open source software ma...  |  \" Factoid question: What potential legal issu...  |                                                    |                                                    |\n",
      "|                           |                  |                              |                         |                                       |           |                   |                                                    |               |                                                    |                         |          |                                                    |  \"Answer: Companies using open source software...  |                                                    |                                                    |\n",
      "|                           |                  |                              |                         |                                       |           |                   |                                                    |               |                                                    |                         |          |                                                    |]                                                   |                                                    |                                                    |\n",
      "|0001874178-23-000009_10-K  |10-K Filing Text  |RIVIAN AUTOMOTIVE, INC. / DE  |Office of Manufacturing  |MOTOR VEHICLES & PASSENGER CAR BODIES  |US         |2022-12-31         |.  As a public company, we are required to esta...  |245739         |[-0.03663361445069313, -0.01542947068810463, -0...  |296                      |3636034   | Factoid question: What were the material weakn...  |[                                                   |\" Factoid question: What were the material weak...  |\"Answer: The material weaknesses identified in ...  |\n",
      "|                           |                  |                              |                         |                                       |           |                   |                                                    |               |                                                    |                         |          |Answer: The material weaknesses identified in t...  |  \" Factoid question: What were the material we...  |                                                    |                                                    |\n",
      "|                           |                  |                              |                         |                                       |           |                   |                                                    |               |                                                    |                         |          |                                                    |  \"Answer: The material weaknesses identified i...  |                                                    |                                                    |\n",
      "|                           |                  |                              |                         |                                       |           |                   |                                                    |               |                                                    |                         |          |                                                    |]                                                   |                                                    |                                                    |\n",
      "|0001874178-23-000009_10-K  |10-K Filing Text  |RIVIAN AUTOMOTIVE, INC. / DE  |Office of Manufacturing  |MOTOR VEHICLES & PASSENGER CAR BODIES  |US         |2022-12-31         |. The Company measures deferred tax assets and ...  |358648         |[-0.0231256615370512, -0.007230306509882212, -0...  |434                      |3636172   | Factoid question: How much did the valuation a...  |[                                                   |\" Factoid question: How much did the valuation ...  |\"Answer: The valuation allowance on net deferre...  |\n",
      "|                           |                  |                              |                         |                                       |           |                   |                                                    |               |                                                    |                         |          |Answer: The valuation allowance on net deferred...  |  \" Factoid question: How much did the valuatio...  |                                                    |                                                    |\n",
      "|                           |                  |                              |                         |                                       |           |                   |                                                    |               |                                                    |                         |          |                                                    |  \"Answer: The valuation allowance on net defer...  |                                                    |                                                    |\n",
      "|                           |                  |                              |                         |                                       |           |                   |                                                    |               |                                                    |                         |          |                                                    |]                                                   |                                                    |                                                    |\n",
      "|0001874178-23-000009_10-K  |10-K Filing Text  |RIVIAN AUTOMOTIVE, INC. / DE  |Office of Manufacturing  |MOTOR VEHICLES & PASSENGER CAR BODIES  |US         |2022-12-31         |. RIVIAN AUTOMOTIVE, INC. By: /s/  Robert J. Sc...  |409880         |[-0.011940709315240383, -0.01982550323009491, -...  |496                      |3636234   | Factoid question: Who is the Chief Executive O...  |[                                                   |\" Factoid question: Who is the Chief Executive ...  |\"Answer: Robert J. Scaringe\"                        |\n",
      "|                           |                  |                              |                         |                                       |           |                   |                                                    |               |                                                    |                         |          |Answer: Robert J. Scaringe                          |  \" Factoid question: Who is the Chief Executiv...  |                                                    |                                                    |\n",
      "|                           |                  |                              |                         |                                       |           |                   |                                                    |               |                                                    |                         |          |                                                    |  \"Answer: Robert J. Scaringe\"                      |                                                    |                                                    |\n",
      "|                           |                  |                              |                         |                                       |           |                   |                                                    |               |                                                    |                         |          |                                                    |]                                                   |                                                    |                                                    |\n",
      "|0001874178-23-000009_10-K  |10-K Filing Text  |RIVIAN AUTOMOTIVE, INC. / DE  |Office of Manufacturing  |MOTOR VEHICLES & PASSENGER CAR BODIES  |US         |2022-12-31         |. In some cases, suppliers were delayed in prov...  |153719         |[0.010328134521842003, -0.03171981871128082, -0...  |187                      |3635925   | Factoid question: How did the company deal wit...  |[                                                   |\" Factoid question: How did the company deal wi...  |\"Answer: The company adapted their internal des...  |\n",
      "|                           |                  |                              |                         |                                       |           |                   |                                                    |               |                                                    |                         |          |Answer: The company adapted their internal desi...  |  \" Factoid question: How did the company deal ...  |                                                    |                                                    |\n",
      "|                           |                  |                              |                         |                                       |           |                   |                                                    |               |                                                    |                         |          |                                                    |  \"Answer: The company adapted their internal d...  |                                                    |                                                    |\n",
      "|                           |                  |                              |                         |                                       |           |                   |                                                    |               |                                                    |                         |          |                                                    |]                                                   |                                                    |                                                    |\n",
      "|0001874178-23-000009_10-K  |10-K Filing Text  |RIVIAN AUTOMOTIVE, INC. / DE  |Office of Manufacturing  |MOTOR VEHICLES & PASSENGER CAR BODIES  |US         |2022-12-31         |.09 ) $ ( 22.98 ) $ ( 7.40 ) 89 RIVIAN AUTOMOTI...  |392948         |[0.0007981508388184011, 0.0042759510688483715, ...  |476                      |3636214   | Factoid question: What does Rivian Automotive,...  |[                                                   |\" Factoid question: What does Rivian Automotive...  |\"Answer: Rivian Automotive, Inc. maintains \\\"di...  |\n",
      "|                           |                  |                              |                         |                                       |           |                   |                                                    |               |                                                    |                         |          |Answer: Rivian Automotive, Inc. maintains \"disc...  |  \" Factoid question: What does Rivian Automoti...  |                                                    |                                                    |\n",
      "|                           |                  |                              |                         |                                       |           |                   |                                                    |               |                                                    |                         |          |                                                    |  \"Answer: Rivian Automotive, Inc. maintains \\\"...  |                                                    |                                                    |\n",
      "|                           |                  |                              |                         |                                       |           |                   |                                                    |               |                                                    |                         |          |                                                    |]                                                   |                                                    |                                                    |\n",
      "|0001874178-23-000009_10-K  |10-K Filing Text  |RIVIAN AUTOMOTIVE, INC. / DE  |Office of Manufacturing  |MOTOR VEHICLES & PASSENGER CAR BODIES  |US         |2022-12-31         |. Even if this is not the case, our current act...  |218834         |[0.00653965724632144, -0.036558061838150024, -0...  |268                      |3636006   | Factoid question: What changes may companies f...  |[                                                   |\" Factoid question: What changes may companies ...  |\"Answer: The SEC has proposed rules that requir...  |\n",
      "|                           |                  |                              |                         |                                       |           |                   |                                                    |               |                                                    |                         |          |Answer: The SEC has proposed rules that require...  |  \" Factoid question: What changes may companie...  |                                                    |                                                    |\n",
      "|                           |                  |                              |                         |                                       |           |                   |                                                    |               |                                                    |                         |          |                                                    |  \"Answer: The SEC has proposed rules that requ...  |                                                    |                                                    |\n",
      "|                           |                  |                              |                         |                                       |           |                   |                                                    |               |                                                    |                         |          |                                                    |]                                                   |                                                    |                                                    |\n",
      "|0001874178-23-000009_10-K  |10-K Filing Text  |RIVIAN AUTOMOTIVE, INC. / DE  |Office of Manufacturing  |MOTOR VEHICLES & PASSENGER CAR BODIES  |US         |2022-12-31         |. Our policies and procedures designed to ensur...  |208295         |[0.018218891695141792, -0.01894034817814827, -0...  |255                      |3635993   | Factoid question: What potential consequences ...  |[                                                   |\" Factoid question: What potential consequences...  |\"Answer: Non-compliance could subject Rivian Au...  |\n",
      "|                           |                  |                              |                         |                                       |           |                   |                                                    |               |                                                    |                         |          |Answer: Non-compliance could subject Rivian Aut...  |  \" Factoid question: What potential consequenc...  |                                                    |                                                    |\n",
      "|                           |                  |                              |                         |                                       |           |                   |                                                    |               |                                                    |                         |          |                                                    |  \"Answer: Non-compliance could subject Rivian ...  |                                                    |                                                    |\n",
      "|                           |                  |                              |                         |                                       |           |                   |                                                    |               |                                                    |                         |          |                                                    |]                                                   |                                                    |                                                    |\n",
      "--------------------------------------------------------------------------------------------------------------------------------------------------------------------------------------------------------------------------------------------------------------------------------------------------------------------------------------------------------------------------------------------------------------------------------------------------------------------------------------------------------------------------------------------------------------------\n",
      "\n"
     ]
    }
   ],
   "source": [
    "outdf = outdf.withColumn(\"split_col\", split(col(\"GENQA\"), lit('\\n')))\n",
    "\n",
    "# Create new columns 'GENQ' and 'GENA' by accessing elements of the array\n",
    "outdf = outdf.withColumn(\"GENQ\", col(\"split_col\")[0])\n",
    "outdf = outdf.withColumn(\"GENA\", col(\"split_col\")[1])\n",
    "\n",
    "outdf.show()"
   ]
  },
  {
   "cell_type": "code",
   "execution_count": 11,
   "metadata": {
    "metadata": {}
   },
   "outputs": [],
   "source": [
    "#save our work periodically\n",
    "table_name = \"RAJIV.PUBLIC.CONTENT_CHUNKS_10K_GQA\"  # Specify your new table name here\n",
    "outdf.write.mode(\"overwrite\").save_as_table(table_name)"
   ]
  },
  {
   "cell_type": "code",
   "execution_count": 12,
   "metadata": {
    "metadata": {}
   },
   "outputs": [],
   "source": [
    "outdf = session.table(\"RAJIV.PUBLIC.CONTENT_CHUNKS_10K_GQA\")"
   ]
  },
  {
   "cell_type": "markdown",
   "metadata": {},
   "source": [
    "## Critique\n",
    "\n",
    "The questions generated by the previous agent can have many flaws: we should do a quality check before validating these questions."
   ]
  },
  {
   "cell_type": "markdown",
   "metadata": {},
   "source": [
    "### Groundness Criteria"
   ]
  },
  {
   "cell_type": "code",
   "execution_count": 13,
   "metadata": {
    "metadata": {}
   },
   "outputs": [],
   "source": [
    "question_groundedness_critique_prompt = \"\"\"\n",
    "You will be given a context and a question.\n",
    "Your task is to provide a 'total rating' scoring how well one can answer the given question unambiguously with the given context.\n",
    "Give your answer on a scale of 1 to 5, where 1 means that the question is not answerable at all given the context, and 5 means that the question is clearly and unambiguously answerable with the context.\n",
    "\n",
    "Provide your answer as follows:\n",
    "\n",
    "Answer:::\n",
    "Evaluation: (your rationale for the rating, as a text)\n",
    "Total rating: (your rating, as a integer between 1 and 5)\n",
    "\n",
    "You MUST provide values for 'Evaluation:' and 'Total rating:' in your answer.\n",
    "\n",
    "Now here are the question and context.\n",
    "\n",
    "Question: \"\"\""
   ]
  },
  {
   "cell_type": "code",
   "execution_count": 14,
   "metadata": {
    "metadata": {}
   },
   "outputs": [],
   "source": [
    "outdf = outdf.withColumn(\n",
    "    \"Eval_Groundness\",\n",
    "    Complete(\n",
    "        model='mixtral-8x7b',prompt = f.concat(\n",
    "            f.lit(question_groundedness_critique_prompt),\n",
    "            f.col(\"GENQ\"),\n",
    "            f.lit(\"\\n Context: \"),\n",
    "            f.col(\"CONTENT_CHUNK\"),\n",
    "            f.lit(\"\\n Answer:::\")\n",
    "            ))\n",
    ")"
   ]
  },
  {
   "cell_type": "code",
   "execution_count": 15,
   "metadata": {
    "metadata": {}
   },
   "outputs": [
    {
     "data": {
      "text/plain": [
       "\" Evaluation: The context explains the reasons for the unreliability of the automated and manual process level controls over financial reporting at the Company. The Company's risk assessment process was not effective, leading to ineffective ITGCs, and the Company did not establish effective user access and segregation of duties controls across financially relevant functions. These issues caused the automated and manual process level controls to be unreliable.\\n\\nTotal rating: 5\\n\\nThe context provides a clear and unambiguous answer to the question. The reasons for the unreliability of the controls are explicitly stated, making it easy to understand why the automated and manual process level controls were unreliable.\""
      ]
     },
     "execution_count": 15,
     "metadata": {},
     "output_type": "execute_result"
    }
   ],
   "source": [
    "## you can always pull this into pandas to see the results\n",
    "outputs = outdf.to_pandas()\n",
    "outputs.EVAL_GROUNDNESS[4]"
   ]
  },
  {
   "cell_type": "markdown",
   "metadata": {},
   "source": [
    "Let's split out the score,which will later filter on."
   ]
  },
  {
   "cell_type": "code",
   "execution_count": 16,
   "metadata": {
    "metadata": {}
   },
   "outputs": [
    {
     "name": "stdout",
     "output_type": "stream",
     "text": [
      "--------------------------------------------------------------------------------------------------------------------------------------------------------------------------------------------------------------------------------------------------------------------------------------------------------------------------------------------------------------------------------------------------------------------------------------------------------------------------------------------------------------------------------------------------------------------------------------------------------------------------------------\n",
      "|\"SEC_DOCUMENT_ID\"          |\"DOCUMENT_TYPE\"   |\"COMPANY_NAME\"                |\"SIC_CODE_CATEGORY\"      |\"SIC_CODE_DESCRIPTION\"                 |\"COUNTRY\"  |\"PERIOD_END_DATE\"  |\"CONTENT_CHUNK\"                                     |\"START_INDEX\"  |\"EMBEDDING\"                                         |\"DOCUMENT_INDEX_ROWNUM\"  |\"ROWNUM\"  |\"GENQA\"                                             |\"SPLIT_COL\"                                         |\"GENQ\"                                              |\"GENA\"                                              |\"EVAL_GROUNDNESS\"                                   |\"SCORE_EG\"  |\n",
      "--------------------------------------------------------------------------------------------------------------------------------------------------------------------------------------------------------------------------------------------------------------------------------------------------------------------------------------------------------------------------------------------------------------------------------------------------------------------------------------------------------------------------------------------------------------------------------------------------------------------------------------\n",
      "|0001874178-23-000009_10-K  |10-K Filing Text  |RIVIAN AUTOMOTIVE, INC. / DE  |Office of Manufacturing  |MOTOR VEHICLES & PASSENGER CAR BODIES  |US         |2022-12-31         |. In addition, the public availability of such ...  |191668         |[0.008882611989974976, -0.014523199759423733, -...  |236                      |3635974   | Factoid question: What happens if Rivian's veh...  |[                                                   |\" Factoid question: What happens if Rivian's ve...  |\"Answer: If Rivian's vehicles do not meet feder...  | Evaluation: The context discusses the risks to...  |3           |\n",
      "|                           |                  |                              |                         |                                       |           |                   |                                                    |               |                                                    |                         |          |Answer: If Rivian's vehicles do not meet federa...  |  \" Factoid question: What happens if Rivian's ...  |                                                    |                                                    |                                                    |            |\n",
      "|                           |                  |                              |                         |                                       |           |                   |                                                    |               |                                                    |                         |          |                                                    |  \"Answer: If Rivian's vehicles do not meet fed...  |                                                    |                                                    |Total rating: 3                                     |            |\n",
      "|                           |                  |                              |                         |                                       |           |                   |                                                    |               |                                                    |                         |          |                                                    |]                                                   |                                                    |                                                    |                                                    |            |\n",
      "|                           |                  |                              |                         |                                       |           |                   |                                                    |               |                                                    |                         |          |                                                    |                                                    |                                                    |                                                    |Explanation: The context does provide some info...  |            |\n",
      "|0001874178-23-000009_10-K  |10-K Filing Text  |RIVIAN AUTOMOTIVE, INC. / DE  |Office of Manufacturing  |MOTOR VEHICLES & PASSENGER CAR BODIES  |US         |2022-12-31         |. Rowe Price Associates, Inc. (“T. Rowe Price”)...  |378970         |[0.016592126339673996, 0.0036223791539669037, -...  |460                      |3636198   | Factoid question: How much aggregate principal...  |[                                                   |\" Factoid question: How much aggregate principa...  |\"Answer: T. Rowe Price was issued an aggregate ...  | Evaluation: The context provides information a...  |5           |\n",
      "|                           |                  |                              |                         |                                       |           |                   |                                                    |               |                                                    |                         |          |Answer: T. Rowe Price was issued an aggregate $...  |  \" Factoid question: How much aggregate princi...  |                                                    |                                                    |                                                    |            |\n",
      "|                           |                  |                              |                         |                                       |           |                   |                                                    |               |                                                    |                         |          |                                                    |  \"Answer: T. Rowe Price was issued an aggregat...  |                                                    |                                                    |Total rating: 5                                     |            |\n",
      "|                           |                  |                              |                         |                                       |           |                   |                                                    |               |                                                    |                         |          |                                                    |]                                                   |                                                    |                                                    |                                                    |            |\n",
      "|0001874178-23-000009_10-K  |10-K Filing Text  |RIVIAN AUTOMOTIVE, INC. / DE  |Office of Manufacturing  |MOTOR VEHICLES & PASSENGER CAR BODIES  |US         |2022-12-31         |. Also, customers may customize their vehicles ...  |160966         |[0.01751519739627838, -0.02231927216053009, -0....  |196                      |3635934   | Factoid question: What can compromise the vehi...  |[                                                   |\" Factoid question: What can compromise the veh...  |\"Answer: Modifying a vehicle's charging systems...  | Evaluation: The context provides information a...  |5           |\n",
      "|                           |                  |                              |                         |                                       |           |                   |                                                    |               |                                                    |                         |          |Answer: Modifying a vehicle's charging systems ...  |  \" Factoid question: What can compromise the v...  |                                                    |                                                    |                                                    |            |\n",
      "|                           |                  |                              |                         |                                       |           |                   |                                                    |               |                                                    |                         |          |                                                    |  \"Answer: Modifying a vehicle's charging syste...  |                                                    |                                                    |Total rating: 5                                     |            |\n",
      "|                           |                  |                              |                         |                                       |           |                   |                                                    |               |                                                    |                         |          |                                                    |]                                                   |                                                    |                                                    |                                                    |            |\n",
      "|                           |                  |                              |                         |                                       |           |                   |                                                    |               |                                                    |                         |          |                                                    |                                                    |                                                    |                                                    |Answer: Unauthorized modifications, aftermarket...  |            |\n",
      "|                           |                  |                              |                         |                                       |           |                   |                                                    |               |                                                    |                         |          |                                                    |                                                    |                                                    |                                                    |                                                    |            |\n",
      "|                           |                  |                              |                         |                                       |           |                   |                                                    |               |                                                    |                         |          |                                                    |                                                    |                                                    |                                                    |Confidence: 95%                                     |            |\n",
      "|0001874178-23-000009_10-K  |10-K Filing Text  |RIVIAN AUTOMOTIVE, INC. / DE  |Office of Manufacturing  |MOTOR VEHICLES & PASSENGER CAR BODIES  |US         |2022-12-31         |. Even if this is not the case, our current act...  |218834         |[0.00653965724632144, -0.036558061838150024, -0...  |268                      |3636006   | Factoid question: What changes may companies f...  |[                                                   |\" Factoid question: What changes may companies ...  |\"Answer: The SEC has proposed rules that requir...  | Evaluation: The context provides information a...  |5           |\n",
      "|                           |                  |                              |                         |                                       |           |                   |                                                    |               |                                                    |                         |          |Answer: The SEC has proposed rules that require...  |  \" Factoid question: What changes may companie...  |                                                    |                                                    |                                                    |            |\n",
      "|                           |                  |                              |                         |                                       |           |                   |                                                    |               |                                                    |                         |          |                                                    |  \"Answer: The SEC has proposed rules that requ...  |                                                    |                                                    |Total rating: 5                                     |            |\n",
      "|                           |                  |                              |                         |                                       |           |                   |                                                    |               |                                                    |                         |          |                                                    |]                                                   |                                                    |                                                    |                                                    |            |\n",
      "|                           |                  |                              |                         |                                       |           |                   |                                                    |               |                                                    |                         |          |                                                    |                                                    |                                                    |                                                    |The question is clearly and unambiguously answe...  |            |\n",
      "|0001874178-23-000009_10-K  |10-K Filing Text  |RIVIAN AUTOMOTIVE, INC. / DE  |Office of Manufacturing  |MOTOR VEHICLES & PASSENGER CAR BODIES  |US         |2022-12-31         |. Based on this assessment, management conclude...  |395918         |[-0.03283561393618584, -0.014828752726316452, -...  |480                      |3636218   | Factoid question: Why were the automated and m...  |[                                                   |\" Factoid question: Why were the automated and ...  |\"Answer: The automated and manual process level...  | Evaluation: The context explains the reasons f...  |5           |\n",
      "|                           |                  |                              |                         |                                       |           |                   |                                                    |               |                                                    |                         |          |Answer: The automated and manual process level ...  |  \" Factoid question: Why were the automated an...  |                                                    |                                                    |                                                    |            |\n",
      "|                           |                  |                              |                         |                                       |           |                   |                                                    |               |                                                    |                         |          |                                                    |  \"Answer: The automated and manual process lev...  |                                                    |                                                    |Total rating: 5                                     |            |\n",
      "|                           |                  |                              |                         |                                       |           |                   |                                                    |               |                                                    |                         |          |                                                    |]                                                   |                                                    |                                                    |                                                    |            |\n",
      "|0001874178-23-000009_10-K  |10-K Filing Text  |RIVIAN AUTOMOTIVE, INC. / DE  |Office of Manufacturing  |MOTOR VEHICLES & PASSENGER CAR BODIES  |US         |2022-12-31         |. While the prevalence of charging stations gen...  |111786         |[-0.011283532716333866, -0.061462514102458954, ...  |138                      |3635876   | Factoid question: Where does Rivian Automotive...  |[                                                   |\" Factoid question: Where does Rivian Automotiv...  |\"Answer: Rivian Automotive plans to expand its ...  | Evaluation: The context states that Rivian Aut...  |3           |\n",
      "|                           |                  |                              |                         |                                       |           |                   |                                                    |               |                                                    |                         |          |Answer: Rivian Automotive plans to expand its c...  |  \" Factoid question: Where does Rivian Automot...  |                                                    |                                                    |                                                    |            |\n",
      "|                           |                  |                              |                         |                                       |           |                   |                                                    |               |                                                    |                         |          |                                                    |  \"Answer: Rivian Automotive plans to expand it...  |                                                    |                                                    |Total rating: 3, The context does provide some ...  |            |\n",
      "|                           |                  |                              |                         |                                       |           |                   |                                                    |               |                                                    |                         |          |                                                    |]                                                   |                                                    |                                                    |                                                    |            |\n",
      "|0001874178-23-000009_10-K  |10-K Filing Text  |RIVIAN AUTOMOTIVE, INC. / DE  |Office of Manufacturing  |MOTOR VEHICLES & PASSENGER CAR BODIES  |US         |2022-12-31         |. Failure to comply with these laws and regulat...  |29410          |[0.028671225532889366, -0.01111201848834753, -0...  |39                       |3635777   | Factoid question: What are the potential conse...  |[                                                   |\" Factoid question: What are the potential cons...  |\"Answer: Failure to comply with these laws and ...  | Evaluation: The context provides a clear descr...  |4           |\n",
      "|                           |                  |                              |                         |                                       |           |                   |                                                    |               |                                                    |                         |          |Answer: Failure to comply with these laws and r...  |  \" Factoid question: What are the potential co...  |                                                    |                                                    |                                                    |            |\n",
      "|                           |                  |                              |                         |                                       |           |                   |                                                    |               |                                                    |                         |          |                                                    |  \"Answer: Failure to comply with these laws an...  |                                                    |                                                    |Total rating: 4                                     |            |\n",
      "|                           |                  |                              |                         |                                       |           |                   |                                                    |               |                                                    |                         |          |Factoid question: What kind of government appro...  |  \"\",                                               |                                                    |                                                    |                                                    |            |\n",
      "|                           |                  |                              |                         |                                       |           |                   |                                                    |               |                                                    |                         |          |Answer: The company is subject to permitting, r...  |  \"Factoid question: What kind of government ap...  |                                                    |                                                    |The context provides a clear and unambiguous an...  |            |\n",
      "|                           |                  |                              |                         |                                       |           |                   |                                                    |               |                                                    |                         |          |                                                    |  \"Answer: The company is subject to permitting...  |                                                    |                                                    |                                                    |            |\n",
      "|                           |                  |                              |                         |                                       |           |                   |                                                    |               |                                                    |                         |          |Factoid question: How do the permitting and reg...  |  \"\",                                               |                                                    |                                                    |                                                    |            |\n",
      "|                           |                  |                              |                         |                                       |           |                   |                                                    |               |                                                    |                         |          |Answer: The permitting and registration require...  |  \"Factoid question: How do the permitting and ...  |                                                    |                                                    |                                                    |            |\n",
      "|                           |                  |                              |                         |                                       |           |                   |                                                    |               |                                                    |                         |          |                                                    |  \"Answer: The permitting and registration requ...  |                                                    |                                                    |                                                    |            |\n",
      "|                           |                  |                              |                         |                                       |           |                   |                                                    |               |                                                    |                         |          |                                                    |]                                                   |                                                    |                                                    |                                                    |            |\n",
      "|0001874178-23-000009_10-K  |10-K Filing Text  |RIVIAN AUTOMOTIVE, INC. / DE  |Office of Manufacturing  |MOTOR VEHICLES & PASSENGER CAR BODIES  |US         |2022-12-31         |. 69 RIVIAN AUTOMOTIVE, INC                         |320628         |[0.0140477130189538, -0.006739410571753979, -0....  |387                      |3636125   | Factoid question: Who is the CEO of Rivian Aut...  |[                                                   |\" Factoid question: Who is the CEO of Rivian Au...  |\"Answer: R.J. Scaringe\"                             | Evaluation: The context provided does not cont...  |1           |\n",
      "|                           |                  |                              |                         |                                       |           |                   |                                                    |               |                                                    |                         |          |Answer: R.J. Scaringe                               |  \" Factoid question: Who is the CEO of Rivian ...  |                                                    |                                                    |                                                    |            |\n",
      "|                           |                  |                              |                         |                                       |           |                   |                                                    |               |                                                    |                         |          |                                                    |  \"Answer: R.J. Scaringe\"                           |                                                    |                                                    |Total rating: 1                                     |            |\n",
      "|                           |                  |                              |                         |                                       |           |                   |                                                    |               |                                                    |                         |          |                                                    |]                                                   |                                                    |                                                    |                                                    |            |\n",
      "|0001874178-23-000009_10-K  |10-K Filing Text  |RIVIAN AUTOMOTIVE, INC. / DE  |Office of Manufacturing  |MOTOR VEHICLES & PASSENGER CAR BODIES  |US         |2022-12-31         |. Customer behavior and usage may result in hig...  |119307         |[-0.027996357530355453, -0.021909255534410477, ...  |147                      |3635885   | Factoid question: What factors could adversely...  |[                                                   |\" Factoid question: What factors could adversel...  |\"Answer: Customer behavior and usage, unsuccess...  | Evaluation: The context provides information a...  |4           |\n",
      "|                           |                  |                              |                         |                                       |           |                   |                                                    |               |                                                    |                         |          |Answer: Customer behavior and usage, unsuccessf...  |  \" Factoid question: What factors could advers...  |                                                    |                                                    |                                                    |            |\n",
      "|                           |                  |                              |                         |                                       |           |                   |                                                    |               |                                                    |                         |          |                                                    |  \"Answer: Customer behavior and usage, unsucce...  |                                                    |                                                    |Total rating: 4                                     |            |\n",
      "|                           |                  |                              |                         |                                       |           |                   |                                                    |               |                                                    |                         |          |                                                    |]                                                   |                                                    |                                                    |                                                    |            |\n",
      "|                           |                  |                              |                         |                                       |           |                   |                                                    |               |                                                    |                         |          |                                                    |                                                    |                                                    |                                                    |The context provides several specific factors t...  |            |\n",
      "|0001874178-23-000009_10-K  |10-K Filing Text  |RIVIAN AUTOMOTIVE, INC. / DE  |Office of Manufacturing  |MOTOR VEHICLES & PASSENGER CAR BODIES  |US         |2022-12-31         |. All statements other than statements of histo...  |6851           |[0.011535296216607094, -0.040209297090768814, -...  |10                       |3635748   | Factoid question: What types of statements in ...  |[                                                   |\" Factoid question: What types of statements in...  |\"Answer: The forward-looking statements in this...  | Evaluation: The context provides a clear defin...  |5           |\n",
      "|                           |                  |                              |                         |                                       |           |                   |                                                    |               |                                                    |                         |          |Answer: The forward-looking statements in this ...  |  \" Factoid question: What types of statements ...  |                                                    |                                                    |                                                    |            |\n",
      "|                           |                  |                              |                         |                                       |           |                   |                                                    |               |                                                    |                         |          |                                                    |  \"Answer: The forward-looking statements in th...  |                                                    |                                                    |Total rating: 5                                     |            |\n",
      "|                           |                  |                              |                         |                                       |           |                   |                                                    |               |                                                    |                         |          |                                                    |]                                                   |                                                    |                                                    |                                                    |            |\n",
      "--------------------------------------------------------------------------------------------------------------------------------------------------------------------------------------------------------------------------------------------------------------------------------------------------------------------------------------------------------------------------------------------------------------------------------------------------------------------------------------------------------------------------------------------------------------------------------------------------------------------------------------\n",
      "\n"
     ]
    }
   ],
   "source": [
    "# Extracting the score by taking the rightmost character of the last part of split_rating\n",
    "outdf = outdf.withColumn(\"score_EG\", regexp_extract(col(\"EVAL_GROUNDNESS\"), r\"Total rating:\\s*(\\d)\", 1))\n",
    "\n",
    "outdf.write.saveAsTable(\"RAJIV.PUBLIC.CONTENT_CHUNKS_10K_GQA_All\", mode=\"overwrite\")\n",
    "# Show results to verify\n",
    "outdf.show()"
   ]
  },
  {
   "cell_type": "markdown",
   "metadata": {},
   "source": [
    "### Relevance Criteria"
   ]
  },
  {
   "cell_type": "code",
   "execution_count": 17,
   "metadata": {
    "metadata": {}
   },
   "outputs": [],
   "source": [
    "question_relevance_critique_prompt = \"\"\"\n",
    "You will be given a question.\n",
    "Your task is to provide a 'total rating' representing how useful this question can be to analysts.\n",
    "Give your answer on a scale of 1 to 5, where 1 means that the question is not useful at all, and 5 means that the question is extremely useful.\n",
    "\n",
    "Provide your answer as follows:\n",
    "\n",
    "Answer:::\n",
    "Evaluation: (your rationale for the rating, as a text)\n",
    "Total rating: (your rating, as an integer between 1 and 5)\n",
    "\n",
    "You MUST provide values for 'Evaluation:' and 'Total rating:' in your answer.\n",
    "\n",
    "Now here is the question.\n",
    "\n",
    "Question: \"\"\""
   ]
  },
  {
   "cell_type": "code",
   "execution_count": 18,
   "metadata": {
    "metadata": {}
   },
   "outputs": [
    {
     "name": "stdout",
     "output_type": "stream",
     "text": [
      "--------------------------------------------------------------------------------------------------------------------------------------------------------------------------------------------------------------------------------------------------------------------------------------------------------------------------------------------------------------------------------------------------------------------------------------------------------------------------------------------------------------------------------------------------------------------------------------------------------------------------------------------------------------------------------------------------------\n",
      "|\"SEC_DOCUMENT_ID\"          |\"DOCUMENT_TYPE\"   |\"COMPANY_NAME\"                |\"SIC_CODE_CATEGORY\"      |\"SIC_CODE_DESCRIPTION\"                 |\"COUNTRY\"  |\"PERIOD_END_DATE\"  |\"CONTENT_CHUNK\"                                     |\"START_INDEX\"  |\"EMBEDDING\"                                         |\"DOCUMENT_INDEX_ROWNUM\"  |\"ROWNUM\"  |\"GENQA\"                                             |\"SPLIT_COL\"                                         |\"GENQ\"                                              |\"GENA\"                                              |\"EVAL_GROUNDNESS\"                                   |\"SCORE_EG\"  |\"EVAL_RELEVANCE\"                                    |\"SCORE_ER\"  |\n",
      "--------------------------------------------------------------------------------------------------------------------------------------------------------------------------------------------------------------------------------------------------------------------------------------------------------------------------------------------------------------------------------------------------------------------------------------------------------------------------------------------------------------------------------------------------------------------------------------------------------------------------------------------------------------------------------------------------------\n",
      "|0001874178-23-000009_10-K  |10-K Filing Text  |RIVIAN AUTOMOTIVE, INC. / DE  |Office of Manufacturing  |MOTOR VEHICLES & PASSENGER CAR BODIES  |US         |2022-12-31         |. In addition, the public availability of such ...  |191668         |[0.008882611989974976, -0.014523199759423733, -...  |236                      |3635974   | Factoid question: What happens if Rivian's veh...  |[                                                   |\" Factoid question: What happens if Rivian's ve...  |\"Answer: If Rivian's vehicles do not meet feder...  | Evaluation: The context discusses the risks to...  |3           | Evaluation: This question is useful for analys...  |5           |\n",
      "|                           |                  |                              |                         |                                       |           |                   |                                                    |               |                                                    |                         |          |Answer: If Rivian's vehicles do not meet federa...  |  \" Factoid question: What happens if Rivian's ...  |                                                    |                                                    |                                                    |            |                                                    |            |\n",
      "|                           |                  |                              |                         |                                       |           |                   |                                                    |               |                                                    |                         |          |                                                    |  \"Answer: If Rivian's vehicles do not meet fed...  |                                                    |                                                    |Total rating: 3                                     |            |Total rating: 5                                     |            |\n",
      "|                           |                  |                              |                         |                                       |           |                   |                                                    |               |                                                    |                         |          |                                                    |]                                                   |                                                    |                                                    |                                                    |            |                                                    |            |\n",
      "|                           |                  |                              |                         |                                       |           |                   |                                                    |               |                                                    |                         |          |                                                    |                                                    |                                                    |                                                    |                                                    |            |Confidence: 90%                                     |            |\n",
      "|0001874178-23-000009_10-K  |10-K Filing Text  |RIVIAN AUTOMOTIVE, INC. / DE  |Office of Manufacturing  |MOTOR VEHICLES & PASSENGER CAR BODIES  |US         |2022-12-31         |. Rowe Price Associates, Inc. (“T. Rowe Price”)...  |378970         |[0.016592126339673996, 0.0036223791539669037, -...  |460                      |3636198   | Factoid question: How much aggregate principal...  |[                                                   |\" Factoid question: How much aggregate principa...  |\"Answer: T. Rowe Price was issued an aggregate ...  | Evaluation: The context provides information a...  |5           | Without additional context, it is difficult to...  |3           |\n",
      "|                           |                  |                              |                         |                                       |           |                   |                                                    |               |                                                    |                         |          |Answer: T. Rowe Price was issued an aggregate $...  |  \" Factoid question: How much aggregate princi...  |                                                    |                                                    |                                                    |            |                                                    |            |\n",
      "|                           |                  |                              |                         |                                       |           |                   |                                                    |               |                                                    |                         |          |                                                    |  \"Answer: T. Rowe Price was issued an aggregat...  |                                                    |                                                    |Total rating: 5                                     |            |Evaluation: This question is seeking specific i...  |            |\n",
      "|                           |                  |                              |                         |                                       |           |                   |                                                    |               |                                                    |                         |          |                                                    |]                                                   |                                                    |                                                    |                                                    |            |                                                    |            |\n",
      "|                           |                  |                              |                         |                                       |           |                   |                                                    |               |                                                    |                         |          |                                                    |                                                    |                                                    |                                                    |                                                    |            |Total rating: 3                                     |            |\n",
      "|                           |                  |                              |                         |                                       |           |                   |                                                    |               |                                                    |                         |          |                                                    |                                                    |                                                    |                                                    |                                                    |            |                                                    |            |\n",
      "|                           |                  |                              |                         |                                       |           |                   |                                                    |               |                                                    |                         |          |                                                    |                                                    |                                                    |                                                    |                                                    |            |This question is moderately useful, as it seeks...  |            |\n",
      "|0001874178-23-000009_10-K  |10-K Filing Text  |RIVIAN AUTOMOTIVE, INC. / DE  |Office of Manufacturing  |MOTOR VEHICLES & PASSENGER CAR BODIES  |US         |2022-12-31         |. Also, customers may customize their vehicles ...  |160966         |[0.01751519739627838, -0.02231927216053009, -0....  |196                      |3635934   | Factoid question: What can compromise the vehi...  |[                                                   |\" Factoid question: What can compromise the veh...  |\"Answer: Modifying a vehicle's charging systems...  | Evaluation: The context provides information a...  |5           | Evaluation: This question is seeking informati...  |4           |\n",
      "|                           |                  |                              |                         |                                       |           |                   |                                                    |               |                                                    |                         |          |Answer: Modifying a vehicle's charging systems ...  |  \" Factoid question: What can compromise the v...  |                                                    |                                                    |                                                    |            |Total rating: 4                                     |            |\n",
      "|                           |                  |                              |                         |                                       |           |                   |                                                    |               |                                                    |                         |          |                                                    |  \"Answer: Modifying a vehicle's charging syste...  |                                                    |                                                    |Total rating: 5                                     |            |                                                    |            |\n",
      "|                           |                  |                              |                         |                                       |           |                   |                                                    |               |                                                    |                         |          |                                                    |]                                                   |                                                    |                                                    |                                                    |            |However, it's worth noting that while this ques...  |            |\n",
      "|                           |                  |                              |                         |                                       |           |                   |                                                    |               |                                                    |                         |          |                                                    |                                                    |                                                    |                                                    |Answer: Unauthorized modifications, aftermarket...  |            |                                                    |            |\n",
      "|                           |                  |                              |                         |                                       |           |                   |                                                    |               |                                                    |                         |          |                                                    |                                                    |                                                    |                                                    |                                                    |            |                                                    |            |\n",
      "|                           |                  |                              |                         |                                       |           |                   |                                                    |               |                                                    |                         |          |                                                    |                                                    |                                                    |                                                    |Confidence: 95%                                     |            |                                                    |            |\n",
      "|0001874178-23-000009_10-K  |10-K Filing Text  |RIVIAN AUTOMOTIVE, INC. / DE  |Office of Manufacturing  |MOTOR VEHICLES & PASSENGER CAR BODIES  |US         |2022-12-31         |. Even if this is not the case, our current act...  |218834         |[0.00653965724632144, -0.036558061838150024, -0...  |268                      |3636006   | Factoid question: What changes may companies f...  |[                                                   |\" Factoid question: What changes may companies ...  |\"Answer: The SEC has proposed rules that requir...  | Evaluation: The context provides information a...  |5           | Evaluation: This question is relevant and usef...  |5           |\n",
      "|                           |                  |                              |                         |                                       |           |                   |                                                    |               |                                                    |                         |          |Answer: The SEC has proposed rules that require...  |  \" Factoid question: What changes may companie...  |                                                    |                                                    |                                                    |            |                                                    |            |\n",
      "|                           |                  |                              |                         |                                       |           |                   |                                                    |               |                                                    |                         |          |                                                    |  \"Answer: The SEC has proposed rules that requ...  |                                                    |                                                    |Total rating: 5                                     |            |Total rating: 5                                     |            |\n",
      "|                           |                  |                              |                         |                                       |           |                   |                                                    |               |                                                    |                         |          |                                                    |]                                                   |                                                    |                                                    |                                                    |            |                                                    |            |\n",
      "|                           |                  |                              |                         |                                       |           |                   |                                                    |               |                                                    |                         |          |                                                    |                                                    |                                                    |                                                    |The question is clearly and unambiguously answe...  |            |Confidence: 85%                                     |            |\n",
      "|0001874178-23-000009_10-K  |10-K Filing Text  |RIVIAN AUTOMOTIVE, INC. / DE  |Office of Manufacturing  |MOTOR VEHICLES & PASSENGER CAR BODIES  |US         |2022-12-31         |. Based on this assessment, management conclude...  |395918         |[-0.03283561393618584, -0.014828752726316452, -...  |480                      |3636218   | Factoid question: Why were the automated and m...  |[                                                   |\" Factoid question: Why were the automated and ...  |\"Answer: The automated and manual process level...  | Evaluation: The context explains the reasons f...  |5           | Evaluation: This question is seeking to unders...  |5           |\n",
      "|                           |                  |                              |                         |                                       |           |                   |                                                    |               |                                                    |                         |          |Answer: The automated and manual process level ...  |  \" Factoid question: Why were the automated an...  |                                                    |                                                    |                                                    |            |                                                    |            |\n",
      "|                           |                  |                              |                         |                                       |           |                   |                                                    |               |                                                    |                         |          |                                                    |  \"Answer: The automated and manual process lev...  |                                                    |                                                    |Total rating: 5                                     |            |Total rating: 5                                     |            |\n",
      "|                           |                  |                              |                         |                                       |           |                   |                                                    |               |                                                    |                         |          |                                                    |]                                                   |                                                    |                                                    |                                                    |            |                                                    |            |\n",
      "|                           |                  |                              |                         |                                       |           |                   |                                                    |               |                                                    |                         |          |                                                    |                                                    |                                                    |                                                    |                                                    |            |This question is extremely useful for analysts ...  |            |\n",
      "|0001874178-23-000009_10-K  |10-K Filing Text  |RIVIAN AUTOMOTIVE, INC. / DE  |Office of Manufacturing  |MOTOR VEHICLES & PASSENGER CAR BODIES  |US         |2022-12-31         |. While the prevalence of charging stations gen...  |111786         |[-0.011283532716333866, -0.061462514102458954, ...  |138                      |3635876   | Factoid question: Where does Rivian Automotive...  |[                                                   |\" Factoid question: Where does Rivian Automotiv...  |\"Answer: Rivian Automotive plans to expand its ...  | Evaluation: The context states that Rivian Aut...  |3           | Evaluation: This question is useful for analys...  |4           |\n",
      "|                           |                  |                              |                         |                                       |           |                   |                                                    |               |                                                    |                         |          |Answer: Rivian Automotive plans to expand its c...  |  \" Factoid question: Where does Rivian Automot...  |                                                    |                                                    |                                                    |            |                                                    |            |\n",
      "|                           |                  |                              |                         |                                       |           |                   |                                                    |               |                                                    |                         |          |                                                    |  \"Answer: Rivian Automotive plans to expand it...  |                                                    |                                                    |Total rating: 3, The context does provide some ...  |            |Total rating: 4                                     |            |\n",
      "|                           |                  |                              |                         |                                       |           |                   |                                                    |               |                                                    |                         |          |                                                    |]                                                   |                                                    |                                                    |                                                    |            |                                                    |            |\n",
      "|                           |                  |                              |                         |                                       |           |                   |                                                    |               |                                                    |                         |          |                                                    |                                                    |                                                    |                                                    |                                                    |            |Explanation: While the question is relevant and...  |            |\n",
      "|0001874178-23-000009_10-K  |10-K Filing Text  |RIVIAN AUTOMOTIVE, INC. / DE  |Office of Manufacturing  |MOTOR VEHICLES & PASSENGER CAR BODIES  |US         |2022-12-31         |. Failure to comply with these laws and regulat...  |29410          |[0.028671225532889366, -0.01111201848834753, -0...  |39                       |3635777   | Factoid question: What are the potential conse...  |[                                                   |\" Factoid question: What are the potential cons...  |\"Answer: Failure to comply with these laws and ...  | Evaluation: The context provides a clear descr...  |4           | Evaluation: This question is open-ended and co...  |5           |\n",
      "|                           |                  |                              |                         |                                       |           |                   |                                                    |               |                                                    |                         |          |Answer: Failure to comply with these laws and r...  |  \" Factoid question: What are the potential co...  |                                                    |                                                    |                                                    |            |                                                    |            |\n",
      "|                           |                  |                              |                         |                                       |           |                   |                                                    |               |                                                    |                         |          |                                                    |  \"Answer: Failure to comply with these laws an...  |                                                    |                                                    |Total rating: 4                                     |            |Total rating: 5                                     |            |\n",
      "|                           |                  |                              |                         |                                       |           |                   |                                                    |               |                                                    |                         |          |Factoid question: What kind of government appro...  |  \"\",                                               |                                                    |                                                    |                                                    |            |This question is extremely useful for analysts ...  |            |\n",
      "|                           |                  |                              |                         |                                       |           |                   |                                                    |               |                                                    |                         |          |Answer: The company is subject to permitting, r...  |  \"Factoid question: What kind of government ap...  |                                                    |                                                    |The context provides a clear and unambiguous an...  |            |                                                    |            |\n",
      "|                           |                  |                              |                         |                                       |           |                   |                                                    |               |                                                    |                         |          |                                                    |  \"Answer: The company is subject to permitting...  |                                                    |                                                    |                                                    |            |                                                    |            |\n",
      "|                           |                  |                              |                         |                                       |           |                   |                                                    |               |                                                    |                         |          |Factoid question: How do the permitting and reg...  |  \"\",                                               |                                                    |                                                    |                                                    |            |                                                    |            |\n",
      "|                           |                  |                              |                         |                                       |           |                   |                                                    |               |                                                    |                         |          |Answer: The permitting and registration require...  |  \"Factoid question: How do the permitting and ...  |                                                    |                                                    |                                                    |            |                                                    |            |\n",
      "|                           |                  |                              |                         |                                       |           |                   |                                                    |               |                                                    |                         |          |                                                    |  \"Answer: The permitting and registration requ...  |                                                    |                                                    |                                                    |            |                                                    |            |\n",
      "|                           |                  |                              |                         |                                       |           |                   |                                                    |               |                                                    |                         |          |                                                    |]                                                   |                                                    |                                                    |                                                    |            |                                                    |            |\n",
      "|0001874178-23-000009_10-K  |10-K Filing Text  |RIVIAN AUTOMOTIVE, INC. / DE  |Office of Manufacturing  |MOTOR VEHICLES & PASSENGER CAR BODIES  |US         |2022-12-31         |. 69 RIVIAN AUTOMOTIVE, INC                         |320628         |[0.0140477130189538, -0.006739410571753979, -0....  |387                      |3636125   | Factoid question: Who is the CEO of Rivian Aut...  |[                                                   |\" Factoid question: Who is the CEO of Rivian Au...  |\"Answer: R.J. Scaringe\"                             | Evaluation: The context provided does not cont...  |1           | Evaluation: This question is specific and seek...  |5           |\n",
      "|                           |                  |                              |                         |                                       |           |                   |                                                    |               |                                                    |                         |          |Answer: R.J. Scaringe                               |  \" Factoid question: Who is the CEO of Rivian ...  |                                                    |                                                    |                                                    |            |                                                    |            |\n",
      "|                           |                  |                              |                         |                                       |           |                   |                                                    |               |                                                    |                         |          |                                                    |  \"Answer: R.J. Scaringe\"                           |                                                    |                                                    |Total rating: 1                                     |            |Total rating: 5                                     |            |\n",
      "|                           |                  |                              |                         |                                       |           |                   |                                                    |               |                                                    |                         |          |                                                    |]                                                   |                                                    |                                                    |                                                    |            |                                                    |            |\n",
      "|                           |                  |                              |                         |                                       |           |                   |                                                    |               |                                                    |                         |          |                                                    |                                                    |                                                    |                                                    |                                                    |            |Confidence: 90%                                     |            |\n",
      "|0001874178-23-000009_10-K  |10-K Filing Text  |RIVIAN AUTOMOTIVE, INC. / DE  |Office of Manufacturing  |MOTOR VEHICLES & PASSENGER CAR BODIES  |US         |2022-12-31         |. Customer behavior and usage may result in hig...  |119307         |[-0.027996357530355453, -0.021909255534410477, ...  |147                      |3635885   | Factoid question: What factors could adversely...  |[                                                   |\" Factoid question: What factors could adversel...  |\"Answer: Customer behavior and usage, unsuccess...  | Evaluation: The context provides information a...  |4           | Evaluation: This question is open-ended and al...  |5           |\n",
      "|                           |                  |                              |                         |                                       |           |                   |                                                    |               |                                                    |                         |          |Answer: Customer behavior and usage, unsuccessf...  |  \" Factoid question: What factors could advers...  |                                                    |                                                    |                                                    |            |                                                    |            |\n",
      "|                           |                  |                              |                         |                                       |           |                   |                                                    |               |                                                    |                         |          |                                                    |  \"Answer: Customer behavior and usage, unsucce...  |                                                    |                                                    |Total rating: 4                                     |            |Total rating: 5                                     |            |\n",
      "|                           |                  |                              |                         |                                       |           |                   |                                                    |               |                                                    |                         |          |                                                    |]                                                   |                                                    |                                                    |                                                    |            |                                                    |            |\n",
      "|                           |                  |                              |                         |                                       |           |                   |                                                    |               |                                                    |                         |          |                                                    |                                                    |                                                    |                                                    |The context provides several specific factors t...  |            |This question is useful for analysts as it enco...  |            |\n",
      "|0001874178-23-000009_10-K  |10-K Filing Text  |RIVIAN AUTOMOTIVE, INC. / DE  |Office of Manufacturing  |MOTOR VEHICLES & PASSENGER CAR BODIES  |US         |2022-12-31         |. All statements other than statements of histo...  |6851           |[0.011535296216607094, -0.040209297090768814, -...  |10                       |3635748   | Factoid question: What types of statements in ...  |[                                                   |\" Factoid question: What types of statements in...  |\"Answer: The forward-looking statements in this...  | Evaluation: The context provides a clear defin...  |5           | Evaluation: This question is useful for analys...  |5           |\n",
      "|                           |                  |                              |                         |                                       |           |                   |                                                    |               |                                                    |                         |          |Answer: The forward-looking statements in this ...  |  \" Factoid question: What types of statements ...  |                                                    |                                                    |                                                    |            |                                                    |            |\n",
      "|                           |                  |                              |                         |                                       |           |                   |                                                    |               |                                                    |                         |          |                                                    |  \"Answer: The forward-looking statements in th...  |                                                    |                                                    |Total rating: 5                                     |            |Total rating: 5                                     |            |\n",
      "|                           |                  |                              |                         |                                       |           |                   |                                                    |               |                                                    |                         |          |                                                    |]                                                   |                                                    |                                                    |                                                    |            |                                                    |            |\n",
      "|                           |                  |                              |                         |                                       |           |                   |                                                    |               |                                                    |                         |          |                                                    |                                                    |                                                    |                                                    |Answer: The types of statements in this Form 10...  |            |The question is well-structured, clear, and rel...  |            |\n",
      "--------------------------------------------------------------------------------------------------------------------------------------------------------------------------------------------------------------------------------------------------------------------------------------------------------------------------------------------------------------------------------------------------------------------------------------------------------------------------------------------------------------------------------------------------------------------------------------------------------------------------------------------------------------------------------------------------------\n",
      "\n"
     ]
    }
   ],
   "source": [
    "outdf = outdf.withColumn(\n",
    "    \"EVAL_RELEVANCE\",\n",
    "    Complete(\n",
    "        model='mixtral-8x7b',prompt = f.concat(\n",
    "            f.lit(question_relevance_critique_prompt),\n",
    "            f.col(\"GENQ\"),\n",
    "            f.lit(\"\\n Answer:::\")\n",
    "            ))\n",
    ")\n",
    "\n",
    "# Extracting the score by taking the rightmost character of the last part of split_rating\n",
    "outdf = outdf.withColumn(\"score_ER\", regexp_extract(col(\"EVAL_RELEVANCE\"), r\"Total rating:\\s*(\\d)\", 1))\n",
    "\n",
    "outdf.write.saveAsTable(\"RAJIV.PUBLIC.CONTENT_CHUNKS_10K_GQA_All\", mode=\"overwrite\")\n",
    "# Show results to verify\n",
    "outdf.show()"
   ]
  },
  {
   "cell_type": "markdown",
   "metadata": {},
   "source": [
    "### Critique Criteria"
   ]
  },
  {
   "cell_type": "code",
   "execution_count": 19,
   "metadata": {
    "metadata": {}
   },
   "outputs": [],
   "source": [
    "question_standalone_critique_prompt = \"\"\"\n",
    "You will be given a question.\n",
    "Your task is to provide a 'total rating' representing how context-independant this question is.\n",
    "Give your answer on a scale of 1 to 5, where 1 means that the question depends on additional information to be understood, and 5 means that the question makes sense by itself.\n",
    "For instance, if the question refers to a particular setting, like 'in the context' or 'in the document', the rating must be 1.\n",
    "The questions can contain obscure technical nouns or acronyms like Gradio, Hub, Hugging Face or Space and still be a 5: it must simply be clear to an operator with access to documentation what the question is about.\n",
    "\n",
    "For instance, \"What is the name of the checkpoint from which the ViT model is imported?\" should receive a 1, since there is an implicit mention of a context, thus the question is not independant from the context.\n",
    "\n",
    "Provide your answer as follows:\n",
    "\n",
    "Answer:::\n",
    "Evaluation: (your rationale for the rating, as a text)\n",
    "Total rating: (your rating, as an integer between 1 and 5)\n",
    "\n",
    "You MUST provide values for 'Evaluation:' and 'Total rating:' in your answer.\n",
    "\n",
    "Now here is the question.\n",
    "\n",
    "Question: \"\"\""
   ]
  },
  {
   "cell_type": "code",
   "execution_count": 20,
   "metadata": {
    "metadata": {}
   },
   "outputs": [
    {
     "name": "stdout",
     "output_type": "stream",
     "text": [
      "--------------------------------------------------------------------------------------------------------------------------------------------------------------------------------------------------------------------------------------------------------------------------------------------------------------------------------------------------------------------------------------------------------------------------------------------------------------------------------------------------------------------------------------------------------------------------------------------------------------------------------------------------------------------------------------------------------------------------------------------------------------------------\n",
      "|\"SEC_DOCUMENT_ID\"          |\"DOCUMENT_TYPE\"   |\"COMPANY_NAME\"                |\"SIC_CODE_CATEGORY\"      |\"SIC_CODE_DESCRIPTION\"                 |\"COUNTRY\"  |\"PERIOD_END_DATE\"  |\"CONTENT_CHUNK\"                                     |\"START_INDEX\"  |\"EMBEDDING\"                                         |\"DOCUMENT_INDEX_ROWNUM\"  |\"ROWNUM\"  |\"GENQA\"                                             |\"SPLIT_COL\"                                         |\"GENQ\"                                              |\"GENA\"                                              |\"EVAL_GROUNDNESS\"                                   |\"SCORE_EG\"  |\"EVAL_RELEVANCE\"                                    |\"SCORE_ER\"  |\"EVAL_CRITIQUE\"                                     |\"SCORE_EC\"  |\n",
      "--------------------------------------------------------------------------------------------------------------------------------------------------------------------------------------------------------------------------------------------------------------------------------------------------------------------------------------------------------------------------------------------------------------------------------------------------------------------------------------------------------------------------------------------------------------------------------------------------------------------------------------------------------------------------------------------------------------------------------------------------------------------------\n",
      "|0001874178-23-000009_10-K  |10-K Filing Text  |RIVIAN AUTOMOTIVE, INC. / DE  |Office of Manufacturing  |MOTOR VEHICLES & PASSENGER CAR BODIES  |US         |2022-12-31         |. In addition, the public availability of such ...  |191668         |[0.008882611989974976, -0.014523199759423733, -...  |236                      |3635974   | Factoid question: What happens if Rivian's veh...  |[                                                   |\" Factoid question: What happens if Rivian's ve...  |\"Answer: If Rivian's vehicles do not meet feder...  | Evaluation: The context discusses the risks to...  |3           | Evaluation: This question is useful for analys...  |5           | Evaluation: This question is useful for analys...  |5           |\n",
      "|                           |                  |                              |                         |                                       |           |                   |                                                    |               |                                                    |                         |          |Answer: If Rivian's vehicles do not meet federa...  |  \" Factoid question: What happens if Rivian's ...  |                                                    |                                                    |                                                    |            |                                                    |            |                                                    |            |\n",
      "|                           |                  |                              |                         |                                       |           |                   |                                                    |               |                                                    |                         |          |                                                    |  \"Answer: If Rivian's vehicles do not meet fed...  |                                                    |                                                    |Total rating: 3                                     |            |Total rating: 5                                     |            |Total rating: 5                                     |            |\n",
      "|                           |                  |                              |                         |                                       |           |                   |                                                    |               |                                                    |                         |          |                                                    |]                                                   |                                                    |                                                    |                                                    |            |                                                    |            |                                                    |            |\n",
      "|                           |                  |                              |                         |                                       |           |                   |                                                    |               |                                                    |                         |          |                                                    |                                                    |                                                    |                                                    |                                                    |            |Confidence: 90%                                     |            |Confidence: 90%                                     |            |\n",
      "|0001874178-23-000009_10-K  |10-K Filing Text  |RIVIAN AUTOMOTIVE, INC. / DE  |Office of Manufacturing  |MOTOR VEHICLES & PASSENGER CAR BODIES  |US         |2022-12-31         |. Rowe Price Associates, Inc. (“T. Rowe Price”)...  |378970         |[0.016592126339673996, 0.0036223791539669037, -...  |460                      |3636198   | Factoid question: How much aggregate principal...  |[                                                   |\" Factoid question: How much aggregate principa...  |\"Answer: T. Rowe Price was issued an aggregate ...  | Evaluation: The context provides information a...  |5           | Without additional context, it is difficult to...  |3           | Without additional context, it is difficult to...  |3           |\n",
      "|                           |                  |                              |                         |                                       |           |                   |                                                    |               |                                                    |                         |          |Answer: T. Rowe Price was issued an aggregate $...  |  \" Factoid question: How much aggregate princi...  |                                                    |                                                    |                                                    |            |                                                    |            |                                                    |            |\n",
      "|                           |                  |                              |                         |                                       |           |                   |                                                    |               |                                                    |                         |          |                                                    |  \"Answer: T. Rowe Price was issued an aggregat...  |                                                    |                                                    |Total rating: 5                                     |            |Evaluation: This question is seeking specific i...  |            |Evaluation: This question is seeking specific i...  |            |\n",
      "|                           |                  |                              |                         |                                       |           |                   |                                                    |               |                                                    |                         |          |                                                    |]                                                   |                                                    |                                                    |                                                    |            |                                                    |            |                                                    |            |\n",
      "|                           |                  |                              |                         |                                       |           |                   |                                                    |               |                                                    |                         |          |                                                    |                                                    |                                                    |                                                    |                                                    |            |Total rating: 3                                     |            |Total rating: 3                                     |            |\n",
      "|                           |                  |                              |                         |                                       |           |                   |                                                    |               |                                                    |                         |          |                                                    |                                                    |                                                    |                                                    |                                                    |            |                                                    |            |                                                    |            |\n",
      "|                           |                  |                              |                         |                                       |           |                   |                                                    |               |                                                    |                         |          |                                                    |                                                    |                                                    |                                                    |                                                    |            |This question is moderately useful, as it seeks...  |            |This question is moderately useful, as it seeks...  |            |\n",
      "|0001874178-23-000009_10-K  |10-K Filing Text  |RIVIAN AUTOMOTIVE, INC. / DE  |Office of Manufacturing  |MOTOR VEHICLES & PASSENGER CAR BODIES  |US         |2022-12-31         |. Also, customers may customize their vehicles ...  |160966         |[0.01751519739627838, -0.02231927216053009, -0....  |196                      |3635934   | Factoid question: What can compromise the vehi...  |[                                                   |\" Factoid question: What can compromise the veh...  |\"Answer: Modifying a vehicle's charging systems...  | Evaluation: The context provides information a...  |5           | Evaluation: This question is seeking informati...  |4           | Evaluation: This question is seeking informati...  |4           |\n",
      "|                           |                  |                              |                         |                                       |           |                   |                                                    |               |                                                    |                         |          |Answer: Modifying a vehicle's charging systems ...  |  \" Factoid question: What can compromise the v...  |                                                    |                                                    |                                                    |            |Total rating: 4                                     |            |Total rating: 4                                     |            |\n",
      "|                           |                  |                              |                         |                                       |           |                   |                                                    |               |                                                    |                         |          |                                                    |  \"Answer: Modifying a vehicle's charging syste...  |                                                    |                                                    |Total rating: 5                                     |            |                                                    |            |                                                    |            |\n",
      "|                           |                  |                              |                         |                                       |           |                   |                                                    |               |                                                    |                         |          |                                                    |]                                                   |                                                    |                                                    |                                                    |            |However, it's worth noting that while this ques...  |            |However, it's worth noting that while this ques...  |            |\n",
      "|                           |                  |                              |                         |                                       |           |                   |                                                    |               |                                                    |                         |          |                                                    |                                                    |                                                    |                                                    |Answer: Unauthorized modifications, aftermarket...  |            |                                                    |            |                                                    |            |\n",
      "|                           |                  |                              |                         |                                       |           |                   |                                                    |               |                                                    |                         |          |                                                    |                                                    |                                                    |                                                    |                                                    |            |                                                    |            |                                                    |            |\n",
      "|                           |                  |                              |                         |                                       |           |                   |                                                    |               |                                                    |                         |          |                                                    |                                                    |                                                    |                                                    |Confidence: 95%                                     |            |                                                    |            |                                                    |            |\n",
      "|0001874178-23-000009_10-K  |10-K Filing Text  |RIVIAN AUTOMOTIVE, INC. / DE  |Office of Manufacturing  |MOTOR VEHICLES & PASSENGER CAR BODIES  |US         |2022-12-31         |. Even if this is not the case, our current act...  |218834         |[0.00653965724632144, -0.036558061838150024, -0...  |268                      |3636006   | Factoid question: What changes may companies f...  |[                                                   |\" Factoid question: What changes may companies ...  |\"Answer: The SEC has proposed rules that requir...  | Evaluation: The context provides information a...  |5           | Evaluation: This question is relevant and usef...  |5           | Evaluation: This question is relevant and usef...  |5           |\n",
      "|                           |                  |                              |                         |                                       |           |                   |                                                    |               |                                                    |                         |          |Answer: The SEC has proposed rules that require...  |  \" Factoid question: What changes may companie...  |                                                    |                                                    |                                                    |            |                                                    |            |                                                    |            |\n",
      "|                           |                  |                              |                         |                                       |           |                   |                                                    |               |                                                    |                         |          |                                                    |  \"Answer: The SEC has proposed rules that requ...  |                                                    |                                                    |Total rating: 5                                     |            |Total rating: 5                                     |            |Total rating: 5                                     |            |\n",
      "|                           |                  |                              |                         |                                       |           |                   |                                                    |               |                                                    |                         |          |                                                    |]                                                   |                                                    |                                                    |                                                    |            |                                                    |            |                                                    |            |\n",
      "|                           |                  |                              |                         |                                       |           |                   |                                                    |               |                                                    |                         |          |                                                    |                                                    |                                                    |                                                    |The question is clearly and unambiguously answe...  |            |Confidence: 85%                                     |            |Confidence: 85%                                     |            |\n",
      "|0001874178-23-000009_10-K  |10-K Filing Text  |RIVIAN AUTOMOTIVE, INC. / DE  |Office of Manufacturing  |MOTOR VEHICLES & PASSENGER CAR BODIES  |US         |2022-12-31         |. Based on this assessment, management conclude...  |395918         |[-0.03283561393618584, -0.014828752726316452, -...  |480                      |3636218   | Factoid question: Why were the automated and m...  |[                                                   |\" Factoid question: Why were the automated and ...  |\"Answer: The automated and manual process level...  | Evaluation: The context explains the reasons f...  |5           | Evaluation: This question is seeking to unders...  |5           | Evaluation: This question is seeking to unders...  |5           |\n",
      "|                           |                  |                              |                         |                                       |           |                   |                                                    |               |                                                    |                         |          |Answer: The automated and manual process level ...  |  \" Factoid question: Why were the automated an...  |                                                    |                                                    |                                                    |            |                                                    |            |                                                    |            |\n",
      "|                           |                  |                              |                         |                                       |           |                   |                                                    |               |                                                    |                         |          |                                                    |  \"Answer: The automated and manual process lev...  |                                                    |                                                    |Total rating: 5                                     |            |Total rating: 5                                     |            |Total rating: 5                                     |            |\n",
      "|                           |                  |                              |                         |                                       |           |                   |                                                    |               |                                                    |                         |          |                                                    |]                                                   |                                                    |                                                    |                                                    |            |                                                    |            |                                                    |            |\n",
      "|                           |                  |                              |                         |                                       |           |                   |                                                    |               |                                                    |                         |          |                                                    |                                                    |                                                    |                                                    |                                                    |            |This question is extremely useful for analysts ...  |            |This question is extremely useful for analysts ...  |            |\n",
      "|0001874178-23-000009_10-K  |10-K Filing Text  |RIVIAN AUTOMOTIVE, INC. / DE  |Office of Manufacturing  |MOTOR VEHICLES & PASSENGER CAR BODIES  |US         |2022-12-31         |. While the prevalence of charging stations gen...  |111786         |[-0.011283532716333866, -0.061462514102458954, ...  |138                      |3635876   | Factoid question: Where does Rivian Automotive...  |[                                                   |\" Factoid question: Where does Rivian Automotiv...  |\"Answer: Rivian Automotive plans to expand its ...  | Evaluation: The context states that Rivian Aut...  |3           | Evaluation: This question is useful for analys...  |4           | Evaluation: This question is useful for analys...  |4           |\n",
      "|                           |                  |                              |                         |                                       |           |                   |                                                    |               |                                                    |                         |          |Answer: Rivian Automotive plans to expand its c...  |  \" Factoid question: Where does Rivian Automot...  |                                                    |                                                    |                                                    |            |                                                    |            |                                                    |            |\n",
      "|                           |                  |                              |                         |                                       |           |                   |                                                    |               |                                                    |                         |          |                                                    |  \"Answer: Rivian Automotive plans to expand it...  |                                                    |                                                    |Total rating: 3, The context does provide some ...  |            |Total rating: 4                                     |            |Total rating: 4                                     |            |\n",
      "|                           |                  |                              |                         |                                       |           |                   |                                                    |               |                                                    |                         |          |                                                    |]                                                   |                                                    |                                                    |                                                    |            |                                                    |            |                                                    |            |\n",
      "|                           |                  |                              |                         |                                       |           |                   |                                                    |               |                                                    |                         |          |                                                    |                                                    |                                                    |                                                    |                                                    |            |Explanation: While the question is relevant and...  |            |Explanation: While the question is relevant and...  |            |\n",
      "|0001874178-23-000009_10-K  |10-K Filing Text  |RIVIAN AUTOMOTIVE, INC. / DE  |Office of Manufacturing  |MOTOR VEHICLES & PASSENGER CAR BODIES  |US         |2022-12-31         |. Failure to comply with these laws and regulat...  |29410          |[0.028671225532889366, -0.01111201848834753, -0...  |39                       |3635777   | Factoid question: What are the potential conse...  |[                                                   |\" Factoid question: What are the potential cons...  |\"Answer: Failure to comply with these laws and ...  | Evaluation: The context provides a clear descr...  |4           | Evaluation: This question is open-ended and co...  |5           | Evaluation: This question is open-ended and co...  |5           |\n",
      "|                           |                  |                              |                         |                                       |           |                   |                                                    |               |                                                    |                         |          |Answer: Failure to comply with these laws and r...  |  \" Factoid question: What are the potential co...  |                                                    |                                                    |                                                    |            |                                                    |            |                                                    |            |\n",
      "|                           |                  |                              |                         |                                       |           |                   |                                                    |               |                                                    |                         |          |                                                    |  \"Answer: Failure to comply with these laws an...  |                                                    |                                                    |Total rating: 4                                     |            |Total rating: 5                                     |            |Total rating: 5                                     |            |\n",
      "|                           |                  |                              |                         |                                       |           |                   |                                                    |               |                                                    |                         |          |Factoid question: What kind of government appro...  |  \"\",                                               |                                                    |                                                    |                                                    |            |This question is extremely useful for analysts ...  |            |This question is extremely useful for analysts ...  |            |\n",
      "|                           |                  |                              |                         |                                       |           |                   |                                                    |               |                                                    |                         |          |Answer: The company is subject to permitting, r...  |  \"Factoid question: What kind of government ap...  |                                                    |                                                    |The context provides a clear and unambiguous an...  |            |                                                    |            |                                                    |            |\n",
      "|                           |                  |                              |                         |                                       |           |                   |                                                    |               |                                                    |                         |          |                                                    |  \"Answer: The company is subject to permitting...  |                                                    |                                                    |                                                    |            |                                                    |            |                                                    |            |\n",
      "|                           |                  |                              |                         |                                       |           |                   |                                                    |               |                                                    |                         |          |Factoid question: How do the permitting and reg...  |  \"\",                                               |                                                    |                                                    |                                                    |            |                                                    |            |                                                    |            |\n",
      "|                           |                  |                              |                         |                                       |           |                   |                                                    |               |                                                    |                         |          |Answer: The permitting and registration require...  |  \"Factoid question: How do the permitting and ...  |                                                    |                                                    |                                                    |            |                                                    |            |                                                    |            |\n",
      "|                           |                  |                              |                         |                                       |           |                   |                                                    |               |                                                    |                         |          |                                                    |  \"Answer: The permitting and registration requ...  |                                                    |                                                    |                                                    |            |                                                    |            |                                                    |            |\n",
      "|                           |                  |                              |                         |                                       |           |                   |                                                    |               |                                                    |                         |          |                                                    |]                                                   |                                                    |                                                    |                                                    |            |                                                    |            |                                                    |            |\n",
      "|0001874178-23-000009_10-K  |10-K Filing Text  |RIVIAN AUTOMOTIVE, INC. / DE  |Office of Manufacturing  |MOTOR VEHICLES & PASSENGER CAR BODIES  |US         |2022-12-31         |. 69 RIVIAN AUTOMOTIVE, INC                         |320628         |[0.0140477130189538, -0.006739410571753979, -0....  |387                      |3636125   | Factoid question: Who is the CEO of Rivian Aut...  |[                                                   |\" Factoid question: Who is the CEO of Rivian Au...  |\"Answer: R.J. Scaringe\"                             | Evaluation: The context provided does not cont...  |1           | Evaluation: This question is specific and seek...  |5           | Evaluation: This question is specific and seek...  |5           |\n",
      "|                           |                  |                              |                         |                                       |           |                   |                                                    |               |                                                    |                         |          |Answer: R.J. Scaringe                               |  \" Factoid question: Who is the CEO of Rivian ...  |                                                    |                                                    |                                                    |            |                                                    |            |                                                    |            |\n",
      "|                           |                  |                              |                         |                                       |           |                   |                                                    |               |                                                    |                         |          |                                                    |  \"Answer: R.J. Scaringe\"                           |                                                    |                                                    |Total rating: 1                                     |            |Total rating: 5                                     |            |Total rating: 5                                     |            |\n",
      "|                           |                  |                              |                         |                                       |           |                   |                                                    |               |                                                    |                         |          |                                                    |]                                                   |                                                    |                                                    |                                                    |            |                                                    |            |                                                    |            |\n",
      "|                           |                  |                              |                         |                                       |           |                   |                                                    |               |                                                    |                         |          |                                                    |                                                    |                                                    |                                                    |                                                    |            |Confidence: 90%                                     |            |Confidence: 90%                                     |            |\n",
      "|0001874178-23-000009_10-K  |10-K Filing Text  |RIVIAN AUTOMOTIVE, INC. / DE  |Office of Manufacturing  |MOTOR VEHICLES & PASSENGER CAR BODIES  |US         |2022-12-31         |. Customer behavior and usage may result in hig...  |119307         |[-0.027996357530355453, -0.021909255534410477, ...  |147                      |3635885   | Factoid question: What factors could adversely...  |[                                                   |\" Factoid question: What factors could adversel...  |\"Answer: Customer behavior and usage, unsuccess...  | Evaluation: The context provides information a...  |4           | Evaluation: This question is open-ended and al...  |5           | Evaluation: This question is open-ended and al...  |5           |\n",
      "|                           |                  |                              |                         |                                       |           |                   |                                                    |               |                                                    |                         |          |Answer: Customer behavior and usage, unsuccessf...  |  \" Factoid question: What factors could advers...  |                                                    |                                                    |                                                    |            |                                                    |            |                                                    |            |\n",
      "|                           |                  |                              |                         |                                       |           |                   |                                                    |               |                                                    |                         |          |                                                    |  \"Answer: Customer behavior and usage, unsucce...  |                                                    |                                                    |Total rating: 4                                     |            |Total rating: 5                                     |            |Total rating: 5                                     |            |\n",
      "|                           |                  |                              |                         |                                       |           |                   |                                                    |               |                                                    |                         |          |                                                    |]                                                   |                                                    |                                                    |                                                    |            |                                                    |            |                                                    |            |\n",
      "|                           |                  |                              |                         |                                       |           |                   |                                                    |               |                                                    |                         |          |                                                    |                                                    |                                                    |                                                    |The context provides several specific factors t...  |            |This question is useful for analysts as it enco...  |            |This question is useful for analysts as it enco...  |            |\n",
      "|0001874178-23-000009_10-K  |10-K Filing Text  |RIVIAN AUTOMOTIVE, INC. / DE  |Office of Manufacturing  |MOTOR VEHICLES & PASSENGER CAR BODIES  |US         |2022-12-31         |. All statements other than statements of histo...  |6851           |[0.011535296216607094, -0.040209297090768814, -...  |10                       |3635748   | Factoid question: What types of statements in ...  |[                                                   |\" Factoid question: What types of statements in...  |\"Answer: The forward-looking statements in this...  | Evaluation: The context provides a clear defin...  |3           | Evaluation: This question is useful for analys...  |5           | Evaluation: This question is useful for analys...  |5           |\n",
      "|                           |                  |                              |                         |                                       |           |                   |                                                    |               |                                                    |                         |          |Answer: The forward-looking statements in this ...  |  \" Factoid question: What types of statements ...  |                                                    |                                                    |                                                    |            |                                                    |            |                                                    |            |\n",
      "|                           |                  |                              |                         |                                       |           |                   |                                                    |               |                                                    |                         |          |                                                    |  \"Answer: The forward-looking statements in th...  |                                                    |                                                    |Total rating: 3 out of 5. While the context pro...  |            |Total rating: 5                                     |            |Total rating: 5                                     |            |\n",
      "|                           |                  |                              |                         |                                       |           |                   |                                                    |               |                                                    |                         |          |                                                    |]                                                   |                                                    |                                                    |                                                    |            |                                                    |            |                                                    |            |\n",
      "|                           |                  |                              |                         |                                       |           |                   |                                                    |               |                                                    |                         |          |                                                    |                                                    |                                                    |                                                    |                                                    |            |The question is well-structured, clear, and rel...  |            |The question is well-structured, clear, and rel...  |            |\n",
      "--------------------------------------------------------------------------------------------------------------------------------------------------------------------------------------------------------------------------------------------------------------------------------------------------------------------------------------------------------------------------------------------------------------------------------------------------------------------------------------------------------------------------------------------------------------------------------------------------------------------------------------------------------------------------------------------------------------------------------------------------------------------------\n",
      "\n"
     ]
    }
   ],
   "source": [
    "outdf = outdf.withColumn(\n",
    "    \"EVAL_CRITIQUE\",\n",
    "    Complete(\n",
    "        model='mixtral-8x7b',prompt = f.concat(\n",
    "            f.lit(question_relevance_critique_prompt),\n",
    "            f.col(\"GENQ\"),\n",
    "            f.lit(\"\\n Answer:::\")\n",
    "            ))\n",
    ")\n",
    "\n",
    "# Extracting the score by taking the rightmost character of the last part of split_rating\n",
    "outdf = outdf.withColumn(\"score_EC\", regexp_extract(col(\"EVAL_CRITIQUE\"), r\"Total rating:\\s*(\\d)\", 1))\n",
    "outdf.write.saveAsTable(\"RAJIV.PUBLIC.CONTENT_CHUNKS_10K_GQA_All\", mode=\"overwrite\")\n",
    "\n",
    "# Show results to verify\n",
    "outdf.show()"
   ]
  },
  {
   "cell_type": "markdown",
   "metadata": {},
   "source": [
    "Let's keep only the questions that have scored well, by filtering on the score."
   ]
  },
  {
   "cell_type": "code",
   "execution_count": null,
   "metadata": {},
   "outputs": [],
   "source": []
  },
  {
   "cell_type": "code",
   "execution_count": 21,
   "metadata": {
    "metadata": {}
   },
   "outputs": [
    {
     "data": {
      "text/plain": [
       "16"
      ]
     },
     "execution_count": 21,
     "metadata": {},
     "output_type": "execute_result"
    }
   ],
   "source": [
    "filtered_df = outdf.filter((outdf['SCORE_EC'] > 3) & (outdf['SCORE_ER'] > 3) & (outdf['SCORE_EG'] > 3))\n",
    "filtered_df.count()\n"
   ]
  },
  {
   "cell_type": "code",
   "execution_count": 22,
   "metadata": {
    "metadata": {}
   },
   "outputs": [],
   "source": [
    "selected_df = filtered_df.select(\"CONTENT_CHUNK\", \"GENQ\", \"GENA\")\n",
    "# Now, to save this DataFrame as a new table in Snowflake\n",
    "selected_df.write.mode(\"overwrite\").saveAsTable(\"RAJIV.PUBLIC.CONTENT_CHUNKS_10K_GQA\")"
   ]
  },
  {
   "cell_type": "markdown",
   "metadata": {},
   "source": [
    "### Let's Get Predictions on our Generated Questions"
   ]
  },
  {
   "cell_type": "code",
   "execution_count": 23,
   "metadata": {
    "metadata": {}
   },
   "outputs": [],
   "source": [
    "from snowflake.snowpark.functions import col\n",
    "import snowflake.snowpark.functions as f\n",
    "from snowflake.snowpark.functions import col, split, lit, regexp_extract\n",
    "from snowflake.cortex import Complete"
   ]
  },
  {
   "cell_type": "markdown",
   "metadata": {},
   "source": [
    "Let's get predictions for the snythetic questions we have already created."
   ]
  },
  {
   "cell_type": "code",
   "execution_count": 24,
   "metadata": {
    "metadata": {}
   },
   "outputs": [
    {
     "data": {
      "text/html": [
       "<div>\n",
       "<style scoped>\n",
       "    .dataframe tbody tr th:only-of-type {\n",
       "        vertical-align: middle;\n",
       "    }\n",
       "\n",
       "    .dataframe tbody tr th {\n",
       "        vertical-align: top;\n",
       "    }\n",
       "\n",
       "    .dataframe thead th {\n",
       "        text-align: right;\n",
       "    }\n",
       "</style>\n",
       "<table border=\"1\" class=\"dataframe\">\n",
       "  <thead>\n",
       "    <tr style=\"text-align: right;\">\n",
       "      <th></th>\n",
       "      <th>CONTENT_CHUNK</th>\n",
       "      <th>GENQ</th>\n",
       "      <th>GENA</th>\n",
       "    </tr>\n",
       "  </thead>\n",
       "  <tbody>\n",
       "    <tr>\n",
       "      <th>0</th>\n",
       "      <td>. Also, customers may customize their vehicles...</td>\n",
       "      <td>\" Factoid question: What can compromise the ve...</td>\n",
       "      <td>\"Answer: Modifying a vehicle's charging system...</td>\n",
       "    </tr>\n",
       "    <tr>\n",
       "      <th>1</th>\n",
       "      <td>. Even if this is not the case, our current ac...</td>\n",
       "      <td>\" Factoid question: What changes may companies...</td>\n",
       "      <td>\"Answer: The SEC has proposed rules that requi...</td>\n",
       "    </tr>\n",
       "    <tr>\n",
       "      <th>2</th>\n",
       "      <td>. Based on this assessment, management conclud...</td>\n",
       "      <td>\" Factoid question: Why were the automated and...</td>\n",
       "      <td>\"Answer: The automated and manual process leve...</td>\n",
       "    </tr>\n",
       "    <tr>\n",
       "      <th>3</th>\n",
       "      <td>. Failure to comply with these laws and regula...</td>\n",
       "      <td>\" Factoid question: What are the potential con...</td>\n",
       "      <td>\"Answer: Failure to comply with these laws and...</td>\n",
       "    </tr>\n",
       "    <tr>\n",
       "      <th>4</th>\n",
       "      <td>. Customer behavior and usage may result in hi...</td>\n",
       "      <td>\" Factoid question: What factors could adverse...</td>\n",
       "      <td>\"Answer: Customer behavior and usage, unsucces...</td>\n",
       "    </tr>\n",
       "  </tbody>\n",
       "</table>\n",
       "</div>"
      ],
      "text/plain": [
       "                                       CONTENT_CHUNK  \\\n",
       "0  . Also, customers may customize their vehicles...   \n",
       "1  . Even if this is not the case, our current ac...   \n",
       "2  . Based on this assessment, management conclud...   \n",
       "3  . Failure to comply with these laws and regula...   \n",
       "4  . Customer behavior and usage may result in hi...   \n",
       "\n",
       "                                                GENQ  \\\n",
       "0  \" Factoid question: What can compromise the ve...   \n",
       "1  \" Factoid question: What changes may companies...   \n",
       "2  \" Factoid question: Why were the automated and...   \n",
       "3  \" Factoid question: What are the potential con...   \n",
       "4  \" Factoid question: What factors could adverse...   \n",
       "\n",
       "                                                GENA  \n",
       "0  \"Answer: Modifying a vehicle's charging system...  \n",
       "1  \"Answer: The SEC has proposed rules that requi...  \n",
       "2  \"Answer: The automated and manual process leve...  \n",
       "3  \"Answer: Failure to comply with these laws and...  \n",
       "4  \"Answer: Customer behavior and usage, unsucces...  "
      ]
     },
     "execution_count": 24,
     "metadata": {},
     "output_type": "execute_result"
    }
   ],
   "source": [
    "gen_qa = session.table(\"RAJIV.PUBLIC.CONTENT_CHUNKS_10K_GQA\")\n",
    "df_gen_qa = gen_qa.toPandas()\n",
    "df_gen_qa.head()"
   ]
  },
  {
   "cell_type": "code",
   "execution_count": 25,
   "metadata": {
    "metadata": {}
   },
   "outputs": [],
   "source": [
    "def get_response(session, question):\n",
    "    # Prepare the SQL command\n",
    "    sql_command = f\"\"\"\n",
    "    WITH question AS (\n",
    "        SELECT '{question.replace(\"'\", \"''\")}' AS question,\n",
    "               snowflake.cortex.embed_text('e5-base-v2', question) AS embedding\n",
    "    ),\n",
    "    context AS (\n",
    "        SELECT content_chunk AS context,\n",
    "               sec_document_id,\n",
    "               start_index AS document_index\n",
    "        FROM RAJIV.PUBLIC.CONTENT_CHUNKS_10K AS content,\n",
    "             question\n",
    "        WHERE company_name = 'RIVIAN AUTOMOTIVE, INC. / DE'\n",
    "        ORDER BY vector_cosine_distance(content.embedding, question.embedding) DESC\n",
    "        LIMIT 1\n",
    "    ),\n",
    "    response AS (\n",
    "        SELECT snowflake.cortex.complete('mistral-7b',\n",
    "                                         'Use only the context provided to answer the question.' ||\n",
    "                                         '### ' || 'Context: ' || context.context ||\n",
    "                                         '### ' || 'Question: ' || question.question ||\n",
    "                                         'Answer: ') AS response\n",
    "        FROM context, question\n",
    "    )\n",
    "    SELECT response FROM response\n",
    "    \"\"\"\n",
    "\n",
    "    #print(\"Executing SQL command:\", sql_command)  # Log the SQL command\n",
    "\n",
    "    # Execute the SQL command\n",
    "    result = session.sql(sql_command).collect()\n",
    "\n",
    "    if result:\n",
    "        return result[0][0]\n",
    "    else:\n",
    "        return \"No suitable answer found.\"\n"
   ]
  },
  {
   "cell_type": "code",
   "execution_count": 26,
   "metadata": {
    "metadata": {}
   },
   "outputs": [
    {
     "name": "stdout",
     "output_type": "stream",
     "text": [
      "                                        CONTENT_CHUNK  \\\n",
      "0   . Also, customers may customize their vehicles...   \n",
      "1   . Even if this is not the case, our current ac...   \n",
      "2   . Based on this assessment, management conclud...   \n",
      "3   . Failure to comply with these laws and regula...   \n",
      "4   . Customer behavior and usage may result in hi...   \n",
      "5   . All statements other than statements of hist...   \n",
      "6   . We anticipate continuing to make  58 RIVIAN ...   \n",
      "7   . We may also require additional financing to ...   \n",
      "8   .  Financing Activities Net cash provided by f...   \n",
      "9   . We expect competition for EVs to intensify d...   \n",
      "10  .S. GAAP”) and the applicable rules and regula...   \n",
      "11  . Further, insurance coverage may not continue...   \n",
      "12  . We are a public accounting firm registered w...   \n",
      "13  . These factors may make the timing, amount, t...   \n",
      "14  .  As a key component of our vehicle products,...   \n",
      "15  . Vehicle retail sales depend heavily on affor...   \n",
      "16  . Also, negative public perceptions regarding ...   \n",
      "\n",
      "                                                 GENQ  \\\n",
      "0   \" Factoid question: What can compromise the ve...   \n",
      "1   \" Factoid question: What changes may companies...   \n",
      "2   \" Factoid question: Why were the automated and...   \n",
      "3   \" Factoid question: What are the potential con...   \n",
      "4   \" Factoid question: What factors could adverse...   \n",
      "5   \" Factoid question: What types of statements i...   \n",
      "6   \" Factoid question: What does Rivian Automotiv...   \n",
      "7   \" Factoid question: What is a potential issue ...   \n",
      "8   \" Factoid question: How much cash did Rivian A...   \n",
      "9   \" Factoid question: Which company has exclusiv...   \n",
      "10  \" Factoid question: When did the Company compl...   \n",
      "11  \" Factoid question: How can general business a...   \n",
      "12  \" Factoid question: What organization's standa...   \n",
      "13  \" Factoid question: What could happen if the c...   \n",
      "14  \" Factoid question: Which component's supply s...   \n",
      "15  \" Factoid question: How have rising interest r...   \n",
      "16  \" Factoid question: What could potentially dis...   \n",
      "\n",
      "                                                 GENA  \\\n",
      "0   \"Answer: Modifying a vehicle's charging system...   \n",
      "1   \"Answer: The SEC has proposed rules that requi...   \n",
      "2   \"Answer: The automated and manual process leve...   \n",
      "3   \"Answer: Failure to comply with these laws and...   \n",
      "4   \"Answer: Customer behavior and usage, unsucces...   \n",
      "5   \"Answer: The forward-looking statements in thi...   \n",
      "6   \"Answer: Rivian Automotive, Inc. plans to inve...   \n",
      "7   \"Answer: Rivian's ability to develop and manuf...   \n",
      "8                             \"Answer: $13.5 billion\"   \n",
      "9                                    \"Answer: Amazon\"   \n",
      "10  \"Answer: The Company completed its IPO in Nove...   \n",
      "11  \"Answer: General business and economic conditi...   \n",
      "12  \"Answer: The Public Company Accounting Oversig...   \n",
      "13  \"Answer: The company may have to significantly...   \n",
      "14  \"Answer: Battery cells for electric or plug-in...   \n",
      "15  \"Answer: Market rates for new vehicle financin...   \n",
      "16  \"Answer: Thermal events or safety issues relat...   \n",
      "\n",
      "                                             RESPONSE  \n",
      "0    Unauthorized modifications to a vehicle's cha...  \n",
      "1    Companies may face changes such as increased ...  \n",
      "2    The automated and manual process level contro...  \n",
      "3    Not complying with environmental, health, and...  \n",
      "4    The company's financial condition could be ad...  \n",
      "5    The types of statements in this Form 10-K tha...  \n",
      "6    Rivian Automotive, Inc. plans to invest in va...  \n",
      "7    One potential issue for Rivian's business reg...  \n",
      "8    Rivian Automotive raised $13.5 billion from t...  \n",
      "9                                              Amazon  \n",
      "10    The Company completed its IPO in November 2021.  \n",
      "11   General business and economic conditions can ...  \n",
      "12   The public accounting firm conducted the audi...  \n",
      "13   The company may be forced to significantly re...  \n",
      "14   Semiconductor chips are the component whose s...  \n",
      "15   Rising interest rates have led to an increase...  \n",
      "16   Tesla's operations could be disrupted due to ...  \n"
     ]
    }
   ],
   "source": [
    "import pandas as pd\n",
    "\n",
    "# Assume 'session' is your Snowflake session object and 'df_gen_qa' is your pandas DataFrame\n",
    "df_gen_qa['RESPONSE'] = df_gen_qa['GENQ'].apply(lambda question: get_response(session, question))\n",
    "\n",
    "# Now df_gen_qa has an additional column 'Response' with the answers\n",
    "print(df_gen_qa)\n"
   ]
  },
  {
   "cell_type": "code",
   "execution_count": 27,
   "metadata": {
    "metadata": {}
   },
   "outputs": [
    {
     "data": {
      "text/html": [
       "<div>\n",
       "<style scoped>\n",
       "    .dataframe tbody tr th:only-of-type {\n",
       "        vertical-align: middle;\n",
       "    }\n",
       "\n",
       "    .dataframe tbody tr th {\n",
       "        vertical-align: top;\n",
       "    }\n",
       "\n",
       "    .dataframe thead th {\n",
       "        text-align: right;\n",
       "    }\n",
       "</style>\n",
       "<table border=\"1\" class=\"dataframe\">\n",
       "  <thead>\n",
       "    <tr style=\"text-align: right;\">\n",
       "      <th></th>\n",
       "      <th>CONTENT_CHUNK</th>\n",
       "      <th>GENQ</th>\n",
       "      <th>GENA</th>\n",
       "      <th>RESPONSE</th>\n",
       "    </tr>\n",
       "  </thead>\n",
       "  <tbody>\n",
       "    <tr>\n",
       "      <th>0</th>\n",
       "      <td>. Also, customers may customize their vehicles...</td>\n",
       "      <td>\" Factoid question: What can compromise the ve...</td>\n",
       "      <td>\"Answer: Modifying a vehicle's charging system...</td>\n",
       "      <td>Unauthorized modifications to a vehicle's cha...</td>\n",
       "    </tr>\n",
       "    <tr>\n",
       "      <th>1</th>\n",
       "      <td>. Even if this is not the case, our current ac...</td>\n",
       "      <td>\" Factoid question: What changes may companies...</td>\n",
       "      <td>\"Answer: The SEC has proposed rules that requi...</td>\n",
       "      <td>Companies may face changes such as increased ...</td>\n",
       "    </tr>\n",
       "    <tr>\n",
       "      <th>2</th>\n",
       "      <td>. Based on this assessment, management conclud...</td>\n",
       "      <td>\" Factoid question: Why were the automated and...</td>\n",
       "      <td>\"Answer: The automated and manual process leve...</td>\n",
       "      <td>The automated and manual process level contro...</td>\n",
       "    </tr>\n",
       "    <tr>\n",
       "      <th>3</th>\n",
       "      <td>. Failure to comply with these laws and regula...</td>\n",
       "      <td>\" Factoid question: What are the potential con...</td>\n",
       "      <td>\"Answer: Failure to comply with these laws and...</td>\n",
       "      <td>Not complying with environmental, health, and...</td>\n",
       "    </tr>\n",
       "    <tr>\n",
       "      <th>4</th>\n",
       "      <td>. Customer behavior and usage may result in hi...</td>\n",
       "      <td>\" Factoid question: What factors could adverse...</td>\n",
       "      <td>\"Answer: Customer behavior and usage, unsucces...</td>\n",
       "      <td>The company's financial condition could be ad...</td>\n",
       "    </tr>\n",
       "  </tbody>\n",
       "</table>\n",
       "</div>"
      ],
      "text/plain": [
       "                                       CONTENT_CHUNK  \\\n",
       "0  . Also, customers may customize their vehicles...   \n",
       "1  . Even if this is not the case, our current ac...   \n",
       "2  . Based on this assessment, management conclud...   \n",
       "3  . Failure to comply with these laws and regula...   \n",
       "4  . Customer behavior and usage may result in hi...   \n",
       "\n",
       "                                                GENQ  \\\n",
       "0  \" Factoid question: What can compromise the ve...   \n",
       "1  \" Factoid question: What changes may companies...   \n",
       "2  \" Factoid question: Why were the automated and...   \n",
       "3  \" Factoid question: What are the potential con...   \n",
       "4  \" Factoid question: What factors could adverse...   \n",
       "\n",
       "                                                GENA  \\\n",
       "0  \"Answer: Modifying a vehicle's charging system...   \n",
       "1  \"Answer: The SEC has proposed rules that requi...   \n",
       "2  \"Answer: The automated and manual process leve...   \n",
       "3  \"Answer: Failure to comply with these laws and...   \n",
       "4  \"Answer: Customer behavior and usage, unsucces...   \n",
       "\n",
       "                                            RESPONSE  \n",
       "0   Unauthorized modifications to a vehicle's cha...  \n",
       "1   Companies may face changes such as increased ...  \n",
       "2   The automated and manual process level contro...  \n",
       "3   Not complying with environmental, health, and...  \n",
       "4   The company's financial condition could be ad...  "
      ]
     },
     "execution_count": 27,
     "metadata": {},
     "output_type": "execute_result"
    }
   ],
   "source": [
    "df_gen_qa.head()"
   ]
  },
  {
   "cell_type": "code",
   "execution_count": 28,
   "metadata": {
    "metadata": {}
   },
   "outputs": [],
   "source": [
    "snowpark_df = session.createDataFrame(df_gen_qa)\n",
    "snowpark_df.write.saveAsTable(\"RAJIV.PUBLIC.CONTENT_CHUNKS_10K_GQA\", mode=\"overwrite\")"
   ]
  },
  {
   "cell_type": "code",
   "execution_count": 29,
   "metadata": {
    "metadata": {}
   },
   "outputs": [],
   "source": [
    "snowpark_df = session.table(\"RAJIV.PUBLIC.CONTENT_CHUNKS_10K_GQA\")"
   ]
  },
  {
   "cell_type": "code",
   "execution_count": 30,
   "metadata": {
    "metadata": {}
   },
   "outputs": [],
   "source": [
    "filtered_df = snowpark_df.select(\"GENQ\", \"GENA\", \"RESPONSE\")"
   ]
  },
  {
   "cell_type": "code",
   "execution_count": 31,
   "metadata": {
    "metadata": {}
   },
   "outputs": [],
   "source": [
    "filtered_df.write.saveAsTable(\"RAJIV.PUBLIC.CONTENT_CHUNKS_10K_GQA\", mode=\"overwrite\")"
   ]
  },
  {
   "cell_type": "code",
   "execution_count": 32,
   "metadata": {
    "metadata": {}
   },
   "outputs": [
    {
     "name": "stdout",
     "output_type": "stream",
     "text": [
      "----------------------------------------------------------------------------------------------------------------------------------------------------------------\n",
      "|\"GENQ\"                                              |\"GENA\"                                              |\"RESPONSE\"                                          |\n",
      "----------------------------------------------------------------------------------------------------------------------------------------------------------------\n",
      "|\" Factoid question: What can compromise the veh...  |\"Answer: Modifying a vehicle's charging systems...  | Unauthorized modifications to a vehicle's char...  |\n",
      "|\" Factoid question: What changes may companies ...  |\"Answer: The SEC has proposed rules that requir...  | Companies may face changes such as increased r...  |\n",
      "|\" Factoid question: Why were the automated and ...  |\"Answer: The automated and manual process level...  | The automated and manual process level control...  |\n",
      "|\" Factoid question: What are the potential cons...  |\"Answer: Failure to comply with these laws and ...  | Not complying with environmental, health, and ...  |\n",
      "|\" Factoid question: What factors could adversel...  |\"Answer: Customer behavior and usage, unsuccess...  | The company's financial condition could be adv...  |\n",
      "|\" Factoid question: What types of statements in...  |\"Answer: The forward-looking statements in this...  | The types of statements in this Form 10-K that...  |\n",
      "|\" Factoid question: What does Rivian Automotive...  |\"Answer: Rivian Automotive, Inc. plans to inves...  | Rivian Automotive, Inc. plans to invest in var...  |\n",
      "|\" Factoid question: What is a potential issue f...  |\"Answer: Rivian's ability to develop and manufa...  | One potential issue for Rivian's business rega...  |\n",
      "|\" Factoid question: How much cash did Rivian Au...  |\"Answer: $13.5 billion\"                             | Rivian Automotive raised $13.5 billion from th...  |\n",
      "|\" Factoid question: Which company has exclusivi...  |\"Answer: Amazon\"                                    | Amazon                                             |\n",
      "----------------------------------------------------------------------------------------------------------------------------------------------------------------\n",
      "\n"
     ]
    }
   ],
   "source": [
    "snowpark_df = session.table(\"RAJIV.PUBLIC.CONTENT_CHUNKS_10K_GQA\")\n",
    "snowpark_df.show()"
   ]
  },
  {
   "cell_type": "code",
   "execution_count": 33,
   "metadata": {
    "metadata": {}
   },
   "outputs": [],
   "source": [
    "### Now let's evaluate the generated responses"
   ]
  },
  {
   "cell_type": "code",
   "execution_count": 34,
   "metadata": {
    "metadata": {}
   },
   "outputs": [],
   "source": [
    "EVALUATION_PROMPT = \"\"\"###Task Description:\n",
    "An instruction (might include an Input inside it), a response to evaluate, a reference answer that gets a score of 5, and a score rubric representing a evaluation criteria are given.\n",
    "1. Write a detailed feedback that assess the quality of the response strictly based on the given score rubric, not evaluating in general.\n",
    "2. After writing a feedback, write a score that is an integer between 1 and 5. You should refer to the score rubric.\n",
    "3. The output format should look as follows: \\\"Feedback: {{write a feedback for criteria}} [RESULT] {{an integer number between 1 and 5}}\\\"\n",
    "4. Please do not generate any other opening, closing, and explanations. Be sure to include [RESULT] in your output.\n",
    "\n",
    "###The instruction to evaluate:\n",
    "{instruction}\n",
    "\n",
    "###Response to evaluate:\n",
    "{response}\n",
    "\n",
    "###Reference Answer (Score 5):\n",
    "{reference_answer}\n",
    "\n",
    "###Score Rubrics:\n",
    "[Is the response correct, accurate, and factual based on the reference answer?]\n",
    "Score 1: The response is completely incorrect, inaccurate, and/or not factual.\n",
    "Score 2: The response is mostly incorrect, inaccurate, and/or not factual.\n",
    "Score 3: The response is somewhat correct, accurate, and/or factual.\n",
    "Score 4: The response is mostly correct, accurate, and factual.\n",
    "Score 5: The response is completely correct, accurate, and factual.\n",
    "\n",
    "Answer:::\n",
    "Feedback: (your feedback for the rating, as a text)\n",
    "Total score: (your score, as an integer between 1 and 5)\n",
    "\"\"\""
   ]
  },
  {
   "cell_type": "code",
   "execution_count": 35,
   "metadata": {
    "metadata": {}
   },
   "outputs": [],
   "source": [
    "part0 = \"\"\"###Task Description:\n",
    "An instruction (might include an Input inside it), a response to evaluate, a reference answer that gets a score of 5, and a score rubric representing a evaluation criteria are given.\n",
    "1. Write a detailed feedback that assess the quality of the response strictly based on the given score rubric, not evaluating in general.\n",
    "2. After writing a feedback, write a score that is an integer between 1 and 5. You should refer to the score rubric.\n",
    "3. The output format should look as follows: \\\"Feedback: {{write a feedback for criteria}} [RESULT] {{an integer number between 1 and 5}}\\\"\n",
    "4. Please do not generate any other opening, closing, and explanations. Be sure to include [RESULT] in your output.\n",
    "\n",
    "###The instruction to evaluate: \"\"\"\n",
    "part1 = \"\"\"###Response to evaluate: \"\"\"\n",
    "\n",
    "part2 = \"\"\"###Reference Answer (Score 5): \"\"\""
   ]
  },
  {
   "cell_type": "code",
   "execution_count": 36,
   "metadata": {
    "metadata": {}
   },
   "outputs": [],
   "source": [
    "part3 = \"\"\"###Score Rubrics:\n",
    "[Is the response correct, accurate, and factual based on the reference answer?]\n",
    "Score 1: The response is completely incorrect, inaccurate, and/or not factual.\n",
    "Score 2: The response is mostly incorrect, inaccurate, and/or not factual.\n",
    "Score 3: The response is somewhat correct, accurate, and/or factual.\n",
    "Score 4: The response is mostly correct, accurate, and factual.\n",
    "Score 5: The response is completely correct, accurate, and factual.\n",
    "\n",
    "Answer:::\n",
    "Feedback: (your feedback for the rating, as a text)\n",
    "Total score: (an integer between 1 and 5)\"\"\""
   ]
  },
  {
   "cell_type": "code",
   "execution_count": 38,
   "metadata": {
    "metadata": {}
   },
   "outputs": [
    {
     "name": "stdout",
     "output_type": "stream",
     "text": [
      "------------------------------------------------------------------------------------------------------------------------------------------------------------------------------------------------------------------------------------\n",
      "|\"GENQ\"                                              |\"GENA\"                                              |\"RESPONSE\"                                          |\"EVAL_CRITIQUE\"                                     |\"SCORE_EVAL\"  |\n",
      "------------------------------------------------------------------------------------------------------------------------------------------------------------------------------------------------------------------------------------\n",
      "|\" Factoid question: What can compromise the veh...  |\"Answer: Modifying a vehicle's charging systems...  | Unauthorized modifications to a vehicle's char...  |                                                    |5             |\n",
      "|                                                    |                                                    |                                                    |                                                    |              |\n",
      "|                                                    |                                                    |                                                    |Feedback: The response is completely correct, a...  |              |\n",
      "|\" Factoid question: What changes may companies ...  |\"Answer: The SEC has proposed rules that requir...  | Companies may face changes such as increased r...  |                                                    |              |\n",
      "|                                                    |                                                    |                                                    |                                                    |              |\n",
      "|                                                    |                                                    |                                                    |Feedback: The response is mostly correct, accur...  |              |\n",
      "|                                                    |                                                    |                                                    |[RESULT] 4                                          |              |\n",
      "|\" Factoid question: Why were the automated and ...  |\"Answer: The automated and manual process level...  | The automated and manual process level control...  |                                                    |              |\n",
      "|                                                    |                                                    |                                                    |                                                    |              |\n",
      "|                                                    |                                                    |                                                    |Feedback: The response is somewhat correct, acc...  |              |\n",
      "|\" Factoid question: What are the potential cons...  |\"Answer: Failure to comply with these laws and ...  | Not complying with environmental, health, and ...  |                                                    |              |\n",
      "|                                                    |                                                    |                                                    |                                                    |              |\n",
      "|                                                    |                                                    |                                                    |Feedback: The response is mostly correct, accur...  |              |\n",
      "|\" Factoid question: What factors could adversel...  |\"Answer: Customer behavior and usage, unsuccess...  | The company's financial condition could be adv...  |                                                    |2             |\n",
      "|                                                    |                                                    |                                                    |                                                    |              |\n",
      "|                                                    |                                                    |                                                    |Feedback: The response provided does not match ...  |              |\n",
      "|                                                    |                                                    |                                                    |                                                    |              |\n",
      "|                                                    |                                                    |                                                    |Total score: 2 [RESULT]                             |              |\n",
      "|\" Factoid question: What types of statements in...  |\"Answer: The forward-looking statements in this...  | The types of statements in this Form 10-K that...  |                                                    |5             |\n",
      "|                                                    |                                                    |                                                    |                                                    |              |\n",
      "|                                                    |                                                    |                                                    |Feedback: The response is completely correct, a...  |              |\n",
      "|\" Factoid question: What does Rivian Automotive...  |\"Answer: Rivian Automotive, Inc. plans to inves...  | Rivian Automotive, Inc. plans to invest in var...  |                                                    |              |\n",
      "|                                                    |                                                    |                                                    |                                                    |              |\n",
      "|                                                    |                                                    |                                                    |Feedback: The response is completely correct, a...  |              |\n",
      "|\" Factoid question: What is a potential issue f...  |\"Answer: Rivian's ability to develop and manufa...  | One potential issue for Rivian's business rega...  |                                                    |              |\n",
      "|                                                    |                                                    |                                                    |                                                    |              |\n",
      "|                                                    |                                                    |                                                    |Feedback: The response provided does not accura...  |              |\n",
      "|                                                    |                                                    |                                                    |[RESULT] 2                                          |              |\n",
      "|\" Factoid question: How much cash did Rivian Au...  |\"Answer: $13.5 billion\"                             | Rivian Automotive raised $13.5 billion from th...  |                                                    |5             |\n",
      "|                                                    |                                                    |                                                    |                                                    |              |\n",
      "|                                                    |                                                    |                                                    |Feedback: The response is completely correct, a...  |              |\n",
      "|\" Factoid question: Which company has exclusivi...  |\"Answer: Amazon\"                                    | Amazon                                             |                                                    |5             |\n",
      "|                                                    |                                                    |                                                    |                                                    |              |\n",
      "|                                                    |                                                    |                                                    |Feedback: The response is completely correct, a...  |              |\n",
      "------------------------------------------------------------------------------------------------------------------------------------------------------------------------------------------------------------------------------------\n",
      "\n"
     ]
    }
   ],
   "source": [
    "from snowflake.snowpark.functions import col, regexp_extract, coalesce, lit\n",
    "\n",
    "snowpark_df = snowpark_df.withColumn(\n",
    "    \"EVAL_CRITIQUE\",\n",
    "    Complete(\n",
    "        model='mistral-large',prompt = f.concat(\n",
    "            f.lit(part0),\n",
    "            f.col(\"GENQ\"),\n",
    "            f.lit(part1),\n",
    "            f.col(\"RESPONSE\"),\n",
    "            f.lit(part2),\n",
    "            f.col(\"GENA\"),\n",
    "            f.lit(part3)\n",
    "            ))\n",
    ")\n",
    "\n",
    "# Extracting the score by taking the rightmost character of the last part of split_rating\n",
    "#snowpark_df = snowpark_df.withColumn(\"SCORE_EVAL\", regexp_extract(col(\"EVAL_CRITIQUE\"), r\"Total score:\\s*(\\d)\", 1).cast(\"int\"))\n",
    "snowpark_df = snowpark_df.withColumn(\"SCORE_EVAL\",\n",
    "    coalesce(regexp_extract(col(\"EVAL_CRITIQUE\"), r\"Total score:\\s*(\\d)\", 1), lit(\"0\")))\n",
    "\n",
    "snowpark_df.write.mode(\"overwrite\").save_as_table(\"RAJIV.PUBLIC.CONTENT_CHUNKS_10K_GQA\")\n",
    "# Show results to verify\n",
    "snowpark_df.show()"
   ]
  },
  {
   "cell_type": "code",
   "execution_count": 39,
   "metadata": {
    "metadata": {}
   },
   "outputs": [],
   "source": [
    "output = snowpark_df.toPandas()"
   ]
  },
  {
   "cell_type": "code",
   "execution_count": 40,
   "metadata": {
    "metadata": {}
   },
   "outputs": [],
   "source": [
    "output['SCORE_EVAL'] = pd.to_numeric(output['SCORE_EVAL'], errors='coerce')"
   ]
  },
  {
   "cell_type": "code",
   "execution_count": 41,
   "metadata": {
    "metadata": {}
   },
   "outputs": [
    {
     "name": "stdout",
     "output_type": "stream",
     "text": [
      "count    10.000000\n",
      "mean      4.600000\n",
      "std       0.966092\n",
      "min       2.000000\n",
      "25%       5.000000\n",
      "50%       5.000000\n",
      "75%       5.000000\n",
      "max       5.000000\n",
      "Name: SCORE_EVAL, dtype: float64\n"
     ]
    }
   ],
   "source": [
    "summary_stats = output['SCORE_EVAL'].describe()\n",
    "print(summary_stats)"
   ]
  },
  {
   "cell_type": "code",
   "execution_count": 42,
   "metadata": {
    "metadata": {}
   },
   "outputs": [
    {
     "data": {
      "image/png": "[encoded data removed]",
      "text/plain": [
       "<Figure size 640x480 with 1 Axes>"
      ]
     },
     "metadata": {},
     "output_type": "display_data"
    }
   ],
   "source": [
    "import matplotlib.pyplot as plt\n",
    "\n",
    "# Plotting histogram\n",
    "plt.hist(output['SCORE_EVAL'], bins=range(1, 7), edgecolor='black', align='left')  # bins from 1 to 5\n",
    "plt.xlabel('Score')\n",
    "plt.ylabel('Frequency')\n",
    "plt.title('Histogram of SCORE_EVAL')\n",
    "plt.xticks(range(1, 6))  # Setting x-ticks to show each score\n",
    "plt.show()"
   ]
  },
  {
   "cell_type": "code",
   "execution_count": 43,
   "metadata": {
    "metadata": {}
   },
   "outputs": [
    {
     "name": "stdout",
     "output_type": "stream",
     "text": [
      "0.9\n"
     ]
    }
   ],
   "source": [
    "scores = (output[\"SCORE_EVAL\"] - 1) / 4\n",
    "print (scores.mean())"
   ]
  }
 ],
 "metadata": {
  "kernelspec": {
   "display_name": "hf_public",
   "language": "python",
   "name": "python3"
  },
  "language_info": {
   "codemirror_mode": {
    "name": "ipython",
    "version": 3
   },
   "file_extension": ".py",
   "mimetype": "text/x-python",
   "name": "python",
   "nbconvert_exporter": "python",
   "pygments_lexer": "ipython3",
   "version": "3.8.18"
  }
 },
 "nbformat": 4,
 "nbformat_minor": 2
}
