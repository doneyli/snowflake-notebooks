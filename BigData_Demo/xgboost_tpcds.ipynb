{
 "cells": [
  {
   "cell_type": "markdown",
   "metadata": {},
   "source": [
    "## Big Data Demo\n",
    "\n",
    "Let's see how snowflake does at scale\n",
    "This demo walks through data prep and modeling for a large dataset.\n",
    "This notebook comes from [TPCDS Customer Lifetime demo](https://github.com/Snowflake-Labs/snowpark-python-demos/tree/main/tpcds-customer-lifetime-value)\n",
    "\n",
    "If you are running this in your local environment, you will need to make sure you use versions of sklearn and xgboost that are supported in snowflake. Otherwise, you will get an error when you try to push the model to snowflake."
   ]
  },
  {
   "cell_type": "code",
   "execution_count": 1,
   "metadata": {},
   "outputs": [
    {
     "name": "stdout",
     "output_type": "stream",
     "text": [
      "/Users/rajishah/Code/snowflake-notebooks/BigData_Demo\n"
     ]
    }
   ],
   "source": [
    "# Base dir for this code\n",
    "import os\n",
    "base_dir = os.getcwd()\n",
    "print(base_dir)"
   ]
  },
  {
   "cell_type": "code",
   "execution_count": 2,
   "metadata": {},
   "outputs": [],
   "source": [
    "import json\n",
    "import pandas as pd\n",
    "\n",
    "from snowflake.snowpark import functions as F\n",
    "from snowflake.snowpark import version as v\n",
    "from snowflake.snowpark.session import Session\n",
    "\n",
    "from snowflake.ml.modeling.xgboost import XGBRegressor\n",
    "from snowflake.ml.modeling.preprocessing import KBinsDiscretizer, OneHotEncoder\n",
    "from snowflake.ml.modeling.impute import SimpleImputer\n",
    "#from xgboost import XGBRegressor"
   ]
  },
  {
   "cell_type": "code",
   "execution_count": 3,
   "metadata": {},
   "outputs": [],
   "source": [
    "import warnings\n",
    "warnings.filterwarnings(\"ignore\")"
   ]
  },
  {
   "cell_type": "markdown",
   "metadata": {},
   "source": [
    "# 1.0 Snowflake Setup"
   ]
  },
  {
   "cell_type": "code",
   "execution_count": 4,
   "metadata": {},
   "outputs": [],
   "source": [
    "with open('../../creds.json') as f:\n",
    "    data = json.load(f)\n",
    "    USERNAME = data['user']\n",
    "    PASSWORD = data['password']\n",
    "    SF_ACCOUNT = data['account']\n",
    "    SF_WH = data['warehouse']\n",
    "\n",
    "CONNECTION_PARAMETERS = {\n",
    "   \"account\": SF_ACCOUNT,\n",
    "   \"user\": USERNAME,\n",
    "   \"password\": PASSWORD,\n",
    "}\n",
    "\n",
    "session = Session.builder.configs(CONNECTION_PARAMETERS).create()"
   ]
  },
  {
   "cell_type": "markdown",
   "metadata": {},
   "source": [
    "#### Ensure that TPC-DS dataset is available in your environment. I found it within the SNOWFLAKE_SAMPLE_DATA shared database."
   ]
  },
  {
   "cell_type": "code",
   "execution_count": 5,
   "metadata": {},
   "outputs": [],
   "source": [
    "session.sql('CREATE DATABASE IF NOT EXISTS tpcds_xgboost').collect()\n",
    "session.sql('CREATE SCHEMA IF NOT EXISTS tpcds_xgboost.demo').collect()\n",
    "session.sql(\"create or replace warehouse FE_AND_INFERENCE_WH with warehouse_size='3X-LARGE'\").collect()\n",
    "session.sql(\"create or replace warehouse snowpark_opt_wh with warehouse_size = 'MEDIUM' warehouse_type = 'SNOWPARK-OPTIMIZED'\").collect()\n",
    "session.sql(\"alter warehouse snowpark_opt_wh set max_concurrency_level = 1\").collect()\n",
    "session.sql(\"CREATE OR REPLACE STAGE TPCDS_XGBOOST.DEMO.ML_MODELS\").collect()\n",
    "session.use_warehouse('FE_AND_INFERENCE_WH')\n",
    "session.use_database('tpcds_xgboost')\n",
    "session.use_schema('demo')"
   ]
  },
  {
   "cell_type": "markdown",
   "metadata": {},
   "source": [
    "Select either 100 or 10 for the TPC-DS Dataset size to use below. See (https://docs.snowflake.com/en/user-guide/sample-data-tpcds.html)[here] for more information If you choose 100, I recommend >= 3XL warehouse. "
   ]
  },
  {
   "cell_type": "code",
   "execution_count": 6,
   "metadata": {},
   "outputs": [],
   "source": [
    "TPCDS_SIZE_PARAM = 10\n",
    "SNOWFLAKE_SAMPLE_DB = 'SFSALESSHARED_SFC_SAMPLES_PROD3_SAMPLE_DATA' # Name of Snowflake Sample Database might be different...\n",
    "\n",
    "if TPCDS_SIZE_PARAM == 100: \n",
    "    TPCDS_SCHEMA = 'TPCDS_SF100TCL'\n",
    "elif TPCDS_SIZE_PARAM == 10:\n",
    "    TPCDS_SCHEMA = 'TPCDS_SF10TCL'\n",
    "else:\n",
    "    raise ValueError(\"Invalid TPCDS_SIZE_PARAM selection\")\n",
    "    \n",
    "store_sales = session.table(f'{SNOWFLAKE_SAMPLE_DB}.{TPCDS_SCHEMA}.store_sales')\n",
    "catalog_sales = session.table(f'{SNOWFLAKE_SAMPLE_DB}.{TPCDS_SCHEMA}.catalog_sales') \n",
    "web_sales = session.table(f'{SNOWFLAKE_SAMPLE_DB}.{TPCDS_SCHEMA}.web_sales') \n",
    "date = session.table(f'{SNOWFLAKE_SAMPLE_DB}.{TPCDS_SCHEMA}.date_dim')\n",
    "dim_stores = session.table(f'{SNOWFLAKE_SAMPLE_DB}.{TPCDS_SCHEMA}.store')\n",
    "customer = session.table(f'{SNOWFLAKE_SAMPLE_DB}.{TPCDS_SCHEMA}.customer')\n",
    "address = session.table(f'{SNOWFLAKE_SAMPLE_DB}.{TPCDS_SCHEMA}.customer_address')\n",
    "demo = session.table(f'{SNOWFLAKE_SAMPLE_DB}.{TPCDS_SCHEMA}.customer_demographics')"
   ]
  },
  {
   "cell_type": "markdown",
   "metadata": {},
   "source": [
    "# 2.0 Data Engineering\n",
    "We will aggregate sales by customer across all channels(web, store, catalogue) and join that to customer demographic data. "
   ]
  },
  {
   "cell_type": "code",
   "execution_count": 7,
   "metadata": {},
   "outputs": [],
   "source": [
    "store_sales_agged = store_sales.group_by('ss_customer_sk').agg(F.sum('ss_sales_price').as_('total_sales'))\n",
    "web_sales_agged = web_sales.group_by('ws_bill_customer_sk').agg(F.sum('ws_sales_price').as_('total_sales'))\n",
    "catalog_sales_agged = catalog_sales.group_by('cs_bill_customer_sk').agg(F.sum('cs_sales_price').as_('total_sales'))\n",
    "store_sales_agged = store_sales_agged.rename('ss_customer_sk', 'customer_sk')\n",
    "web_sales_agged = web_sales_agged.rename('ws_bill_customer_sk', 'customer_sk')\n",
    "catalog_sales_agged = catalog_sales_agged.rename('cs_bill_customer_sk', 'customer_sk')"
   ]
  },
  {
   "cell_type": "code",
   "execution_count": 8,
   "metadata": {},
   "outputs": [],
   "source": [
    "total_sales = store_sales_agged.union_all(web_sales_agged)\n",
    "total_sales = total_sales.union_all(catalog_sales_agged)"
   ]
  },
  {
   "cell_type": "code",
   "execution_count": 9,
   "metadata": {},
   "outputs": [],
   "source": [
    "total_sales = total_sales.group_by('customer_sk').agg(F.sum('total_sales').as_('total_sales'))"
   ]
  },
  {
   "cell_type": "code",
   "execution_count": 10,
   "metadata": {},
   "outputs": [],
   "source": [
    "customer = customer.select('c_customer_sk','c_current_hdemo_sk', 'c_current_addr_sk', 'c_customer_id', 'c_birth_year')"
   ]
  },
  {
   "cell_type": "code",
   "execution_count": 11,
   "metadata": {},
   "outputs": [],
   "source": [
    "customer = customer.join(address.select('ca_address_sk', 'ca_zip'), customer['c_current_addr_sk'] == address['ca_address_sk'] )\n",
    "customer = customer.join(demo.select('cd_demo_sk', 'cd_gender', 'cd_marital_status', 'cd_credit_rating', 'cd_education_status', 'cd_dep_count'),\n",
    "                                customer['c_current_hdemo_sk'] == demo['cd_demo_sk'] )\n",
    "customer = customer.rename('c_customer_sk', 'customer_sk')"
   ]
  },
  {
   "cell_type": "code",
   "execution_count": 12,
   "metadata": {},
   "outputs": [
    {
     "data": {
      "text/html": [
       "<div>\n",
       "<style scoped>\n",
       "    .dataframe tbody tr th:only-of-type {\n",
       "        vertical-align: middle;\n",
       "    }\n",
       "\n",
       "    .dataframe tbody tr th {\n",
       "        vertical-align: top;\n",
       "    }\n",
       "\n",
       "    .dataframe thead th {\n",
       "        text-align: right;\n",
       "    }\n",
       "</style>\n",
       "<table border=\"1\" class=\"dataframe\">\n",
       "  <thead>\n",
       "    <tr style=\"text-align: right;\">\n",
       "      <th></th>\n",
       "      <th>CUSTOMER_SK</th>\n",
       "      <th>C_CURRENT_HDEMO_SK</th>\n",
       "      <th>C_CURRENT_ADDR_SK</th>\n",
       "      <th>C_CUSTOMER_ID</th>\n",
       "      <th>C_BIRTH_YEAR</th>\n",
       "      <th>CA_ADDRESS_SK</th>\n",
       "      <th>CA_ZIP</th>\n",
       "      <th>CD_DEMO_SK</th>\n",
       "      <th>CD_GENDER</th>\n",
       "      <th>CD_MARITAL_STATUS</th>\n",
       "      <th>CD_CREDIT_RATING</th>\n",
       "      <th>CD_EDUCATION_STATUS</th>\n",
       "      <th>CD_DEP_COUNT</th>\n",
       "    </tr>\n",
       "  </thead>\n",
       "  <tbody>\n",
       "    <tr>\n",
       "      <th>0</th>\n",
       "      <td>13823036</td>\n",
       "      <td>384</td>\n",
       "      <td>5281091</td>\n",
       "      <td>AAAAAAAAMDMOCNAA</td>\n",
       "      <td>1954</td>\n",
       "      <td>5281091</td>\n",
       "      <td>89303</td>\n",
       "      <td>384</td>\n",
       "      <td>F</td>\n",
       "      <td>S</td>\n",
       "      <td>Good</td>\n",
       "      <td>2 yr Degree</td>\n",
       "      <td>0</td>\n",
       "    </tr>\n",
       "    <tr>\n",
       "      <th>1</th>\n",
       "      <td>13823037</td>\n",
       "      <td>5298</td>\n",
       "      <td>29603881</td>\n",
       "      <td>AAAAAAAANDMOCNAA</td>\n",
       "      <td>1962</td>\n",
       "      <td>29603881</td>\n",
       "      <td>71749</td>\n",
       "      <td>5298</td>\n",
       "      <td>F</td>\n",
       "      <td>W</td>\n",
       "      <td>Unknown</td>\n",
       "      <td>4 yr Degree</td>\n",
       "      <td>0</td>\n",
       "    </tr>\n",
       "    <tr>\n",
       "      <th>2</th>\n",
       "      <td>13823038</td>\n",
       "      <td>3958</td>\n",
       "      <td>15978447</td>\n",
       "      <td>AAAAAAAAODMOCNAA</td>\n",
       "      <td>1987</td>\n",
       "      <td>15978447</td>\n",
       "      <td>26192</td>\n",
       "      <td>3958</td>\n",
       "      <td>F</td>\n",
       "      <td>W</td>\n",
       "      <td>High Risk</td>\n",
       "      <td>2 yr Degree</td>\n",
       "      <td>0</td>\n",
       "    </tr>\n",
       "    <tr>\n",
       "      <th>3</th>\n",
       "      <td>13823039</td>\n",
       "      <td>3605</td>\n",
       "      <td>4928437</td>\n",
       "      <td>AAAAAAAAPDMOCNAA</td>\n",
       "      <td>1965</td>\n",
       "      <td>4928437</td>\n",
       "      <td>18054</td>\n",
       "      <td>3605</td>\n",
       "      <td>M</td>\n",
       "      <td>D</td>\n",
       "      <td>High Risk</td>\n",
       "      <td>2 yr Degree</td>\n",
       "      <td>0</td>\n",
       "    </tr>\n",
       "    <tr>\n",
       "      <th>4</th>\n",
       "      <td>13823040</td>\n",
       "      <td>7051</td>\n",
       "      <td>4356655</td>\n",
       "      <td>AAAAAAAAAEMOCNAA</td>\n",
       "      <td>1946</td>\n",
       "      <td>4356655</td>\n",
       "      <td>61904</td>\n",
       "      <td>7051</td>\n",
       "      <td>M</td>\n",
       "      <td>M</td>\n",
       "      <td>Low Risk</td>\n",
       "      <td>Advanced Degree</td>\n",
       "      <td>1</td>\n",
       "    </tr>\n",
       "  </tbody>\n",
       "</table>\n",
       "</div>"
      ],
      "text/plain": [
       "   CUSTOMER_SK  C_CURRENT_HDEMO_SK  C_CURRENT_ADDR_SK     C_CUSTOMER_ID  \\\n",
       "0     13823036                 384            5281091  AAAAAAAAMDMOCNAA   \n",
       "1     13823037                5298           29603881  AAAAAAAANDMOCNAA   \n",
       "2     13823038                3958           15978447  AAAAAAAAODMOCNAA   \n",
       "3     13823039                3605            4928437  AAAAAAAAPDMOCNAA   \n",
       "4     13823040                7051            4356655  AAAAAAAAAEMOCNAA   \n",
       "\n",
       "   C_BIRTH_YEAR  CA_ADDRESS_SK CA_ZIP  CD_DEMO_SK CD_GENDER CD_MARITAL_STATUS  \\\n",
       "0          1954        5281091  89303         384         F                 S   \n",
       "1          1962       29603881  71749        5298         F                 W   \n",
       "2          1987       15978447  26192        3958         F                 W   \n",
       "3          1965        4928437  18054        3605         M                 D   \n",
       "4          1946        4356655  61904        7051         M                 M   \n",
       "\n",
       "  CD_CREDIT_RATING CD_EDUCATION_STATUS  CD_DEP_COUNT  \n",
       "0             Good         2 yr Degree             0  \n",
       "1          Unknown         4 yr Degree             0  \n",
       "2        High Risk         2 yr Degree             0  \n",
       "3        High Risk         2 yr Degree             0  \n",
       "4         Low Risk     Advanced Degree             1  "
      ]
     },
     "execution_count": 12,
     "metadata": {},
     "output_type": "execute_result"
    }
   ],
   "source": [
    "customer.limit(5).to_pandas()"
   ]
  },
  {
   "cell_type": "code",
   "execution_count": 13,
   "metadata": {},
   "outputs": [],
   "source": [
    "final_df = total_sales.join(customer, on='customer_sk')"
   ]
  },
  {
   "cell_type": "code",
   "execution_count": 14,
   "metadata": {},
   "outputs": [
    {
     "data": {
      "text/plain": [
       "62726989"
      ]
     },
     "execution_count": 14,
     "metadata": {},
     "output_type": "execute_result"
    }
   ],
   "source": [
    "# Size of the final DF is around 95 Million.\n",
    "# with 10 - raj gets 62,726,989\n",
    "final_df.count()"
   ]
  },
  {
   "cell_type": "code",
   "execution_count": 15,
   "metadata": {},
   "outputs": [],
   "source": [
    "session.use_database('tpcds_xgboost')\n",
    "session.use_schema('demo')\n",
    "final_df.write.mode('overwrite').save_as_table('feature_store')"
   ]
  },
  {
   "cell_type": "markdown",
   "metadata": {},
   "source": [
    "# 3.0 Feature Engineering"
   ]
  },
  {
   "cell_type": "code",
   "execution_count": 16,
   "metadata": {},
   "outputs": [
    {
     "data": {
      "text/plain": [
       "[Row(status='Statement executed successfully.')]"
      ]
     },
     "execution_count": 16,
     "metadata": {},
     "output_type": "execute_result"
    }
   ],
   "source": [
    "session.sql(\"create or replace warehouse snowpark_opt_wh with warehouse_size = 'MEDIUM' warehouse_type = 'SNOWPARK-OPTIMIZED'\").collect()\n",
    "session.sql(\"alter warehouse snowpark_opt_wh set max_concurrency_level = 1\").collect()"
   ]
  },
  {
   "cell_type": "code",
   "execution_count": 17,
   "metadata": {},
   "outputs": [],
   "source": [
    "session.use_warehouse('snowpark_opt_wh')\n",
    "session.use_database('tpcds_xgboost')\n",
    "session.use_schema('demo')"
   ]
  },
  {
   "cell_type": "code",
   "execution_count": 18,
   "metadata": {},
   "outputs": [],
   "source": [
    "snowdf = session.table(\"feature_store\")\n",
    "snowdf = snowdf.drop(['CA_ZIP','CUSTOMER_SK', 'C_CURRENT_HDEMO_SK', 'C_CURRENT_ADDR_SK', 'C_CUSTOMER_ID', 'CA_ADDRESS_SK', 'CD_DEMO_SK'])"
   ]
  },
  {
   "cell_type": "code",
   "execution_count": 19,
   "metadata": {},
   "outputs": [
    {
     "data": {
      "text/html": [
       "<div>\n",
       "<style scoped>\n",
       "    .dataframe tbody tr th:only-of-type {\n",
       "        vertical-align: middle;\n",
       "    }\n",
       "\n",
       "    .dataframe tbody tr th {\n",
       "        vertical-align: top;\n",
       "    }\n",
       "\n",
       "    .dataframe thead th {\n",
       "        text-align: right;\n",
       "    }\n",
       "</style>\n",
       "<table border=\"1\" class=\"dataframe\">\n",
       "  <thead>\n",
       "    <tr style=\"text-align: right;\">\n",
       "      <th></th>\n",
       "      <th>TOTAL_SALES</th>\n",
       "      <th>C_BIRTH_YEAR</th>\n",
       "      <th>CD_GENDER</th>\n",
       "      <th>CD_MARITAL_STATUS</th>\n",
       "      <th>CD_CREDIT_RATING</th>\n",
       "      <th>CD_EDUCATION_STATUS</th>\n",
       "      <th>CD_DEP_COUNT</th>\n",
       "    </tr>\n",
       "  </thead>\n",
       "  <tbody>\n",
       "    <tr>\n",
       "      <th>0</th>\n",
       "      <td>35036.62</td>\n",
       "      <td>1951</td>\n",
       "      <td>M</td>\n",
       "      <td>U</td>\n",
       "      <td>Low Risk</td>\n",
       "      <td>College</td>\n",
       "      <td>0</td>\n",
       "    </tr>\n",
       "    <tr>\n",
       "      <th>1</th>\n",
       "      <td>32088.61</td>\n",
       "      <td>1965</td>\n",
       "      <td>M</td>\n",
       "      <td>U</td>\n",
       "      <td>Low Risk</td>\n",
       "      <td>College</td>\n",
       "      <td>0</td>\n",
       "    </tr>\n",
       "    <tr>\n",
       "      <th>2</th>\n",
       "      <td>29158.81</td>\n",
       "      <td>1955</td>\n",
       "      <td>M</td>\n",
       "      <td>U</td>\n",
       "      <td>Low Risk</td>\n",
       "      <td>College</td>\n",
       "      <td>0</td>\n",
       "    </tr>\n",
       "    <tr>\n",
       "      <th>3</th>\n",
       "      <td>32512.63</td>\n",
       "      <td>1956</td>\n",
       "      <td>M</td>\n",
       "      <td>U</td>\n",
       "      <td>Low Risk</td>\n",
       "      <td>College</td>\n",
       "      <td>0</td>\n",
       "    </tr>\n",
       "    <tr>\n",
       "      <th>4</th>\n",
       "      <td>31118.32</td>\n",
       "      <td>1938</td>\n",
       "      <td>M</td>\n",
       "      <td>U</td>\n",
       "      <td>Low Risk</td>\n",
       "      <td>College</td>\n",
       "      <td>0</td>\n",
       "    </tr>\n",
       "  </tbody>\n",
       "</table>\n",
       "</div>"
      ],
      "text/plain": [
       "   TOTAL_SALES  C_BIRTH_YEAR CD_GENDER CD_MARITAL_STATUS CD_CREDIT_RATING  \\\n",
       "0     35036.62          1951         M                 U         Low Risk   \n",
       "1     32088.61          1965         M                 U         Low Risk   \n",
       "2     29158.81          1955         M                 U         Low Risk   \n",
       "3     32512.63          1956         M                 U         Low Risk   \n",
       "4     31118.32          1938         M                 U         Low Risk   \n",
       "\n",
       "  CD_EDUCATION_STATUS  CD_DEP_COUNT  \n",
       "0             College             0  \n",
       "1             College             0  \n",
       "2             College             0  \n",
       "3             College             0  \n",
       "4             College             0  "
      ]
     },
     "execution_count": 19,
     "metadata": {},
     "output_type": "execute_result"
    }
   ],
   "source": [
    "snowdf.limit(5).to_pandas()"
   ]
  },
  {
   "cell_type": "code",
   "execution_count": 20,
   "metadata": {},
   "outputs": [],
   "source": [
    "cat_cols = ['CD_GENDER', 'CD_MARITAL_STATUS', 'CD_CREDIT_RATING', 'CD_EDUCATION_STATUS']\n",
    "num_cols = ['C_BIRTH_YEAR', 'CD_DEP_COUNT']"
   ]
  },
  {
   "cell_type": "markdown",
   "metadata": {},
   "source": [
    "### 3.1 Missing Value Imputation\n",
    "\n",
    "We can use the SimpleImputer in snowflake.ml.preprocessing to replace missing values with the most frequent.\n",
    "\n",
    "```python\n",
    "# SimpleImputer in snowflake.ml.preprocessing\n",
    "from snowflake.ml.modeling.impute import SimpleImputer\n",
    "my_imputer = sfml.preprocessing.SimpleImputer(input_cols=['your_column'],\n",
    "                                output_cols=['your_column'],\n",
    "                                strategy='constant',\n",
    "                                fill_value='OTHER')\n",
    "my_imputer.fit(my_sdf)\n",
    "my_sdf = my_imputer.transform(my_sdf)\n",
    "```"
   ]
  },
  {
   "cell_type": "code",
   "execution_count": 21,
   "metadata": {},
   "outputs": [
    {
     "name": "stderr",
     "output_type": "stream",
     "text": [
      "Input value type doesn't match the target column data type, this replacement was skipped. Column Name: \"C_BIRTH_YEAR\", Type: LongType(), Input Value: 1958.0, Type: <class 'float'>\n",
      "Input value type doesn't match the target column data type, this replacement was skipped. Column Name: \"CD_DEP_COUNT\", Type: LongType(), Input Value: 0.0, Type: <class 'float'>\n"
     ]
    }
   ],
   "source": [
    "# Imputation of Numeric Cols\n",
    "my_imputer = SimpleImputer(input_cols= num_cols,\n",
    "                           output_cols= num_cols,\n",
    "                           strategy='median')\n",
    "sdf_prepared = my_imputer.fit(snowdf).transform(snowdf)"
   ]
  },
  {
   "cell_type": "markdown",
   "metadata": {},
   "source": [
    "### 3.2 One-Hot Encoding of Categorical Cols"
   ]
  },
  {
   "cell_type": "code",
   "execution_count": 22,
   "metadata": {},
   "outputs": [],
   "source": [
    "# OHE of Categorical Cols\n",
    "my_ohe_encoder = OneHotEncoder(input_cols=cat_cols, output_cols=cat_cols, drop_input_cols=True)\n",
    "sdf_prepared = my_ohe_encoder.fit(sdf_prepared).transform(sdf_prepared)"
   ]
  },
  {
   "cell_type": "code",
   "execution_count": 23,
   "metadata": {},
   "outputs": [
    {
     "data": {
      "text/html": [
       "<div>\n",
       "<style scoped>\n",
       "    .dataframe tbody tr th:only-of-type {\n",
       "        vertical-align: middle;\n",
       "    }\n",
       "\n",
       "    .dataframe tbody tr th {\n",
       "        vertical-align: top;\n",
       "    }\n",
       "\n",
       "    .dataframe thead th {\n",
       "        text-align: right;\n",
       "    }\n",
       "</style>\n",
       "<table border=\"1\" class=\"dataframe\">\n",
       "  <thead>\n",
       "    <tr style=\"text-align: right;\">\n",
       "      <th></th>\n",
       "      <th>CD_GENDER_F</th>\n",
       "      <th>CD_GENDER_M</th>\n",
       "      <th>CD_MARITAL_STATUS_D</th>\n",
       "      <th>CD_MARITAL_STATUS_M</th>\n",
       "      <th>CD_MARITAL_STATUS_S</th>\n",
       "      <th>CD_MARITAL_STATUS_U</th>\n",
       "      <th>CD_MARITAL_STATUS_W</th>\n",
       "      <th>CD_CREDIT_RATING_Good</th>\n",
       "      <th>CD_CREDIT_RATING_High Risk</th>\n",
       "      <th>CD_CREDIT_RATING_Low Risk</th>\n",
       "      <th>...</th>\n",
       "      <th>CD_EDUCATION_STATUS_2 yr Degree</th>\n",
       "      <th>CD_EDUCATION_STATUS_4 yr Degree</th>\n",
       "      <th>CD_EDUCATION_STATUS_Advanced Degree</th>\n",
       "      <th>CD_EDUCATION_STATUS_College</th>\n",
       "      <th>CD_EDUCATION_STATUS_Primary</th>\n",
       "      <th>CD_EDUCATION_STATUS_Secondary</th>\n",
       "      <th>CD_EDUCATION_STATUS_Unknown</th>\n",
       "      <th>C_BIRTH_YEAR</th>\n",
       "      <th>CD_DEP_COUNT</th>\n",
       "      <th>TOTAL_SALES</th>\n",
       "    </tr>\n",
       "  </thead>\n",
       "  <tbody>\n",
       "    <tr>\n",
       "      <th>0</th>\n",
       "      <td>0.0</td>\n",
       "      <td>1.0</td>\n",
       "      <td>0.0</td>\n",
       "      <td>0.0</td>\n",
       "      <td>0.0</td>\n",
       "      <td>1.0</td>\n",
       "      <td>0.0</td>\n",
       "      <td>0.0</td>\n",
       "      <td>0.0</td>\n",
       "      <td>1.0</td>\n",
       "      <td>...</td>\n",
       "      <td>0.0</td>\n",
       "      <td>0.0</td>\n",
       "      <td>0.0</td>\n",
       "      <td>1.0</td>\n",
       "      <td>0.0</td>\n",
       "      <td>0.0</td>\n",
       "      <td>0.0</td>\n",
       "      <td>1951</td>\n",
       "      <td>0</td>\n",
       "      <td>35036.62</td>\n",
       "    </tr>\n",
       "    <tr>\n",
       "      <th>1</th>\n",
       "      <td>0.0</td>\n",
       "      <td>1.0</td>\n",
       "      <td>0.0</td>\n",
       "      <td>0.0</td>\n",
       "      <td>0.0</td>\n",
       "      <td>1.0</td>\n",
       "      <td>0.0</td>\n",
       "      <td>0.0</td>\n",
       "      <td>0.0</td>\n",
       "      <td>1.0</td>\n",
       "      <td>...</td>\n",
       "      <td>0.0</td>\n",
       "      <td>0.0</td>\n",
       "      <td>0.0</td>\n",
       "      <td>1.0</td>\n",
       "      <td>0.0</td>\n",
       "      <td>0.0</td>\n",
       "      <td>0.0</td>\n",
       "      <td>1965</td>\n",
       "      <td>0</td>\n",
       "      <td>32088.61</td>\n",
       "    </tr>\n",
       "    <tr>\n",
       "      <th>2</th>\n",
       "      <td>0.0</td>\n",
       "      <td>1.0</td>\n",
       "      <td>0.0</td>\n",
       "      <td>0.0</td>\n",
       "      <td>0.0</td>\n",
       "      <td>1.0</td>\n",
       "      <td>0.0</td>\n",
       "      <td>0.0</td>\n",
       "      <td>0.0</td>\n",
       "      <td>1.0</td>\n",
       "      <td>...</td>\n",
       "      <td>0.0</td>\n",
       "      <td>0.0</td>\n",
       "      <td>0.0</td>\n",
       "      <td>1.0</td>\n",
       "      <td>0.0</td>\n",
       "      <td>0.0</td>\n",
       "      <td>0.0</td>\n",
       "      <td>1955</td>\n",
       "      <td>0</td>\n",
       "      <td>29158.81</td>\n",
       "    </tr>\n",
       "    <tr>\n",
       "      <th>3</th>\n",
       "      <td>0.0</td>\n",
       "      <td>1.0</td>\n",
       "      <td>0.0</td>\n",
       "      <td>0.0</td>\n",
       "      <td>0.0</td>\n",
       "      <td>1.0</td>\n",
       "      <td>0.0</td>\n",
       "      <td>0.0</td>\n",
       "      <td>0.0</td>\n",
       "      <td>1.0</td>\n",
       "      <td>...</td>\n",
       "      <td>0.0</td>\n",
       "      <td>0.0</td>\n",
       "      <td>0.0</td>\n",
       "      <td>1.0</td>\n",
       "      <td>0.0</td>\n",
       "      <td>0.0</td>\n",
       "      <td>0.0</td>\n",
       "      <td>1956</td>\n",
       "      <td>0</td>\n",
       "      <td>32512.63</td>\n",
       "    </tr>\n",
       "    <tr>\n",
       "      <th>4</th>\n",
       "      <td>0.0</td>\n",
       "      <td>1.0</td>\n",
       "      <td>0.0</td>\n",
       "      <td>0.0</td>\n",
       "      <td>0.0</td>\n",
       "      <td>1.0</td>\n",
       "      <td>0.0</td>\n",
       "      <td>0.0</td>\n",
       "      <td>0.0</td>\n",
       "      <td>1.0</td>\n",
       "      <td>...</td>\n",
       "      <td>0.0</td>\n",
       "      <td>0.0</td>\n",
       "      <td>0.0</td>\n",
       "      <td>1.0</td>\n",
       "      <td>0.0</td>\n",
       "      <td>0.0</td>\n",
       "      <td>0.0</td>\n",
       "      <td>1938</td>\n",
       "      <td>0</td>\n",
       "      <td>31118.32</td>\n",
       "    </tr>\n",
       "  </tbody>\n",
       "</table>\n",
       "<p>5 rows × 21 columns</p>\n",
       "</div>"
      ],
      "text/plain": [
       "   CD_GENDER_F  CD_GENDER_M  CD_MARITAL_STATUS_D  CD_MARITAL_STATUS_M  \\\n",
       "0          0.0          1.0                  0.0                  0.0   \n",
       "1          0.0          1.0                  0.0                  0.0   \n",
       "2          0.0          1.0                  0.0                  0.0   \n",
       "3          0.0          1.0                  0.0                  0.0   \n",
       "4          0.0          1.0                  0.0                  0.0   \n",
       "\n",
       "   CD_MARITAL_STATUS_S  CD_MARITAL_STATUS_U  CD_MARITAL_STATUS_W  \\\n",
       "0                  0.0                  1.0                  0.0   \n",
       "1                  0.0                  1.0                  0.0   \n",
       "2                  0.0                  1.0                  0.0   \n",
       "3                  0.0                  1.0                  0.0   \n",
       "4                  0.0                  1.0                  0.0   \n",
       "\n",
       "   CD_CREDIT_RATING_Good  CD_CREDIT_RATING_High Risk  \\\n",
       "0                    0.0                         0.0   \n",
       "1                    0.0                         0.0   \n",
       "2                    0.0                         0.0   \n",
       "3                    0.0                         0.0   \n",
       "4                    0.0                         0.0   \n",
       "\n",
       "   CD_CREDIT_RATING_Low Risk  ...  CD_EDUCATION_STATUS_2 yr Degree  \\\n",
       "0                        1.0  ...                              0.0   \n",
       "1                        1.0  ...                              0.0   \n",
       "2                        1.0  ...                              0.0   \n",
       "3                        1.0  ...                              0.0   \n",
       "4                        1.0  ...                              0.0   \n",
       "\n",
       "   CD_EDUCATION_STATUS_4 yr Degree  CD_EDUCATION_STATUS_Advanced Degree  \\\n",
       "0                              0.0                                  0.0   \n",
       "1                              0.0                                  0.0   \n",
       "2                              0.0                                  0.0   \n",
       "3                              0.0                                  0.0   \n",
       "4                              0.0                                  0.0   \n",
       "\n",
       "   CD_EDUCATION_STATUS_College  CD_EDUCATION_STATUS_Primary  \\\n",
       "0                          1.0                          0.0   \n",
       "1                          1.0                          0.0   \n",
       "2                          1.0                          0.0   \n",
       "3                          1.0                          0.0   \n",
       "4                          1.0                          0.0   \n",
       "\n",
       "   CD_EDUCATION_STATUS_Secondary  CD_EDUCATION_STATUS_Unknown  C_BIRTH_YEAR  \\\n",
       "0                            0.0                          0.0          1951   \n",
       "1                            0.0                          0.0          1965   \n",
       "2                            0.0                          0.0          1955   \n",
       "3                            0.0                          0.0          1956   \n",
       "4                            0.0                          0.0          1938   \n",
       "\n",
       "   CD_DEP_COUNT  TOTAL_SALES  \n",
       "0             0     35036.62  \n",
       "1             0     32088.61  \n",
       "2             0     29158.81  \n",
       "3             0     32512.63  \n",
       "4             0     31118.32  \n",
       "\n",
       "[5 rows x 21 columns]"
      ]
     },
     "execution_count": 23,
     "metadata": {},
     "output_type": "execute_result"
    }
   ],
   "source": [
    "sdf_prepared.limit(5).to_pandas()"
   ]
  },
  {
   "cell_type": "markdown",
   "metadata": {},
   "source": [
    "### 3.3 Clean column names"
   ]
  },
  {
   "cell_type": "code",
   "execution_count": 24,
   "metadata": {},
   "outputs": [],
   "source": [
    "# Cleaning column names to make it easier for future referencing\n",
    "import re\n",
    "\n",
    "cols = sdf_prepared.columns\n",
    "for old_col in cols:\n",
    "    new_col = re.sub(r'[^a-zA-Z0-9_]', '', old_col)\n",
    "    new_col = new_col.upper()\n",
    "    #print (old_col)\n",
    "    #print (new_col)\n",
    "    sdf_prepared = sdf_prepared.rename((old_col), new_col)\n",
    "\n",
    "## Dropping any null values\n",
    "from snowflake.snowpark.functions import col, is_null\n",
    "\n",
    "# Create a filter condition for non-finite values across all columns\n",
    "non_finite_filter = None\n",
    "\n",
    "# Iterate over all columns and update the filter condition\n",
    "for column in sdf_prepared.columns:\n",
    "    current_filter = is_null(col(column))\n",
    "    non_finite_filter = current_filter if non_finite_filter is None else (non_finite_filter | current_filter)\n",
    "\n",
    "# Apply the filter to the DataFrame to exclude rows with any non-finite values\n",
    "df_filtered = sdf_prepared.filter(~non_finite_filter)"
   ]
  },
  {
   "cell_type": "markdown",
   "metadata": {},
   "source": [
    "# 4.0 ML Modeling"
   ]
  },
  {
   "cell_type": "code",
   "execution_count": 25,
   "metadata": {},
   "outputs": [
    {
     "data": {
      "text/plain": [
       "[Row(status='Statement executed successfully.')]"
      ]
     },
     "execution_count": 25,
     "metadata": {},
     "output_type": "execute_result"
    }
   ],
   "source": [
    "session.sql(\"create or replace warehouse snowpark_opt_wh with warehouse_size = 'MEDIUM' warehouse_type = 'SNOWPARK-OPTIMIZED'\").collect()\n",
    "session.sql(\"alter warehouse snowpark_opt_wh set max_concurrency_level = 1\").collect()"
   ]
  },
  {
   "cell_type": "code",
   "execution_count": 26,
   "metadata": {},
   "outputs": [],
   "source": [
    "# Use Snowpark Optimized Warehouse\n",
    "\n",
    "session.use_warehouse('snowpark_opt_wh')"
   ]
  },
  {
   "cell_type": "markdown",
   "metadata": {},
   "source": [
    "### 4.1 Prepare data"
   ]
  },
  {
   "cell_type": "code",
   "execution_count": 27,
   "metadata": {},
   "outputs": [],
   "source": [
    "# Prepare Data for modeling\n",
    "feature_cols = df_filtered.columns\n",
    "feature_cols.remove('TOTAL_SALES')\n",
    "target_col = 'TOTAL_SALES'"
   ]
  },
  {
   "cell_type": "code",
   "execution_count": 28,
   "metadata": {},
   "outputs": [
    {
     "data": {
      "text/plain": [
       "20"
      ]
     },
     "execution_count": 28,
     "metadata": {},
     "output_type": "execute_result"
    }
   ],
   "source": [
    "len(feature_cols)"
   ]
  },
  {
   "cell_type": "code",
   "execution_count": 29,
   "metadata": {},
   "outputs": [],
   "source": [
    "# Save the train and test sets as time stamped tables in Snowflake\n",
    "snowdf_train, snowdf_test = df_filtered.random_split([0.8, 0.2], seed=82) \n",
    "snowdf_train.write.mode(\"overwrite\").save_as_table(\"tpcds_xgboost.demo.tpc_TRAIN\")\n",
    "snowdf_test.write.mode(\"overwrite\").save_as_table(\"tpcds_xgboost.demo.tpc_TEST\")"
   ]
  },
  {
   "cell_type": "markdown",
   "metadata": {},
   "source": [
    "### 4.2 Initialize Model and Fit"
   ]
  },
  {
   "cell_type": "code",
   "execution_count": 30,
   "metadata": {},
   "outputs": [],
   "source": [
    "snowdf_train = session.table(\"tpcds_xgboost.demo.tpc_TRAIN\")\n",
    "snowdf_test = session.table(\"tpcds_xgboost.demo.tpc_TEST\")"
   ]
  },
  {
   "cell_type": "code",
   "execution_count": 31,
   "metadata": {},
   "outputs": [
    {
     "data": {
      "text/plain": [
       "49269066"
      ]
     },
     "execution_count": 31,
     "metadata": {},
     "output_type": "execute_result"
    }
   ],
   "source": [
    "snowdf_train.count()"
   ]
  },
  {
   "cell_type": "code",
   "execution_count": 32,
   "metadata": {},
   "outputs": [
    {
     "name": "stdout",
     "output_type": "stream",
     "text": [
      "--------------------------------------------------------------------------------------------------------------------------------------------------------------------------------------------------------------------------------------------------------------------------------------------------------------------------------------------------------------------------------------------------------------------------------------------------------------------------------------------------------------------------------------------------------------------------\n",
      "|\"CD_GENDER_F\"  |\"CD_GENDER_M\"  |\"CD_MARITAL_STATUS_D\"  |\"CD_MARITAL_STATUS_M\"  |\"CD_MARITAL_STATUS_S\"  |\"CD_MARITAL_STATUS_U\"  |\"CD_MARITAL_STATUS_W\"  |\"CD_CREDIT_RATING_GOOD\"  |\"CD_CREDIT_RATING_HIGHRISK\"  |\"CD_CREDIT_RATING_LOWRISK\"  |\"CD_CREDIT_RATING_UNKNOWN\"  |\"CD_EDUCATION_STATUS_2YRDEGREE\"  |\"CD_EDUCATION_STATUS_4YRDEGREE\"  |\"CD_EDUCATION_STATUS_ADVANCEDDEGREE\"  |\"CD_EDUCATION_STATUS_COLLEGE\"  |\"CD_EDUCATION_STATUS_PRIMARY\"  |\"CD_EDUCATION_STATUS_SECONDARY\"  |\"CD_EDUCATION_STATUS_UNKNOWN\"  |\"C_BIRTH_YEAR\"  |\"CD_DEP_COUNT\"  |\"TOTAL_SALES\"  |\n",
      "--------------------------------------------------------------------------------------------------------------------------------------------------------------------------------------------------------------------------------------------------------------------------------------------------------------------------------------------------------------------------------------------------------------------------------------------------------------------------------------------------------------------------------------------------------------------------\n",
      "|1.0            |0.0            |0.0                    |0.0                    |1.0                    |0.0                    |0.0                    |1.0                      |0.0                          |0.0                         |0.0                         |0.0                              |0.0                              |0.0                                   |0.0                            |0.0                            |0.0                              |1.0                            |1971            |0               |30836.49       |\n",
      "|1.0            |0.0            |0.0                    |0.0                    |1.0                    |0.0                    |0.0                    |1.0                      |0.0                          |0.0                         |0.0                         |0.0                              |0.0                              |0.0                                   |0.0                            |0.0                            |0.0                              |1.0                            |1972            |0               |29777.12       |\n",
      "--------------------------------------------------------------------------------------------------------------------------------------------------------------------------------------------------------------------------------------------------------------------------------------------------------------------------------------------------------------------------------------------------------------------------------------------------------------------------------------------------------------------------------------------------------------------------\n",
      "\n"
     ]
    }
   ],
   "source": [
    "snowdf_train.show(2)"
   ]
  },
  {
   "cell_type": "code",
   "execution_count": 33,
   "metadata": {},
   "outputs": [],
   "source": [
    "##Local XGBoost Model -- Painful to move it outside of Snowflake, but possible\n",
    "snowdf_train1 = snowdf_train.limit(5000000)\n",
    "snowdf_train_pd  = pd.DataFrame(snowdf_train1.collect())\n",
    "y = snowdf_train_pd['TOTAL_SALES']\n",
    "# Selecting the rest of the columns for X\n",
    "X = snowdf_train_pd.drop('TOTAL_SALES', axis=1)\n"
   ]
  },
  {
   "cell_type": "code",
   "execution_count": 34,
   "metadata": {},
   "outputs": [
    {
     "data": {
      "text/plain": [
       "<snowflake.ml.modeling.xgboost.xgb_regressor.XGBRegressor at 0x16befaf70>"
      ]
     },
     "execution_count": 34,
     "metadata": {},
     "output_type": "execute_result"
    }
   ],
   "source": [
    "# Define the XGBRegressor and fit the model inside snowflake\n",
    "xgbmodel = XGBRegressor(random_state=123, input_cols=feature_cols, label_cols=target_col, output_cols='PREDICTION')\n",
    "xgbmodel.fit(snowdf_train)\n",
    "#4 minutes for training"
   ]
  },
  {
   "cell_type": "markdown",
   "metadata": {},
   "source": [
    "### 4.3 Predict on test set\n",
    "You can also get the underlying SQL if you want to run that in the Activity Viewer"
   ]
  },
  {
   "cell_type": "code",
   "execution_count": 40,
   "metadata": {},
   "outputs": [
    {
     "name": "stdout",
     "output_type": "stream",
     "text": [
      "--------------------------------------------------------------------------------------------------------------------------------------------------------------------------------------------------------------------------------------------------------------------------------------------------------------------------------------------------------------------------------------------------------------------------------------------------------------------------------------------------------------------------------------------------------------------------------------------\n",
      "|\"TOTAL_SALES\"  |\"CD_MARITAL_STATUS_U\"  |\"CD_MARITAL_STATUS_M\"  |\"CD_CREDIT_RATING_GOOD\"  |\"CD_MARITAL_STATUS_S\"  |\"CD_MARITAL_STATUS_D\"  |\"CD_CREDIT_RATING_HIGHRISK\"  |\"CD_EDUCATION_STATUS_COLLEGE\"  |\"CD_EDUCATION_STATUS_UNKNOWN\"  |\"CD_EDUCATION_STATUS_2YRDEGREE\"  |\"CD_EDUCATION_STATUS_PRIMARY\"  |\"CD_CREDIT_RATING_UNKNOWN\"  |\"CD_GENDER_F\"  |\"C_BIRTH_YEAR\"  |\"CD_EDUCATION_STATUS_ADVANCEDDEGREE\"  |\"CD_EDUCATION_STATUS_SECONDARY\"  |\"CD_MARITAL_STATUS_W\"  |\"CD_CREDIT_RATING_LOWRISK\"  |\"CD_DEP_COUNT\"  |\"CD_GENDER_M\"  |\"CD_EDUCATION_STATUS_4YRDEGREE\"  |\"PREDICTION\"     |\n",
      "--------------------------------------------------------------------------------------------------------------------------------------------------------------------------------------------------------------------------------------------------------------------------------------------------------------------------------------------------------------------------------------------------------------------------------------------------------------------------------------------------------------------------------------------------------------------------------------------\n",
      "|30836.49       |0.0                    |0.0                    |1.0                      |1.0                    |0.0                    |0.0                          |0.0                            |1.0                            |0.0                              |0.0                            |0.0                         |1.0            |1971            |0.0                                   |0.0                              |0.0                    |0.0                         |0               |0.0            |0.0                              |32321.095703125  |\n",
      "|29777.12       |0.0                    |0.0                    |1.0                      |1.0                    |0.0                    |0.0                          |0.0                            |1.0                            |0.0                              |0.0                            |0.0                         |1.0            |1972            |0.0                                   |0.0                              |0.0                    |0.0                         |0               |0.0            |0.0                              |32314.623046875  |\n",
      "|61497.16       |0.0                    |0.0                    |1.0                      |1.0                    |0.0                    |0.0                          |0.0                            |1.0                            |0.0                              |0.0                            |0.0                         |1.0            |1955            |0.0                                   |0.0                              |0.0                    |0.0                         |0               |0.0            |0.0                              |32313.453125     |\n",
      "|34888.1        |0.0                    |0.0                    |1.0                      |1.0                    |0.0                    |0.0                          |0.0                            |1.0                            |0.0                              |0.0                            |0.0                         |1.0            |1933            |0.0                                   |0.0                              |0.0                    |0.0                         |0               |0.0            |0.0                              |32347.708984375  |\n",
      "|28999.83       |0.0                    |0.0                    |1.0                      |1.0                    |0.0                    |0.0                          |0.0                            |1.0                            |0.0                              |0.0                            |0.0                         |1.0            |1949            |0.0                                   |0.0                              |0.0                    |0.0                         |0               |0.0            |0.0                              |32292.115234375  |\n",
      "|31618.39       |0.0                    |0.0                    |1.0                      |1.0                    |0.0                    |0.0                          |0.0                            |1.0                            |0.0                              |0.0                            |0.0                         |1.0            |1945            |0.0                                   |0.0                              |0.0                    |0.0                         |0               |0.0            |0.0                              |32365.205078125  |\n",
      "|31863.44       |0.0                    |0.0                    |1.0                      |1.0                    |0.0                    |0.0                          |0.0                            |1.0                            |0.0                              |0.0                            |0.0                         |1.0            |1965            |0.0                                   |0.0                              |0.0                    |0.0                         |0               |0.0            |0.0                              |32337.091796875  |\n",
      "|62254.86       |0.0                    |0.0                    |1.0                      |1.0                    |0.0                    |0.0                          |0.0                            |1.0                            |0.0                              |0.0                            |0.0                         |1.0            |1956            |0.0                                   |0.0                              |0.0                    |0.0                         |0               |0.0            |0.0                              |32298.26171875   |\n",
      "|36602.04       |0.0                    |0.0                    |1.0                      |1.0                    |0.0                    |0.0                          |0.0                            |1.0                            |0.0                              |0.0                            |0.0                         |1.0            |1979            |0.0                                   |0.0                              |0.0                    |0.0                         |0               |0.0            |0.0                              |32318.376953125  |\n",
      "|28278.97       |0.0                    |0.0                    |1.0                      |1.0                    |0.0                    |0.0                          |0.0                            |1.0                            |0.0                              |0.0                            |0.0                         |1.0            |1974            |0.0                                   |0.0                              |0.0                    |0.0                         |0               |0.0            |0.0                              |32335.185546875  |\n",
      "--------------------------------------------------------------------------------------------------------------------------------------------------------------------------------------------------------------------------------------------------------------------------------------------------------------------------------------------------------------------------------------------------------------------------------------------------------------------------------------------------------------------------------------------------------------------------------------------\n",
      "\n"
     ]
    }
   ],
   "source": [
    "# Score the data using the fitted xgbmodel -- #train predictations are fun, because its larger, but takes a few seconds\n",
    "temp = xgbmodel.predict(snowdf_train)\n",
    "temp.show()"
   ]
  },
  {
   "cell_type": "markdown",
   "metadata": {},
   "source": [
    "### 4.4 Save to the model registry\n",
    "\n",
    "If you get an error, you might be using a version of XGboost that is not supported in snowflake."
   ]
  },
  {
   "cell_type": "code",
   "execution_count": 39,
   "metadata": {},
   "outputs": [],
   "source": [
    "from snowflake.ml.registry import Registry\n",
    "\n",
    "reg = Registry(session=session, database_name=\"RAJIV\", schema_name=\"PUBLIC\")\n",
    "\n",
    "model_ref = reg.log_model(\n",
    "    model_name=\"TPCDS_XGBOOST_DEMO\",\n",
    "    version_name=\"v6\",    \n",
    "    model=xgbmodel,\n",
    "    sample_input_data=snowdf_train,\n",
    ")"
   ]
  },
  {
   "cell_type": "code",
   "execution_count": null,
   "metadata": {},
   "outputs": [],
   "source": [
    "session.close()"
   ]
  }
 ],
 "metadata": {
  "kernelspec": {
   "display_name": "Python 3 (ipykernel)",
   "language": "python",
   "name": "python3"
  },
  "language_info": {
   "codemirror_mode": {
    "name": "ipython",
    "version": 3
   },
   "file_extension": ".py",
   "mimetype": "text/x-python",
   "name": "python",
   "nbconvert_exporter": "python",
   "pygments_lexer": "ipython3",
   "version": "3.8.18"
  },
  "vscode": {
   "interpreter": {
    "hash": "353961104846001ffa111d7d98923933ef13c251c8e9b3ebc563f652eb6b45f2"
   }
  }
 },
 "nbformat": 4,
 "nbformat_minor": 2
}
