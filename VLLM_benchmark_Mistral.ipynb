{
 "cells": [
  {
   "cell_type": "markdown",
   "id": "49bbf1ab",
   "metadata": {},
   "source": [
    "## Script for benchmarking VLLM with Mistral"
   ]
  },
  {
   "cell_type": "markdown",
   "id": "813a2802",
   "metadata": {},
   "source": [
    "I got Mistral running using this [medium post](https://medium.com/snowflake/generating-product-descriptions-with-mistral-7b-instruct-v0-2-with-vllm-serving-3fe7110b048b) and \n",
    "See all the models running on the VLLM server Eda's [Github repo](https://github.com/edemiraydin/mistral_vllm_demo/tree/main)\n",
    "\n",
    "I will do more notebooks/material on LLMs. I am starting with traditional ML.\n",
    "\n",
    "This was a quick notebook for benchmarking VLLM."
   ]
  },
  {
   "cell_type": "code",
   "execution_count": 8,
   "id": "62c24345",
   "metadata": {},
   "outputs": [
    {
     "name": "stdout",
     "output_type": "stream",
     "text": [
      "{\"object\":\"list\",\"data\":[{\"id\":\"mistralai/Mistral-7B-Instruct-v0.2\",\"object\":\"model\",\"created\":1706369454,\"owned_by\":\"vllm\",\"root\":\"mistralai/Mistral-7B-Instruct-v0.2\",\"parent\":null,\"permission\":[{\"id\":\"modelperm-c1e2fd8706004bae8554a5101608bf11\",\"object\":\"model_permission\",\"created\":1706369454,\"allow_create_engine\":false,\"allow_sampling\":true,\"allow_logprobs\":true,\"allow_search_indices\":false,\"allow_view\":true,\"allow_fine_tuning\":false,\"organization\":\"*\",\"group\":null,\"is_blocking\":false}]}]}"
     ]
    }
   ],
   "source": [
    "!curl http://localhost:8000/v1/models"
   ]
  },
  {
   "cell_type": "markdown",
   "id": "93f5aa8f",
   "metadata": {},
   "source": [
    "Verify Mistral is working"
   ]
  },
  {
   "cell_type": "code",
   "execution_count": null,
   "id": "9caffaaa",
   "metadata": {},
   "outputs": [
    {
     "name": "stdout",
     "output_type": "stream",
     "text": [
      "{\"id\":\"cmpl-c57675d45db14f76a9a7d9f836cb3de3\",\"object\":\"text_completion\",\"created\":48076,\"model\":\"mistralai/Mistral-7B-Instruct-v0.2\",\"choices\":[{\"index\":0,\"text\":\" Snowflake is a cloud-based data warehousing platform that provides an elastic, scalable, and secure solution for managing and analyzing large volumes of data. Snowflake was designed to make it easier and more cost-effective to move and analyze data in the cloud, compared to traditional on-premises data warehousing solutions.\\n\\nSnowflake separates the compute and storage layers, allowing users to scale each independently based on their needs. It also supports various data formats and sources, including structured data in CSV, JSON, Avro, and Parquet formats, as well as semi-structured and unstructured data.\\n\\nSnowflake offers several features that make it an attractive option for data analytics and business intelligence applications, such as:\\n\\n* Multi-cloud support: Snowflake is available on multiple cloud platforms, including Amazon Web Services (AWS), Microsoft Azure, and Google Cloud Platform (GCP).\\n\",\"logprobs\":null,\"finish_reason\":\"length\"}],\"usage\":{\"prompt_tokens\":14,\"total_tokens\":214,\"completion_tokens\":200}}"
     ]
    }
   ],
   "source": [
    "!curl http://localhost:8000/v1/completions \\\n",
    "        -H \"Content-Type: application/json\" \\\n",
    "        -d '{\"model\": \"mistralai/Mistral-7B-Instruct-v0.2\", \\\n",
    "        \"prompt\": \"[INST]What is Snowflake [/INST] \", \\\n",
    "        \"temperature\": 0, \"max_tokens\":200 }'"
   ]
  },
  {
   "cell_type": "markdown",
   "id": "f95b8f56",
   "metadata": {},
   "source": [
    "Running the model in the notebook - You can add in a lot of other parameters into completions like temperature"
   ]
  },
  {
   "cell_type": "code",
   "execution_count": 31,
   "id": "a230db10",
   "metadata": {},
   "outputs": [
    {
     "name": "stdout",
     "output_type": "stream",
     "text": [
      "Completion result: Completion(id='cmpl-529c4a947aa849269f1158a7c8a01d25', choices=[CompletionChoice(finish_reason='length', index=0, logprobs=None, text=' town known for its drama, both in real life and on the stage. It')], created=53920, model='mistralai/Mistral-7B-Instruct-v0.2', object='text_completion', system_fingerprint=None, usage=CompletionUsage(completion_tokens=16, prompt_tokens=5, total_tokens=21))\n"
     ]
    }
   ],
   "source": [
    "from openai import OpenAI\n",
    "\n",
    "# Modify OpenAI's API key and API base to use vLLM's API server.\n",
    "openai_api_key = \"EMPTY\"\n",
    "openai_api_base = \"http://localhost:8000/v1\"\n",
    "client = OpenAI(\n",
    "    api_key=openai_api_key,\n",
    "    base_url=openai_api_base,\n",
    ")\n",
    "prompt = \"San Francisco is a\"\n",
    "\n",
    "completion = client.completions.create(model=\"mistralai/Mistral-7B-Instruct-v0.2\",\n",
    "                                      prompt=prompt)\n",
    "print(\"Completion result:\", completion)"
   ]
  },
  {
   "cell_type": "markdown",
   "id": "20e3fc3e",
   "metadata": {},
   "source": [
    "This benchmarking script comes from Hamel's [inference notes](https://hamel.dev/notes/llm/inference/03_inference.html)"
   ]
  },
  {
   "cell_type": "code",
   "execution_count": 53,
   "id": "166f551e",
   "metadata": {},
   "outputs": [],
   "source": [
    "questions = [\n",
    "    # Coding questions\n",
    "    \"Implement a Python function to compute the Fibonacci numbers.\",\n",
    "    \"Write a Rust function that performs binary exponentiation.\",\n",
    "    \"What are the differences between Javascript and Python?\",\n",
    "    # Literature\n",
    "    \"Write a story in the style of James Joyce about a trip to the Australian outback in 2083, to see robots in the beautiful desert.\",\n",
    "    \"Who does Harry turn into a balloon?\",\n",
    "    \"Write a tale about a time-traveling historian who's determined to witness the most significant events in human history.\",\n",
    "    # Math\n",
    "    \"What is the product of 9 and 8?\",\n",
    "    \"If a train travels 120 kilometers in 2 hours, what is its average speed?\",\n",
    "    \"Think through this step by step. If the sequence a_n is defined by a_1 = 3, a_2 = 5, and a_n = a_(n-1) + a_(n-2) for n > 2, find a_6.\",\n",
    "]"
   ]
  },
  {
   "cell_type": "markdown",
   "id": "ddf6447f",
   "metadata": {},
   "source": [
    "Simplified here, but you can add in more"
   ]
  },
  {
   "cell_type": "code",
   "execution_count": 62,
   "id": "d2414838",
   "metadata": {},
   "outputs": [],
   "source": [
    "def generate(prompt, note=None):\n",
    "    response = {'prompt': prompt, 'note': note}\n",
    "    #sampling_params = SamplingParams(\n",
    "    #    temperature=1.0,\n",
    "    #    top_p=1,\n",
    "    #    max_tokens=200,\n",
    "    #)\n",
    "    start = time.perf_counter()\n",
    "    result = client.completions.create(model=\"mistralai/Mistral-7B-Instruct-v0.2\",\n",
    "                                      prompt=prompt)\n",
    "    request_time = time.perf_counter() - start\n",
    "\n",
    "    for output in result:\n",
    "        response['tok_count'] = result.usage.total_tokens\n",
    "        response['time'] = request_time\n",
    "        response['answer'] = result.choices[0].text\n",
    "    \n",
    "    return response"
   ]
  },
  {
   "cell_type": "code",
   "execution_count": 63,
   "id": "6460a3e8",
   "metadata": {},
   "outputs": [],
   "source": [
    "import time\n",
    "import pandas as pd\n",
    "counter = 1\n",
    "responses = []\n",
    "\n",
    "for q in questions:\n",
    "    response = generate(prompt=q, note='vLLM')\n",
    "    if counter >= 2:\n",
    "        responses.append(response)\n",
    "    counter += 1\n",
    "    \n",
    "df = pd.DataFrame(responses)\n",
    "df.to_csv('bench-vllm.csv', index=False)"
   ]
  },
  {
   "cell_type": "code",
   "execution_count": 64,
   "id": "13e110fe",
   "metadata": {},
   "outputs": [
    {
     "data": {
      "text/html": [
       "<div>\n",
       "<style scoped>\n",
       "    .dataframe tbody tr th:only-of-type {\n",
       "        vertical-align: middle;\n",
       "    }\n",
       "\n",
       "    .dataframe tbody tr th {\n",
       "        vertical-align: top;\n",
       "    }\n",
       "\n",
       "    .dataframe thead th {\n",
       "        text-align: right;\n",
       "    }\n",
       "</style>\n",
       "<table border=\"1\" class=\"dataframe\">\n",
       "  <thead>\n",
       "    <tr style=\"text-align: right;\">\n",
       "      <th></th>\n",
       "      <th>prompt</th>\n",
       "      <th>note</th>\n",
       "      <th>tok_count</th>\n",
       "      <th>time</th>\n",
       "      <th>answer</th>\n",
       "    </tr>\n",
       "  </thead>\n",
       "  <tbody>\n",
       "    <tr>\n",
       "      <th>0</th>\n",
       "      <td>Write a Rust function that performs binary exp...</td>\n",
       "      <td>vLLM</td>\n",
       "      <td>28</td>\n",
       "      <td>0.531325</td>\n",
       "      <td>Note: you assumed operator overloading in Rus...</td>\n",
       "    </tr>\n",
       "    <tr>\n",
       "      <th>1</th>\n",
       "      <td>What are the differences between Javascript an...</td>\n",
       "      <td>vLLM</td>\n",
       "      <td>28</td>\n",
       "      <td>0.530939</td>\n",
       "      <td>\\n\\nJavascript and Python are both high-level ...</td>\n",
       "    </tr>\n",
       "    <tr>\n",
       "      <th>2</th>\n",
       "      <td>Write a story in the style of James Joyce abou...</td>\n",
       "      <td>vLLM</td>\n",
       "      <td>51</td>\n",
       "      <td>0.530167</td>\n",
       "      <td>\\n\\nI. Voyage to the Inland Sea\\n\\nThe sun</td>\n",
       "    </tr>\n",
       "    <tr>\n",
       "      <th>3</th>\n",
       "      <td>Who does Harry turn into a balloon?</td>\n",
       "      <td>vLLM</td>\n",
       "      <td>26</td>\n",
       "      <td>0.530193</td>\n",
       "      <td>In \"Harry Potter and the Chamber of Secrets,\"...</td>\n",
       "    </tr>\n",
       "    <tr>\n",
       "      <th>4</th>\n",
       "      <td>Write a tale about a time-traveling historian ...</td>\n",
       "      <td>vLLM</td>\n",
       "      <td>42</td>\n",
       "      <td>0.527757</td>\n",
       "      <td>\\n\\nOnce upon a time, in a quaint little town ...</td>\n",
       "    </tr>\n",
       "    <tr>\n",
       "      <th>5</th>\n",
       "      <td>What is the product of 9 and 8?</td>\n",
       "      <td>vLLM</td>\n",
       "      <td>28</td>\n",
       "      <td>0.531444</td>\n",
       "      <td>\\nAnswer: The product of 9 and 8 is 72</td>\n",
       "    </tr>\n",
       "    <tr>\n",
       "      <th>6</th>\n",
       "      <td>If a train travels 120 kilometers in 2 hours, ...</td>\n",
       "      <td>vLLM</td>\n",
       "      <td>38</td>\n",
       "      <td>0.528193</td>\n",
       "      <td>Let's calculate the average speed step by ste...</td>\n",
       "    </tr>\n",
       "    <tr>\n",
       "      <th>7</th>\n",
       "      <td>Think through this step by step. If the sequen...</td>\n",
       "      <td>vLLM</td>\n",
       "      <td>76</td>\n",
       "      <td>0.532794</td>\n",
       "      <td>\\n\\nFirst, we have to calculate a_3 and a_4 using</td>\n",
       "    </tr>\n",
       "  </tbody>\n",
       "</table>\n",
       "</div>"
      ],
      "text/plain": [
       "                                              prompt  note  tok_count  \\\n",
       "0  Write a Rust function that performs binary exp...  vLLM         28   \n",
       "1  What are the differences between Javascript an...  vLLM         28   \n",
       "2  Write a story in the style of James Joyce abou...  vLLM         51   \n",
       "3                Who does Harry turn into a balloon?  vLLM         26   \n",
       "4  Write a tale about a time-traveling historian ...  vLLM         42   \n",
       "5                    What is the product of 9 and 8?  vLLM         28   \n",
       "6  If a train travels 120 kilometers in 2 hours, ...  vLLM         38   \n",
       "7  Think through this step by step. If the sequen...  vLLM         76   \n",
       "\n",
       "       time                                             answer  \n",
       "0  0.531325   Note: you assumed operator overloading in Rus...  \n",
       "1  0.530939  \\n\\nJavascript and Python are both high-level ...  \n",
       "2  0.530167         \\n\\nI. Voyage to the Inland Sea\\n\\nThe sun  \n",
       "3  0.530193   In \"Harry Potter and the Chamber of Secrets,\"...  \n",
       "4  0.527757  \\n\\nOnce upon a time, in a quaint little town ...  \n",
       "5  0.531444             \\nAnswer: The product of 9 and 8 is 72  \n",
       "6  0.528193   Let's calculate the average speed step by ste...  \n",
       "7  0.532794  \\n\\nFirst, we have to calculate a_3 and a_4 using  "
      ]
     },
     "execution_count": 64,
     "metadata": {},
     "output_type": "execute_result"
    }
   ],
   "source": [
    "df"
   ]
  }
 ],
 "metadata": {
  "kernelspec": {
   "display_name": "Python 3 (ipykernel)",
   "language": "python",
   "name": "python3"
  },
  "language_info": {
   "codemirror_mode": {
    "name": "ipython",
    "version": 3
   },
   "file_extension": ".py",
   "mimetype": "text/x-python",
   "name": "python",
   "nbconvert_exporter": "python",
   "pygments_lexer": "ipython3",
   "version": "3.10.6"
  }
 },
 "nbformat": 4,
 "nbformat_minor": 5
}
